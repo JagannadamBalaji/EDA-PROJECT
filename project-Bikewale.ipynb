{
 "cells": [
  {
   "cell_type": "code",
   "execution_count": 1,
   "id": "41fa488b",
   "metadata": {},
   "outputs": [],
   "source": [
    "import pandas as pd\n",
    "import numpy as np\n",
    "import requests\n",
    "from bs4 import BeautifulSoup\n",
    "import matplotlib.pyplot as plt\n",
    "import seaborn as sns\n",
    "import re\n"
   ]
  },
  {
   "cell_type": "code",
   "execution_count": 2,
   "id": "e76dc378",
   "metadata": {},
   "outputs": [],
   "source": [
    "url='https://www.bikewale.com/used/bikes-in-bangalore/'"
   ]
  },
  {
   "cell_type": "code",
   "execution_count": 3,
   "id": "ed3d4fee",
   "metadata": {},
   "outputs": [
    {
     "data": {
      "text/plain": [
       "'https://www.bikewale.com/used/bikes-in-bangalore/'"
      ]
     },
     "execution_count": 3,
     "metadata": {},
     "output_type": "execute_result"
    }
   ],
   "source": [
    "url"
   ]
  },
  {
   "cell_type": "code",
   "execution_count": 4,
   "id": "2d63033f",
   "metadata": {},
   "outputs": [],
   "source": [
    "page=requests.get(url)"
   ]
  },
  {
   "cell_type": "code",
   "execution_count": 5,
   "id": "722796a3",
   "metadata": {},
   "outputs": [
    {
     "data": {
      "text/plain": [
       "200"
      ]
     },
     "execution_count": 5,
     "metadata": {},
     "output_type": "execute_result"
    }
   ],
   "source": [
    "page.status_code"
   ]
  },
  {
   "cell_type": "code",
   "execution_count": 6,
   "id": "c8da28b6",
   "metadata": {},
   "outputs": [],
   "source": [
    "html = page.text"
   ]
  },
  {
   "cell_type": "code",
   "execution_count": 7,
   "id": "eec139af",
   "metadata": {},
   "outputs": [],
   "source": [
    "soup=BeautifulSoup(html)"
   ]
  },
  {
   "cell_type": "markdown",
   "id": "8f5e1ee9",
   "metadata": {},
   "source": [
    "# 1.name"
   ]
  },
  {
   "cell_type": "code",
   "execution_count": 22,
   "id": "5f054b68",
   "metadata": {},
   "outputs": [],
   "source": [
    "a=soup.find_all('a',class_=\"text-truncate text-black\")\n",
    "name=[]\n",
    "for i in a:\n",
    "    b=i.text\n",
    "    name.append(i.text)"
   ]
  },
  {
   "cell_type": "code",
   "execution_count": 23,
   "id": "ea637228",
   "metadata": {
    "collapsed": true
   },
   "outputs": [
    {
     "data": {
      "text/plain": [
       "['2019, Bajaj Pulsar NS200 ABS - BS IV ',\n",
       " '2018, KTM 250 Duke Standard ',\n",
       " '2022, TVS Ronin TD - Dual Channel ABS ',\n",
       " '2011, Bajaj Pulsar 150 Kick Start ',\n",
       " '2013, Honda Dio Old Dio ',\n",
       " '2020, Yamaha YZF R15 V3 [2018 - 2021] Dual Channel ABS ',\n",
       " '2022, Honda CB350RS Monotone ',\n",
       " '2012, Royal Enfield Thunderbird Twinspark Standard ',\n",
       " '2017, Honda CB Hornet 160R STD - 2017 ',\n",
       " '2013, Vespa LX 125 Standard ',\n",
       " '2017, Bajaj Pulsar RS 200 ABS - BS IV ',\n",
       " '2018, Bajaj Avenger Street 220 Standard ',\n",
       " '2015, Bajaj Discover 150S Disc ',\n",
       " '2019, Hero Passion XPro Disc ',\n",
       " '2011, TVS Scooty Pep Plus Standard ',\n",
       " '2012, Honda Activa [2000-2015] Standard ',\n",
       " '2010, Bajaj Pulsar 150 Standard ',\n",
       " '2017, Bajaj Pulsar 180 Bikini Fairing ',\n",
       " '2018, Bajaj Avenger Street 220 Standard ',\n",
       " '2016, Bajaj Avenger Street 160 Standard - BS IV ']"
      ]
     },
     "execution_count": 23,
     "metadata": {},
     "output_type": "execute_result"
    }
   ],
   "source": [
    "name"
   ]
  },
  {
   "cell_type": "code",
   "execution_count": 24,
   "id": "5b53f629",
   "metadata": {},
   "outputs": [
    {
     "data": {
      "text/plain": [
       "20"
      ]
     },
     "execution_count": 24,
     "metadata": {},
     "output_type": "execute_result"
    }
   ],
   "source": [
    "len(name)"
   ]
  },
  {
   "cell_type": "markdown",
   "id": "814f6a9f",
   "metadata": {},
   "source": [
    "# 2.price"
   ]
  },
  {
   "cell_type": "code",
   "execution_count": 25,
   "id": "0c7d58a5",
   "metadata": {},
   "outputs": [],
   "source": [
    "s=soup.find_all('span',class_=\"font22 text-bold\")\n",
    "price=[]\n",
    "for i in s:\n",
    "    g=i.text\n",
    "    price.append(i.text)"
   ]
  },
  {
   "cell_type": "code",
   "execution_count": 26,
   "id": "1ecd5de7",
   "metadata": {
    "collapsed": true
   },
   "outputs": [
    {
     "data": {
      "text/plain": [
       "['1,20,000 ',\n",
       " '1,60,000 ',\n",
       " '2,00,000 ',\n",
       " '25,000 ',\n",
       " '30,000 ',\n",
       " '2,00,000 ',\n",
       " '2,50,000 ',\n",
       " '85,000 ',\n",
       " '60,000 ',\n",
       " '35,000 ',\n",
       " '1,20,000 ',\n",
       " '80,000 ',\n",
       " '28,000 ',\n",
       " '60,000 ',\n",
       " '18,000 ',\n",
       " '29,999 ',\n",
       " '30,000 ',\n",
       " '60,000 ',\n",
       " '64,000 ',\n",
       " '65,000 ']"
      ]
     },
     "execution_count": 26,
     "metadata": {},
     "output_type": "execute_result"
    }
   ],
   "source": [
    "price"
   ]
  },
  {
   "cell_type": "code",
   "execution_count": 27,
   "id": "c28955fd",
   "metadata": {},
   "outputs": [
    {
     "data": {
      "text/plain": [
       "20"
      ]
     },
     "execution_count": 27,
     "metadata": {},
     "output_type": "execute_result"
    }
   ],
   "source": [
    "len(price)"
   ]
  },
  {
   "cell_type": "markdown",
   "id": "4b7897ca",
   "metadata": {},
   "source": [
    "# 3.kilometers\n",
    "# 4.Location"
   ]
  },
  {
   "cell_type": "code",
   "execution_count": 28,
   "id": "69aa8e32",
   "metadata": {},
   "outputs": [],
   "source": [
    "s=soup.find_all('div',class_=\"grid-6 alpha omega\")\n",
    "kms=[]\n",
    "location=[]\n",
    "for i in range(0,len(s)):\n",
    "    if (i%2==1):\n",
    "        location.append(s[i].text)\n",
    "    else:\n",
    "        kms.append(s[i].text)\n",
    "        \n",
    "        \n",
    "\n",
    "    \n",
    "    "
   ]
  },
  {
   "cell_type": "code",
   "execution_count": 29,
   "id": "a3e16be1",
   "metadata": {},
   "outputs": [
    {
     "data": {
      "text/plain": [
       "['8,000  kms',\n",
       " '2,500  kms',\n",
       " '1,400  kms',\n",
       " '55,000  kms',\n",
       " '45,000  kms',\n",
       " '25,000  kms',\n",
       " '600  kms',\n",
       " '65,000  kms',\n",
       " '36,700  kms',\n",
       " '81,866  kms',\n",
       " '45,000  kms',\n",
       " '20,000  kms',\n",
       " '61,000  kms',\n",
       " '23,781  kms',\n",
       " '30,009  kms',\n",
       " '69,000  kms',\n",
       " '48,000  kms',\n",
       " '80,000  kms',\n",
       " '18,000  kms',\n",
       " '33,000  kms']"
      ]
     },
     "execution_count": 29,
     "metadata": {},
     "output_type": "execute_result"
    }
   ],
   "source": [
    "kms"
   ]
  },
  {
   "cell_type": "code",
   "execution_count": 30,
   "id": "1de8c0ea",
   "metadata": {},
   "outputs": [
    {
     "data": {
      "text/plain": [
       "20"
      ]
     },
     "execution_count": 30,
     "metadata": {},
     "output_type": "execute_result"
    }
   ],
   "source": [
    "len(kms)"
   ]
  },
  {
   "cell_type": "code",
   "execution_count": 31,
   "id": "298ec795",
   "metadata": {},
   "outputs": [
    {
     "data": {
      "text/plain": [
       "['Bangalore ',\n",
       " 'Bangalore ',\n",
       " 'Bangalore ',\n",
       " 'Bangalore ',\n",
       " 'Bangalore ',\n",
       " 'Bangalore ',\n",
       " 'Bangalore ',\n",
       " 'Bangalore ',\n",
       " 'Bangalore ',\n",
       " 'Bangalore ',\n",
       " 'Bangalore ',\n",
       " 'Bangalore ',\n",
       " 'Bangalore ',\n",
       " 'Bangalore ',\n",
       " 'Bangalore ',\n",
       " 'Bangalore ',\n",
       " 'Bangalore ',\n",
       " 'Bangalore ',\n",
       " 'Bangalore ',\n",
       " 'Bangalore ']"
      ]
     },
     "execution_count": 31,
     "metadata": {},
     "output_type": "execute_result"
    }
   ],
   "source": [
    "location"
   ]
  },
  {
   "cell_type": "code",
   "execution_count": 32,
   "id": "d431505e",
   "metadata": {},
   "outputs": [
    {
     "data": {
      "text/plain": [
       "20"
      ]
     },
     "execution_count": 32,
     "metadata": {},
     "output_type": "execute_result"
    }
   ],
   "source": [
    "len(location)"
   ]
  },
  {
   "cell_type": "markdown",
   "id": "0e639da6",
   "metadata": {},
   "source": [
    "# 5.update"
   ]
  },
  {
   "cell_type": "code",
   "execution_count": 33,
   "id": "d5ae6c0c",
   "metadata": {},
   "outputs": [],
   "source": [
    "e=soup.find_all('span',class_=\"font12 text-xt-light-grey\")\n",
    "update=[]\n",
    "for i in e:\n",
    "    s=i.text\n",
    "    update.append(i.text)\n",
    "                "
   ]
  },
  {
   "cell_type": "code",
   "execution_count": 34,
   "id": "fba271bc",
   "metadata": {},
   "outputs": [
    {
     "data": {
      "text/plain": [
       "['Updated on: 28 December 2022 ',\n",
       " 'Updated on: 28 December 2022 ',\n",
       " 'Updated on: 28 December 2022 ',\n",
       " 'Updated on: 28 December 2022 ',\n",
       " 'Updated on: 28 December 2022 ',\n",
       " 'Updated on: 28 December 2022 ',\n",
       " 'Updated on: 28 December 2022 ',\n",
       " 'Updated on: 27 December 2022 ',\n",
       " 'Updated on: 27 December 2022 ',\n",
       " 'Updated on: 27 December 2022 ',\n",
       " 'Updated on: 27 December 2022 ',\n",
       " 'Updated on: 26 December 2022 ',\n",
       " 'Updated on: 26 December 2022 ',\n",
       " 'Updated on: 26 December 2022 ',\n",
       " 'Updated on: 26 December 2022 ',\n",
       " 'Updated on: 26 December 2022 ',\n",
       " 'Updated on: 26 December 2022 ',\n",
       " 'Updated on: 26 December 2022 ',\n",
       " 'Updated on: 26 December 2022 ',\n",
       " 'Updated on: 26 December 2022 ']"
      ]
     },
     "execution_count": 34,
     "metadata": {},
     "output_type": "execute_result"
    }
   ],
   "source": [
    "update"
   ]
  },
  {
   "cell_type": "code",
   "execution_count": 35,
   "id": "1ae6b3c8",
   "metadata": {},
   "outputs": [
    {
     "data": {
      "text/plain": [
       "20"
      ]
     },
     "execution_count": 35,
     "metadata": {},
     "output_type": "execute_result"
    }
   ],
   "source": [
    "len(update)"
   ]
  },
  {
   "cell_type": "markdown",
   "id": "791d1759",
   "metadata": {},
   "source": [
    "# 6.owner\n",
    "# 7.year"
   ]
  },
  {
   "cell_type": "code",
   "execution_count": 36,
   "id": "fb8ac66a",
   "metadata": {},
   "outputs": [],
   "source": [
    "s=soup.find_all('div',class_=\"grid-6 alpha\")\n",
    "owner=[]\n",
    "year=[]\n",
    "for i in range(0,len(s)):\n",
    "    if (i%2==1):\n",
    "        owner.append(s[i].text)\n",
    "    else:\n",
    "        year.append(s[i].text)\n",
    "        \n",
    "        \n",
    "\n",
    "    "
   ]
  },
  {
   "cell_type": "code",
   "execution_count": 37,
   "id": "1927c5fc",
   "metadata": {},
   "outputs": [
    {
     "data": {
      "text/plain": [
       "['1st Owner',\n",
       " '1st Owner',\n",
       " '1st Owner',\n",
       " '1st Owner',\n",
       " '1st Owner',\n",
       " '1st Owner',\n",
       " '1st Owner',\n",
       " '1st Owner',\n",
       " '1st Owner',\n",
       " '1st Owner',\n",
       " '1st Owner',\n",
       " '1st Owner',\n",
       " '1st Owner',\n",
       " '1st Owner',\n",
       " '1st Owner',\n",
       " '1st Owner',\n",
       " '2nd Owner',\n",
       " '1st Owner',\n",
       " '1st Owner',\n",
       " '2nd Owner']"
      ]
     },
     "execution_count": 37,
     "metadata": {},
     "output_type": "execute_result"
    }
   ],
   "source": [
    "owner"
   ]
  },
  {
   "cell_type": "code",
   "execution_count": 38,
   "id": "2ce4c253",
   "metadata": {},
   "outputs": [
    {
     "data": {
      "text/plain": [
       "20"
      ]
     },
     "execution_count": 38,
     "metadata": {},
     "output_type": "execute_result"
    }
   ],
   "source": [
    "len(owner)"
   ]
  },
  {
   "cell_type": "code",
   "execution_count": 39,
   "id": "fe400c86",
   "metadata": {},
   "outputs": [
    {
     "data": {
      "text/plain": [
       "['2019 model',\n",
       " '2018 model',\n",
       " '2022 model',\n",
       " '2011 model',\n",
       " '2013 model',\n",
       " '2020 model',\n",
       " '2022 model',\n",
       " '2012 model',\n",
       " '2017 model',\n",
       " '2013 model',\n",
       " '2017 model',\n",
       " '2018 model',\n",
       " '2015 model',\n",
       " '2019 model',\n",
       " '2011 model',\n",
       " '2012 model',\n",
       " '2010 model',\n",
       " '2017 model',\n",
       " '2018 model',\n",
       " '2016 model']"
      ]
     },
     "execution_count": 39,
     "metadata": {},
     "output_type": "execute_result"
    }
   ],
   "source": [
    "year"
   ]
  },
  {
   "cell_type": "code",
   "execution_count": 40,
   "id": "9d0ed196",
   "metadata": {},
   "outputs": [
    {
     "data": {
      "text/plain": [
       "20"
      ]
     },
     "execution_count": 40,
     "metadata": {},
     "output_type": "execute_result"
    }
   ],
   "source": [
    "len(year)"
   ]
  },
  {
   "cell_type": "markdown",
   "id": "9ca03df9",
   "metadata": {},
   "source": [
    "## For multiple cities"
   ]
  },
  {
   "cell_type": "code",
   "execution_count": 41,
   "id": "889cd629",
   "metadata": {},
   "outputs": [],
   "source": [
    "import requests\n",
    "from bs4 import BeautifulSoup"
   ]
  },
  {
   "cell_type": "code",
   "execution_count": 42,
   "id": "008bc3bc",
   "metadata": {},
   "outputs": [],
   "source": [
    "list_urls=['bangalore','mumbai','nagpur','bhopal','indore','kalyan','hyderabad','delhi','pune','navi mumbai','visakhapatnam','chennai','coimbatore','madurai','chandigarh','bhubaneswar','noida','allahabad','surat',\n",
    "          'gurgaon','varanasi','dehradun','faridabad','nashik','thane','mysore','aurangabad','kolkata','patna','lucknow','agra','ghaziabad','ludhiana','vijaywada','jamshedpur','kolhapur','kochi','greater noida','vadadara',\n",
    "          'ahmedabad','jaipur','jodhpur','guwahati','mohali']\n",
    "names=[]\n",
    "kms=[]\n",
    "location=[]\n",
    "price=[]\n",
    "update=[]\n",
    "owner=[]\n",
    "year=[]\n",
    "for i in list_urls:\n",
    "    url=\"https://www.bikewale.com/used/bikes-in-\"+i+'/'\n",
    "    #print(url)\n",
    "    page=requests.get(url)\n",
    "    soup=BeautifulSoup(page.content)\n",
    "    \n",
    "    \n",
    "    # To get the names\n",
    "    for n in soup.find_all('a',class_=\"text-truncate text-black\"):\n",
    "        \n",
    "        names.append(n.text)\n",
    "        \n",
    "    # to get the kms and location\n",
    "    s=soup.find_all('div',class_=\"grid-6 alpha omega\")\n",
    "    for i in range(0,len(s)):\n",
    "        if (i%2==1):\n",
    "            location.append(s[i].text)\n",
    "        else:\n",
    "            kms.append(s[i].text)\n",
    "            \n",
    "    # to get the price\n",
    "    for g in soup.find_all('span',class_=\"font22 text-bold\"):\n",
    "        price.append(g.text)\n",
    "\n",
    "    # to get the update\n",
    "    for e in soup.find_all('span',class_=\"font12 text-xt-light-grey\"):\n",
    "        update.append(e.text)\n",
    "        \n",
    "        \n",
    "    # to get the owner and year\n",
    "    s=soup.find_all('div',class_=\"grid-6 alpha\")\n",
    "    for i in range(0,len(s)):\n",
    "        if (i%2==1):\n",
    "            owner.append(s[i].text)\n",
    "        else:\n",
    "            year.append(s[i].text)"
   ]
  },
  {
   "cell_type": "markdown",
   "id": "c9f56af1",
   "metadata": {},
   "source": [
    "# DataFrame"
   ]
  },
  {
   "cell_type": "code",
   "execution_count": 43,
   "id": "92a51d6b",
   "metadata": {},
   "outputs": [],
   "source": [
    "import pandas as pd"
   ]
  },
  {
   "cell_type": "code",
   "execution_count": 44,
   "id": "659cf6de",
   "metadata": {},
   "outputs": [
    {
     "data": {
      "text/html": [
       "<div>\n",
       "<style scoped>\n",
       "    .dataframe tbody tr th:only-of-type {\n",
       "        vertical-align: middle;\n",
       "    }\n",
       "\n",
       "    .dataframe tbody tr th {\n",
       "        vertical-align: top;\n",
       "    }\n",
       "\n",
       "    .dataframe thead th {\n",
       "        text-align: right;\n",
       "    }\n",
       "</style>\n",
       "<table border=\"1\" class=\"dataframe\">\n",
       "  <thead>\n",
       "    <tr style=\"text-align: right;\">\n",
       "      <th></th>\n",
       "      <th>Name</th>\n",
       "      <th>KMs_driven</th>\n",
       "      <th>Location</th>\n",
       "      <th>Price_in_rupees</th>\n",
       "      <th>Posted_on</th>\n",
       "      <th>Type_Owner</th>\n",
       "      <th>year</th>\n",
       "    </tr>\n",
       "  </thead>\n",
       "  <tbody>\n",
       "    <tr>\n",
       "      <th>0</th>\n",
       "      <td>2019, Bajaj Pulsar NS200 ABS - BS IV</td>\n",
       "      <td>8,000  kms</td>\n",
       "      <td>Bangalore</td>\n",
       "      <td>1,20,000</td>\n",
       "      <td>Updated on: 28 December 2022</td>\n",
       "      <td>1st Owner</td>\n",
       "      <td>2019 model</td>\n",
       "    </tr>\n",
       "    <tr>\n",
       "      <th>1</th>\n",
       "      <td>2018, KTM 250 Duke Standard</td>\n",
       "      <td>2,500  kms</td>\n",
       "      <td>Bangalore</td>\n",
       "      <td>1,60,000</td>\n",
       "      <td>Updated on: 28 December 2022</td>\n",
       "      <td>1st Owner</td>\n",
       "      <td>2018 model</td>\n",
       "    </tr>\n",
       "    <tr>\n",
       "      <th>2</th>\n",
       "      <td>2022, TVS Ronin TD - Dual Channel ABS</td>\n",
       "      <td>1,400  kms</td>\n",
       "      <td>Bangalore</td>\n",
       "      <td>2,00,000</td>\n",
       "      <td>Updated on: 28 December 2022</td>\n",
       "      <td>1st Owner</td>\n",
       "      <td>2022 model</td>\n",
       "    </tr>\n",
       "    <tr>\n",
       "      <th>3</th>\n",
       "      <td>2011, Bajaj Pulsar 150 Kick Start</td>\n",
       "      <td>55,000  kms</td>\n",
       "      <td>Bangalore</td>\n",
       "      <td>25,000</td>\n",
       "      <td>Updated on: 28 December 2022</td>\n",
       "      <td>1st Owner</td>\n",
       "      <td>2011 model</td>\n",
       "    </tr>\n",
       "    <tr>\n",
       "      <th>4</th>\n",
       "      <td>2013, Honda Dio Old Dio</td>\n",
       "      <td>45,000  kms</td>\n",
       "      <td>Bangalore</td>\n",
       "      <td>30,000</td>\n",
       "      <td>Updated on: 28 December 2022</td>\n",
       "      <td>1st Owner</td>\n",
       "      <td>2013 model</td>\n",
       "    </tr>\n",
       "    <tr>\n",
       "      <th>...</th>\n",
       "      <td>...</td>\n",
       "      <td>...</td>\n",
       "      <td>...</td>\n",
       "      <td>...</td>\n",
       "      <td>...</td>\n",
       "      <td>...</td>\n",
       "      <td>...</td>\n",
       "    </tr>\n",
       "    <tr>\n",
       "      <th>647</th>\n",
       "      <td>2019, TVS Apache RR310 Slipper Clutch</td>\n",
       "      <td>16,000  kms</td>\n",
       "      <td>Mohali</td>\n",
       "      <td>1,80,000</td>\n",
       "      <td>Updated on: 10 November 2022</td>\n",
       "      <td>1st Owner</td>\n",
       "      <td>2019 model</td>\n",
       "    </tr>\n",
       "    <tr>\n",
       "      <th>648</th>\n",
       "      <td>2020, Yamaha FZ S FI Single Channel ABS</td>\n",
       "      <td>11,000  kms</td>\n",
       "      <td>Mohali</td>\n",
       "      <td>1,05,000</td>\n",
       "      <td>Updated on: 03 November 2022</td>\n",
       "      <td>1st Owner</td>\n",
       "      <td>2020 model</td>\n",
       "    </tr>\n",
       "    <tr>\n",
       "      <th>649</th>\n",
       "      <td>2012, Honda Shine Electric Start/Drum/Alloy (B...</td>\n",
       "      <td>99,000  kms</td>\n",
       "      <td>Mohali</td>\n",
       "      <td>20,000</td>\n",
       "      <td>Updated on: 28 October 2022</td>\n",
       "      <td>1st Owner</td>\n",
       "      <td>2012 model</td>\n",
       "    </tr>\n",
       "    <tr>\n",
       "      <th>650</th>\n",
       "      <td>2013, Honda Dream Yuga Electric Start/Alloy</td>\n",
       "      <td>61,392  kms</td>\n",
       "      <td>Mohali</td>\n",
       "      <td>35,000</td>\n",
       "      <td>Updated on: 25 October 2022</td>\n",
       "      <td>1st Owner</td>\n",
       "      <td>2013 model</td>\n",
       "    </tr>\n",
       "    <tr>\n",
       "      <th>651</th>\n",
       "      <td>2015, Bajaj Platina 100 Alloy Wheel ES</td>\n",
       "      <td>45,000  kms</td>\n",
       "      <td>Mohali</td>\n",
       "      <td>40,000</td>\n",
       "      <td>Updated on: 04 October 2022</td>\n",
       "      <td>1st Owner</td>\n",
       "      <td>2015 model</td>\n",
       "    </tr>\n",
       "  </tbody>\n",
       "</table>\n",
       "<p>652 rows × 7 columns</p>\n",
       "</div>"
      ],
      "text/plain": [
       "                                                  Name   KMs_driven  \\\n",
       "0                2019, Bajaj Pulsar NS200 ABS - BS IV    8,000  kms   \n",
       "1                         2018, KTM 250 Duke Standard    2,500  kms   \n",
       "2               2022, TVS Ronin TD - Dual Channel ABS    1,400  kms   \n",
       "3                   2011, Bajaj Pulsar 150 Kick Start   55,000  kms   \n",
       "4                             2013, Honda Dio Old Dio   45,000  kms   \n",
       "..                                                 ...          ...   \n",
       "647             2019, TVS Apache RR310 Slipper Clutch   16,000  kms   \n",
       "648           2020, Yamaha FZ S FI Single Channel ABS   11,000  kms   \n",
       "649  2012, Honda Shine Electric Start/Drum/Alloy (B...  99,000  kms   \n",
       "650       2013, Honda Dream Yuga Electric Start/Alloy   61,392  kms   \n",
       "651            2015, Bajaj Platina 100 Alloy Wheel ES   45,000  kms   \n",
       "\n",
       "       Location Price_in_rupees                      Posted_on Type_Owner  \\\n",
       "0    Bangalore        1,20,000   Updated on: 28 December 2022   1st Owner   \n",
       "1    Bangalore        1,60,000   Updated on: 28 December 2022   1st Owner   \n",
       "2    Bangalore        2,00,000   Updated on: 28 December 2022   1st Owner   \n",
       "3    Bangalore          25,000   Updated on: 28 December 2022   1st Owner   \n",
       "4    Bangalore          30,000   Updated on: 28 December 2022   1st Owner   \n",
       "..          ...             ...                            ...        ...   \n",
       "647     Mohali        1,80,000   Updated on: 10 November 2022   1st Owner   \n",
       "648     Mohali        1,05,000   Updated on: 03 November 2022   1st Owner   \n",
       "649     Mohali          20,000    Updated on: 28 October 2022   1st Owner   \n",
       "650     Mohali          35,000    Updated on: 25 October 2022   1st Owner   \n",
       "651     Mohali          40,000    Updated on: 04 October 2022   1st Owner   \n",
       "\n",
       "           year  \n",
       "0    2019 model  \n",
       "1    2018 model  \n",
       "2    2022 model  \n",
       "3    2011 model  \n",
       "4    2013 model  \n",
       "..          ...  \n",
       "647  2019 model  \n",
       "648  2020 model  \n",
       "649  2012 model  \n",
       "650  2013 model  \n",
       "651  2015 model  \n",
       "\n",
       "[652 rows x 7 columns]"
      ]
     },
     "execution_count": 44,
     "metadata": {},
     "output_type": "execute_result"
    }
   ],
   "source": [
    "bike=pd.DataFrame({'Name':names,'KMs_driven':kms,'Location':location,'Price_in_rupees':price,'Posted_on':update,'Type_Owner':owner,'year':year})\n",
    "bike"
   ]
  },
  {
   "cell_type": "code",
   "execution_count": 45,
   "id": "a864ebf6",
   "metadata": {},
   "outputs": [
    {
     "data": {
      "text/html": [
       "<div>\n",
       "<style scoped>\n",
       "    .dataframe tbody tr th:only-of-type {\n",
       "        vertical-align: middle;\n",
       "    }\n",
       "\n",
       "    .dataframe tbody tr th {\n",
       "        vertical-align: top;\n",
       "    }\n",
       "\n",
       "    .dataframe thead th {\n",
       "        text-align: right;\n",
       "    }\n",
       "</style>\n",
       "<table border=\"1\" class=\"dataframe\">\n",
       "  <thead>\n",
       "    <tr style=\"text-align: right;\">\n",
       "      <th></th>\n",
       "      <th>Name</th>\n",
       "      <th>KMs_driven</th>\n",
       "      <th>Location</th>\n",
       "      <th>Price_in_rupees</th>\n",
       "      <th>Posted_on</th>\n",
       "      <th>Type_Owner</th>\n",
       "      <th>year</th>\n",
       "    </tr>\n",
       "  </thead>\n",
       "  <tbody>\n",
       "    <tr>\n",
       "      <th>0</th>\n",
       "      <td>2019, Bajaj Pulsar NS200 ABS - BS IV</td>\n",
       "      <td>8,000  kms</td>\n",
       "      <td>Bangalore</td>\n",
       "      <td>1,20,000</td>\n",
       "      <td>Updated on: 28 December 2022</td>\n",
       "      <td>1st Owner</td>\n",
       "      <td>2019 model</td>\n",
       "    </tr>\n",
       "    <tr>\n",
       "      <th>1</th>\n",
       "      <td>2018, KTM 250 Duke Standard</td>\n",
       "      <td>2,500  kms</td>\n",
       "      <td>Bangalore</td>\n",
       "      <td>1,60,000</td>\n",
       "      <td>Updated on: 28 December 2022</td>\n",
       "      <td>1st Owner</td>\n",
       "      <td>2018 model</td>\n",
       "    </tr>\n",
       "    <tr>\n",
       "      <th>2</th>\n",
       "      <td>2022, TVS Ronin TD - Dual Channel ABS</td>\n",
       "      <td>1,400  kms</td>\n",
       "      <td>Bangalore</td>\n",
       "      <td>2,00,000</td>\n",
       "      <td>Updated on: 28 December 2022</td>\n",
       "      <td>1st Owner</td>\n",
       "      <td>2022 model</td>\n",
       "    </tr>\n",
       "    <tr>\n",
       "      <th>3</th>\n",
       "      <td>2011, Bajaj Pulsar 150 Kick Start</td>\n",
       "      <td>55,000  kms</td>\n",
       "      <td>Bangalore</td>\n",
       "      <td>25,000</td>\n",
       "      <td>Updated on: 28 December 2022</td>\n",
       "      <td>1st Owner</td>\n",
       "      <td>2011 model</td>\n",
       "    </tr>\n",
       "    <tr>\n",
       "      <th>4</th>\n",
       "      <td>2013, Honda Dio Old Dio</td>\n",
       "      <td>45,000  kms</td>\n",
       "      <td>Bangalore</td>\n",
       "      <td>30,000</td>\n",
       "      <td>Updated on: 28 December 2022</td>\n",
       "      <td>1st Owner</td>\n",
       "      <td>2013 model</td>\n",
       "    </tr>\n",
       "  </tbody>\n",
       "</table>\n",
       "</div>"
      ],
      "text/plain": [
       "                                     Name   KMs_driven    Location  \\\n",
       "0   2019, Bajaj Pulsar NS200 ABS - BS IV    8,000  kms  Bangalore    \n",
       "1            2018, KTM 250 Duke Standard    2,500  kms  Bangalore    \n",
       "2  2022, TVS Ronin TD - Dual Channel ABS    1,400  kms  Bangalore    \n",
       "3      2011, Bajaj Pulsar 150 Kick Start   55,000  kms  Bangalore    \n",
       "4                2013, Honda Dio Old Dio   45,000  kms  Bangalore    \n",
       "\n",
       "  Price_in_rupees                      Posted_on Type_Owner        year  \n",
       "0       1,20,000   Updated on: 28 December 2022   1st Owner  2019 model  \n",
       "1       1,60,000   Updated on: 28 December 2022   1st Owner  2018 model  \n",
       "2       2,00,000   Updated on: 28 December 2022   1st Owner  2022 model  \n",
       "3         25,000   Updated on: 28 December 2022   1st Owner  2011 model  \n",
       "4         30,000   Updated on: 28 December 2022   1st Owner  2013 model  "
      ]
     },
     "execution_count": 45,
     "metadata": {},
     "output_type": "execute_result"
    }
   ],
   "source": [
    "bike.head()"
   ]
  },
  {
   "cell_type": "code",
   "execution_count": 46,
   "id": "ae9599f1",
   "metadata": {},
   "outputs": [
    {
     "data": {
      "text/html": [
       "<div>\n",
       "<style scoped>\n",
       "    .dataframe tbody tr th:only-of-type {\n",
       "        vertical-align: middle;\n",
       "    }\n",
       "\n",
       "    .dataframe tbody tr th {\n",
       "        vertical-align: top;\n",
       "    }\n",
       "\n",
       "    .dataframe thead th {\n",
       "        text-align: right;\n",
       "    }\n",
       "</style>\n",
       "<table border=\"1\" class=\"dataframe\">\n",
       "  <thead>\n",
       "    <tr style=\"text-align: right;\">\n",
       "      <th></th>\n",
       "      <th>Name</th>\n",
       "      <th>KMs_driven</th>\n",
       "      <th>Location</th>\n",
       "      <th>Price_in_rupees</th>\n",
       "      <th>Posted_on</th>\n",
       "      <th>Type_Owner</th>\n",
       "      <th>year</th>\n",
       "    </tr>\n",
       "  </thead>\n",
       "  <tbody>\n",
       "    <tr>\n",
       "      <th>647</th>\n",
       "      <td>2019, TVS Apache RR310 Slipper Clutch</td>\n",
       "      <td>16,000  kms</td>\n",
       "      <td>Mohali</td>\n",
       "      <td>1,80,000</td>\n",
       "      <td>Updated on: 10 November 2022</td>\n",
       "      <td>1st Owner</td>\n",
       "      <td>2019 model</td>\n",
       "    </tr>\n",
       "    <tr>\n",
       "      <th>648</th>\n",
       "      <td>2020, Yamaha FZ S FI Single Channel ABS</td>\n",
       "      <td>11,000  kms</td>\n",
       "      <td>Mohali</td>\n",
       "      <td>1,05,000</td>\n",
       "      <td>Updated on: 03 November 2022</td>\n",
       "      <td>1st Owner</td>\n",
       "      <td>2020 model</td>\n",
       "    </tr>\n",
       "    <tr>\n",
       "      <th>649</th>\n",
       "      <td>2012, Honda Shine Electric Start/Drum/Alloy (B...</td>\n",
       "      <td>99,000  kms</td>\n",
       "      <td>Mohali</td>\n",
       "      <td>20,000</td>\n",
       "      <td>Updated on: 28 October 2022</td>\n",
       "      <td>1st Owner</td>\n",
       "      <td>2012 model</td>\n",
       "    </tr>\n",
       "    <tr>\n",
       "      <th>650</th>\n",
       "      <td>2013, Honda Dream Yuga Electric Start/Alloy</td>\n",
       "      <td>61,392  kms</td>\n",
       "      <td>Mohali</td>\n",
       "      <td>35,000</td>\n",
       "      <td>Updated on: 25 October 2022</td>\n",
       "      <td>1st Owner</td>\n",
       "      <td>2013 model</td>\n",
       "    </tr>\n",
       "    <tr>\n",
       "      <th>651</th>\n",
       "      <td>2015, Bajaj Platina 100 Alloy Wheel ES</td>\n",
       "      <td>45,000  kms</td>\n",
       "      <td>Mohali</td>\n",
       "      <td>40,000</td>\n",
       "      <td>Updated on: 04 October 2022</td>\n",
       "      <td>1st Owner</td>\n",
       "      <td>2015 model</td>\n",
       "    </tr>\n",
       "  </tbody>\n",
       "</table>\n",
       "</div>"
      ],
      "text/plain": [
       "                                                  Name   KMs_driven Location  \\\n",
       "647             2019, TVS Apache RR310 Slipper Clutch   16,000  kms  Mohali    \n",
       "648           2020, Yamaha FZ S FI Single Channel ABS   11,000  kms  Mohali    \n",
       "649  2012, Honda Shine Electric Start/Drum/Alloy (B...  99,000  kms  Mohali    \n",
       "650       2013, Honda Dream Yuga Electric Start/Alloy   61,392  kms  Mohali    \n",
       "651            2015, Bajaj Platina 100 Alloy Wheel ES   45,000  kms  Mohali    \n",
       "\n",
       "    Price_in_rupees                      Posted_on Type_Owner        year  \n",
       "647       1,80,000   Updated on: 10 November 2022   1st Owner  2019 model  \n",
       "648       1,05,000   Updated on: 03 November 2022   1st Owner  2020 model  \n",
       "649         20,000    Updated on: 28 October 2022   1st Owner  2012 model  \n",
       "650         35,000    Updated on: 25 October 2022   1st Owner  2013 model  \n",
       "651         40,000    Updated on: 04 October 2022   1st Owner  2015 model  "
      ]
     },
     "execution_count": 46,
     "metadata": {},
     "output_type": "execute_result"
    }
   ],
   "source": [
    "bike.tail()"
   ]
  },
  {
   "cell_type": "code",
   "execution_count": 47,
   "id": "abb89e1c",
   "metadata": {},
   "outputs": [],
   "source": [
    "bike.to_csv('bike.csv')"
   ]
  },
  {
   "cell_type": "markdown",
   "id": "eae5f257",
   "metadata": {},
   "source": [
    "# Data cleaning"
   ]
  },
  {
   "cell_type": "code",
   "execution_count": 48,
   "id": "3719fbd9",
   "metadata": {},
   "outputs": [],
   "source": [
    "import pandas as pd"
   ]
  },
  {
   "cell_type": "code",
   "execution_count": 49,
   "id": "1d4f6902",
   "metadata": {},
   "outputs": [],
   "source": [
    "bikes=pd.read_csv('bike.csv')"
   ]
  },
  {
   "cell_type": "code",
   "execution_count": 50,
   "id": "8880f4f7",
   "metadata": {
    "scrolled": true
   },
   "outputs": [
    {
     "data": {
      "text/html": [
       "<div>\n",
       "<style scoped>\n",
       "    .dataframe tbody tr th:only-of-type {\n",
       "        vertical-align: middle;\n",
       "    }\n",
       "\n",
       "    .dataframe tbody tr th {\n",
       "        vertical-align: top;\n",
       "    }\n",
       "\n",
       "    .dataframe thead th {\n",
       "        text-align: right;\n",
       "    }\n",
       "</style>\n",
       "<table border=\"1\" class=\"dataframe\">\n",
       "  <thead>\n",
       "    <tr style=\"text-align: right;\">\n",
       "      <th></th>\n",
       "      <th>Unnamed: 0</th>\n",
       "      <th>Name</th>\n",
       "      <th>KMs_driven</th>\n",
       "      <th>Location</th>\n",
       "      <th>Price_in_rupees</th>\n",
       "      <th>Posted_on</th>\n",
       "      <th>Type_Owner</th>\n",
       "      <th>year</th>\n",
       "    </tr>\n",
       "  </thead>\n",
       "  <tbody>\n",
       "    <tr>\n",
       "      <th>0</th>\n",
       "      <td>0</td>\n",
       "      <td>2019, Bajaj Pulsar NS200 ABS - BS IV</td>\n",
       "      <td>8,000  kms</td>\n",
       "      <td>Bangalore</td>\n",
       "      <td>1,20,000</td>\n",
       "      <td>Updated on: 28 December 2022</td>\n",
       "      <td>1st Owner</td>\n",
       "      <td>2019 model</td>\n",
       "    </tr>\n",
       "    <tr>\n",
       "      <th>1</th>\n",
       "      <td>1</td>\n",
       "      <td>2018, KTM 250 Duke Standard</td>\n",
       "      <td>2,500  kms</td>\n",
       "      <td>Bangalore</td>\n",
       "      <td>1,60,000</td>\n",
       "      <td>Updated on: 28 December 2022</td>\n",
       "      <td>1st Owner</td>\n",
       "      <td>2018 model</td>\n",
       "    </tr>\n",
       "    <tr>\n",
       "      <th>2</th>\n",
       "      <td>2</td>\n",
       "      <td>2022, TVS Ronin TD - Dual Channel ABS</td>\n",
       "      <td>1,400  kms</td>\n",
       "      <td>Bangalore</td>\n",
       "      <td>2,00,000</td>\n",
       "      <td>Updated on: 28 December 2022</td>\n",
       "      <td>1st Owner</td>\n",
       "      <td>2022 model</td>\n",
       "    </tr>\n",
       "    <tr>\n",
       "      <th>3</th>\n",
       "      <td>3</td>\n",
       "      <td>2011, Bajaj Pulsar 150 Kick Start</td>\n",
       "      <td>55,000  kms</td>\n",
       "      <td>Bangalore</td>\n",
       "      <td>25,000</td>\n",
       "      <td>Updated on: 28 December 2022</td>\n",
       "      <td>1st Owner</td>\n",
       "      <td>2011 model</td>\n",
       "    </tr>\n",
       "    <tr>\n",
       "      <th>4</th>\n",
       "      <td>4</td>\n",
       "      <td>2013, Honda Dio Old Dio</td>\n",
       "      <td>45,000  kms</td>\n",
       "      <td>Bangalore</td>\n",
       "      <td>30,000</td>\n",
       "      <td>Updated on: 28 December 2022</td>\n",
       "      <td>1st Owner</td>\n",
       "      <td>2013 model</td>\n",
       "    </tr>\n",
       "    <tr>\n",
       "      <th>...</th>\n",
       "      <td>...</td>\n",
       "      <td>...</td>\n",
       "      <td>...</td>\n",
       "      <td>...</td>\n",
       "      <td>...</td>\n",
       "      <td>...</td>\n",
       "      <td>...</td>\n",
       "      <td>...</td>\n",
       "    </tr>\n",
       "    <tr>\n",
       "      <th>647</th>\n",
       "      <td>647</td>\n",
       "      <td>2019, TVS Apache RR310 Slipper Clutch</td>\n",
       "      <td>16,000  kms</td>\n",
       "      <td>Mohali</td>\n",
       "      <td>1,80,000</td>\n",
       "      <td>Updated on: 10 November 2022</td>\n",
       "      <td>1st Owner</td>\n",
       "      <td>2019 model</td>\n",
       "    </tr>\n",
       "    <tr>\n",
       "      <th>648</th>\n",
       "      <td>648</td>\n",
       "      <td>2020, Yamaha FZ S FI Single Channel ABS</td>\n",
       "      <td>11,000  kms</td>\n",
       "      <td>Mohali</td>\n",
       "      <td>1,05,000</td>\n",
       "      <td>Updated on: 03 November 2022</td>\n",
       "      <td>1st Owner</td>\n",
       "      <td>2020 model</td>\n",
       "    </tr>\n",
       "    <tr>\n",
       "      <th>649</th>\n",
       "      <td>649</td>\n",
       "      <td>2012, Honda Shine Electric Start/Drum/Alloy (B...</td>\n",
       "      <td>99,000  kms</td>\n",
       "      <td>Mohali</td>\n",
       "      <td>20,000</td>\n",
       "      <td>Updated on: 28 October 2022</td>\n",
       "      <td>1st Owner</td>\n",
       "      <td>2012 model</td>\n",
       "    </tr>\n",
       "    <tr>\n",
       "      <th>650</th>\n",
       "      <td>650</td>\n",
       "      <td>2013, Honda Dream Yuga Electric Start/Alloy</td>\n",
       "      <td>61,392  kms</td>\n",
       "      <td>Mohali</td>\n",
       "      <td>35,000</td>\n",
       "      <td>Updated on: 25 October 2022</td>\n",
       "      <td>1st Owner</td>\n",
       "      <td>2013 model</td>\n",
       "    </tr>\n",
       "    <tr>\n",
       "      <th>651</th>\n",
       "      <td>651</td>\n",
       "      <td>2015, Bajaj Platina 100 Alloy Wheel ES</td>\n",
       "      <td>45,000  kms</td>\n",
       "      <td>Mohali</td>\n",
       "      <td>40,000</td>\n",
       "      <td>Updated on: 04 October 2022</td>\n",
       "      <td>1st Owner</td>\n",
       "      <td>2015 model</td>\n",
       "    </tr>\n",
       "  </tbody>\n",
       "</table>\n",
       "<p>652 rows × 8 columns</p>\n",
       "</div>"
      ],
      "text/plain": [
       "     Unnamed: 0                                               Name  \\\n",
       "0             0              2019, Bajaj Pulsar NS200 ABS - BS IV    \n",
       "1             1                       2018, KTM 250 Duke Standard    \n",
       "2             2             2022, TVS Ronin TD - Dual Channel ABS    \n",
       "3             3                 2011, Bajaj Pulsar 150 Kick Start    \n",
       "4             4                           2013, Honda Dio Old Dio    \n",
       "..          ...                                                ...   \n",
       "647         647             2019, TVS Apache RR310 Slipper Clutch    \n",
       "648         648           2020, Yamaha FZ S FI Single Channel ABS    \n",
       "649         649  2012, Honda Shine Electric Start/Drum/Alloy (B...   \n",
       "650         650       2013, Honda Dream Yuga Electric Start/Alloy    \n",
       "651         651            2015, Bajaj Platina 100 Alloy Wheel ES    \n",
       "\n",
       "      KMs_driven    Location Price_in_rupees                      Posted_on  \\\n",
       "0     8,000  kms  Bangalore        1,20,000   Updated on: 28 December 2022    \n",
       "1     2,500  kms  Bangalore        1,60,000   Updated on: 28 December 2022    \n",
       "2     1,400  kms  Bangalore        2,00,000   Updated on: 28 December 2022    \n",
       "3    55,000  kms  Bangalore          25,000   Updated on: 28 December 2022    \n",
       "4    45,000  kms  Bangalore          30,000   Updated on: 28 December 2022    \n",
       "..           ...         ...             ...                            ...   \n",
       "647  16,000  kms     Mohali        1,80,000   Updated on: 10 November 2022    \n",
       "648  11,000  kms     Mohali        1,05,000   Updated on: 03 November 2022    \n",
       "649  99,000  kms     Mohali          20,000    Updated on: 28 October 2022    \n",
       "650  61,392  kms     Mohali          35,000    Updated on: 25 October 2022    \n",
       "651  45,000  kms     Mohali          40,000    Updated on: 04 October 2022    \n",
       "\n",
       "    Type_Owner        year  \n",
       "0    1st Owner  2019 model  \n",
       "1    1st Owner  2018 model  \n",
       "2    1st Owner  2022 model  \n",
       "3    1st Owner  2011 model  \n",
       "4    1st Owner  2013 model  \n",
       "..         ...         ...  \n",
       "647  1st Owner  2019 model  \n",
       "648  1st Owner  2020 model  \n",
       "649  1st Owner  2012 model  \n",
       "650  1st Owner  2013 model  \n",
       "651  1st Owner  2015 model  \n",
       "\n",
       "[652 rows x 8 columns]"
      ]
     },
     "execution_count": 50,
     "metadata": {},
     "output_type": "execute_result"
    }
   ],
   "source": [
    "bikes"
   ]
  },
  {
   "cell_type": "code",
   "execution_count": 51,
   "id": "d100fb29",
   "metadata": {},
   "outputs": [
    {
     "data": {
      "text/plain": [
       "Unnamed: 0         0\n",
       "Name               0\n",
       "KMs_driven         0\n",
       "Location           0\n",
       "Price_in_rupees    0\n",
       "Posted_on          0\n",
       "Type_Owner         0\n",
       "year               0\n",
       "dtype: int64"
      ]
     },
     "execution_count": 51,
     "metadata": {},
     "output_type": "execute_result"
    }
   ],
   "source": [
    "bikes.isnull().sum()"
   ]
  },
  {
   "cell_type": "code",
   "execution_count": 52,
   "id": "539a5b8e",
   "metadata": {},
   "outputs": [
    {
     "data": {
      "text/plain": [
       "Index(['Unnamed: 0', 'Name', 'KMs_driven', 'Location', 'Price_in_rupees',\n",
       "       'Posted_on', 'Type_Owner', 'year'],\n",
       "      dtype='object')"
      ]
     },
     "execution_count": 52,
     "metadata": {},
     "output_type": "execute_result"
    }
   ],
   "source": [
    "bikes.columns"
   ]
  },
  {
   "cell_type": "code",
   "execution_count": 53,
   "id": "2b3a63b6",
   "metadata": {},
   "outputs": [],
   "source": [
    "bikes=bikes.drop(columns =['Unnamed: 0', 'year'])"
   ]
  },
  {
   "cell_type": "code",
   "execution_count": 54,
   "id": "e6cbf30d",
   "metadata": {},
   "outputs": [
    {
     "data": {
      "text/html": [
       "<div>\n",
       "<style scoped>\n",
       "    .dataframe tbody tr th:only-of-type {\n",
       "        vertical-align: middle;\n",
       "    }\n",
       "\n",
       "    .dataframe tbody tr th {\n",
       "        vertical-align: top;\n",
       "    }\n",
       "\n",
       "    .dataframe thead th {\n",
       "        text-align: right;\n",
       "    }\n",
       "</style>\n",
       "<table border=\"1\" class=\"dataframe\">\n",
       "  <thead>\n",
       "    <tr style=\"text-align: right;\">\n",
       "      <th></th>\n",
       "      <th>Name</th>\n",
       "      <th>KMs_driven</th>\n",
       "      <th>Location</th>\n",
       "      <th>Price_in_rupees</th>\n",
       "      <th>Posted_on</th>\n",
       "      <th>Type_Owner</th>\n",
       "    </tr>\n",
       "  </thead>\n",
       "  <tbody>\n",
       "    <tr>\n",
       "      <th>0</th>\n",
       "      <td>2019, Bajaj Pulsar NS200 ABS - BS IV</td>\n",
       "      <td>8,000  kms</td>\n",
       "      <td>Bangalore</td>\n",
       "      <td>1,20,000</td>\n",
       "      <td>Updated on: 28 December 2022</td>\n",
       "      <td>1st Owner</td>\n",
       "    </tr>\n",
       "    <tr>\n",
       "      <th>1</th>\n",
       "      <td>2018, KTM 250 Duke Standard</td>\n",
       "      <td>2,500  kms</td>\n",
       "      <td>Bangalore</td>\n",
       "      <td>1,60,000</td>\n",
       "      <td>Updated on: 28 December 2022</td>\n",
       "      <td>1st Owner</td>\n",
       "    </tr>\n",
       "    <tr>\n",
       "      <th>2</th>\n",
       "      <td>2022, TVS Ronin TD - Dual Channel ABS</td>\n",
       "      <td>1,400  kms</td>\n",
       "      <td>Bangalore</td>\n",
       "      <td>2,00,000</td>\n",
       "      <td>Updated on: 28 December 2022</td>\n",
       "      <td>1st Owner</td>\n",
       "    </tr>\n",
       "    <tr>\n",
       "      <th>3</th>\n",
       "      <td>2011, Bajaj Pulsar 150 Kick Start</td>\n",
       "      <td>55,000  kms</td>\n",
       "      <td>Bangalore</td>\n",
       "      <td>25,000</td>\n",
       "      <td>Updated on: 28 December 2022</td>\n",
       "      <td>1st Owner</td>\n",
       "    </tr>\n",
       "    <tr>\n",
       "      <th>4</th>\n",
       "      <td>2013, Honda Dio Old Dio</td>\n",
       "      <td>45,000  kms</td>\n",
       "      <td>Bangalore</td>\n",
       "      <td>30,000</td>\n",
       "      <td>Updated on: 28 December 2022</td>\n",
       "      <td>1st Owner</td>\n",
       "    </tr>\n",
       "  </tbody>\n",
       "</table>\n",
       "</div>"
      ],
      "text/plain": [
       "                                     Name   KMs_driven    Location  \\\n",
       "0   2019, Bajaj Pulsar NS200 ABS - BS IV    8,000  kms  Bangalore    \n",
       "1            2018, KTM 250 Duke Standard    2,500  kms  Bangalore    \n",
       "2  2022, TVS Ronin TD - Dual Channel ABS    1,400  kms  Bangalore    \n",
       "3      2011, Bajaj Pulsar 150 Kick Start   55,000  kms  Bangalore    \n",
       "4                2013, Honda Dio Old Dio   45,000  kms  Bangalore    \n",
       "\n",
       "  Price_in_rupees                      Posted_on Type_Owner  \n",
       "0       1,20,000   Updated on: 28 December 2022   1st Owner  \n",
       "1       1,60,000   Updated on: 28 December 2022   1st Owner  \n",
       "2       2,00,000   Updated on: 28 December 2022   1st Owner  \n",
       "3         25,000   Updated on: 28 December 2022   1st Owner  \n",
       "4         30,000   Updated on: 28 December 2022   1st Owner  "
      ]
     },
     "execution_count": 54,
     "metadata": {},
     "output_type": "execute_result"
    }
   ],
   "source": [
    "bikes.head()"
   ]
  },
  {
   "cell_type": "code",
   "execution_count": 55,
   "id": "f639e063",
   "metadata": {},
   "outputs": [],
   "source": [
    "model=[]\n",
    "name=[]\n",
    "for i in bikes['Name']:\n",
    "    a=i.split(', ')\n",
    "    model.append(a[0])\n",
    "    name.append(a[1])\n",
    "    "
   ]
  },
  {
   "cell_type": "code",
   "execution_count": 56,
   "id": "e53ee9d5",
   "metadata": {},
   "outputs": [
    {
     "data": {
      "text/plain": [
       "652"
      ]
     },
     "execution_count": 56,
     "metadata": {},
     "output_type": "execute_result"
    }
   ],
   "source": [
    "len(model)"
   ]
  },
  {
   "cell_type": "code",
   "execution_count": 57,
   "id": "73177423",
   "metadata": {},
   "outputs": [],
   "source": [
    "bikes=bikes.drop('Name', axis=1)"
   ]
  },
  {
   "cell_type": "code",
   "execution_count": 58,
   "id": "40c71984",
   "metadata": {},
   "outputs": [],
   "source": [
    "bikes['year']=year"
   ]
  },
  {
   "cell_type": "code",
   "execution_count": 59,
   "id": "35e9c352",
   "metadata": {},
   "outputs": [],
   "source": [
    "bikes['Name']=name"
   ]
  },
  {
   "cell_type": "code",
   "execution_count": 60,
   "id": "786be746",
   "metadata": {},
   "outputs": [
    {
     "data": {
      "text/html": [
       "<div>\n",
       "<style scoped>\n",
       "    .dataframe tbody tr th:only-of-type {\n",
       "        vertical-align: middle;\n",
       "    }\n",
       "\n",
       "    .dataframe tbody tr th {\n",
       "        vertical-align: top;\n",
       "    }\n",
       "\n",
       "    .dataframe thead th {\n",
       "        text-align: right;\n",
       "    }\n",
       "</style>\n",
       "<table border=\"1\" class=\"dataframe\">\n",
       "  <thead>\n",
       "    <tr style=\"text-align: right;\">\n",
       "      <th></th>\n",
       "      <th>KMs_driven</th>\n",
       "      <th>Location</th>\n",
       "      <th>Price_in_rupees</th>\n",
       "      <th>Posted_on</th>\n",
       "      <th>Type_Owner</th>\n",
       "      <th>year</th>\n",
       "      <th>Name</th>\n",
       "    </tr>\n",
       "  </thead>\n",
       "  <tbody>\n",
       "    <tr>\n",
       "      <th>0</th>\n",
       "      <td>8,000  kms</td>\n",
       "      <td>Bangalore</td>\n",
       "      <td>1,20,000</td>\n",
       "      <td>Updated on: 28 December 2022</td>\n",
       "      <td>1st Owner</td>\n",
       "      <td>2019 model</td>\n",
       "      <td>Bajaj Pulsar NS200 ABS - BS IV</td>\n",
       "    </tr>\n",
       "    <tr>\n",
       "      <th>1</th>\n",
       "      <td>2,500  kms</td>\n",
       "      <td>Bangalore</td>\n",
       "      <td>1,60,000</td>\n",
       "      <td>Updated on: 28 December 2022</td>\n",
       "      <td>1st Owner</td>\n",
       "      <td>2018 model</td>\n",
       "      <td>KTM 250 Duke Standard</td>\n",
       "    </tr>\n",
       "    <tr>\n",
       "      <th>2</th>\n",
       "      <td>1,400  kms</td>\n",
       "      <td>Bangalore</td>\n",
       "      <td>2,00,000</td>\n",
       "      <td>Updated on: 28 December 2022</td>\n",
       "      <td>1st Owner</td>\n",
       "      <td>2022 model</td>\n",
       "      <td>TVS Ronin TD - Dual Channel ABS</td>\n",
       "    </tr>\n",
       "    <tr>\n",
       "      <th>3</th>\n",
       "      <td>55,000  kms</td>\n",
       "      <td>Bangalore</td>\n",
       "      <td>25,000</td>\n",
       "      <td>Updated on: 28 December 2022</td>\n",
       "      <td>1st Owner</td>\n",
       "      <td>2011 model</td>\n",
       "      <td>Bajaj Pulsar 150 Kick Start</td>\n",
       "    </tr>\n",
       "    <tr>\n",
       "      <th>4</th>\n",
       "      <td>45,000  kms</td>\n",
       "      <td>Bangalore</td>\n",
       "      <td>30,000</td>\n",
       "      <td>Updated on: 28 December 2022</td>\n",
       "      <td>1st Owner</td>\n",
       "      <td>2013 model</td>\n",
       "      <td>Honda Dio Old Dio</td>\n",
       "    </tr>\n",
       "    <tr>\n",
       "      <th>...</th>\n",
       "      <td>...</td>\n",
       "      <td>...</td>\n",
       "      <td>...</td>\n",
       "      <td>...</td>\n",
       "      <td>...</td>\n",
       "      <td>...</td>\n",
       "      <td>...</td>\n",
       "    </tr>\n",
       "    <tr>\n",
       "      <th>647</th>\n",
       "      <td>16,000  kms</td>\n",
       "      <td>Mohali</td>\n",
       "      <td>1,80,000</td>\n",
       "      <td>Updated on: 10 November 2022</td>\n",
       "      <td>1st Owner</td>\n",
       "      <td>2019 model</td>\n",
       "      <td>TVS Apache RR310 Slipper Clutch</td>\n",
       "    </tr>\n",
       "    <tr>\n",
       "      <th>648</th>\n",
       "      <td>11,000  kms</td>\n",
       "      <td>Mohali</td>\n",
       "      <td>1,05,000</td>\n",
       "      <td>Updated on: 03 November 2022</td>\n",
       "      <td>1st Owner</td>\n",
       "      <td>2020 model</td>\n",
       "      <td>Yamaha FZ S FI Single Channel ABS</td>\n",
       "    </tr>\n",
       "    <tr>\n",
       "      <th>649</th>\n",
       "      <td>99,000  kms</td>\n",
       "      <td>Mohali</td>\n",
       "      <td>20,000</td>\n",
       "      <td>Updated on: 28 October 2022</td>\n",
       "      <td>1st Owner</td>\n",
       "      <td>2012 model</td>\n",
       "      <td>Honda Shine Electric Start/Drum/Alloy (BS III)</td>\n",
       "    </tr>\n",
       "    <tr>\n",
       "      <th>650</th>\n",
       "      <td>61,392  kms</td>\n",
       "      <td>Mohali</td>\n",
       "      <td>35,000</td>\n",
       "      <td>Updated on: 25 October 2022</td>\n",
       "      <td>1st Owner</td>\n",
       "      <td>2013 model</td>\n",
       "      <td>Honda Dream Yuga Electric Start/Alloy</td>\n",
       "    </tr>\n",
       "    <tr>\n",
       "      <th>651</th>\n",
       "      <td>45,000  kms</td>\n",
       "      <td>Mohali</td>\n",
       "      <td>40,000</td>\n",
       "      <td>Updated on: 04 October 2022</td>\n",
       "      <td>1st Owner</td>\n",
       "      <td>2015 model</td>\n",
       "      <td>Bajaj Platina 100 Alloy Wheel ES</td>\n",
       "    </tr>\n",
       "  </tbody>\n",
       "</table>\n",
       "<p>652 rows × 7 columns</p>\n",
       "</div>"
      ],
      "text/plain": [
       "      KMs_driven    Location Price_in_rupees                      Posted_on  \\\n",
       "0     8,000  kms  Bangalore        1,20,000   Updated on: 28 December 2022    \n",
       "1     2,500  kms  Bangalore        1,60,000   Updated on: 28 December 2022    \n",
       "2     1,400  kms  Bangalore        2,00,000   Updated on: 28 December 2022    \n",
       "3    55,000  kms  Bangalore          25,000   Updated on: 28 December 2022    \n",
       "4    45,000  kms  Bangalore          30,000   Updated on: 28 December 2022    \n",
       "..           ...         ...             ...                            ...   \n",
       "647  16,000  kms     Mohali        1,80,000   Updated on: 10 November 2022    \n",
       "648  11,000  kms     Mohali        1,05,000   Updated on: 03 November 2022    \n",
       "649  99,000  kms     Mohali          20,000    Updated on: 28 October 2022    \n",
       "650  61,392  kms     Mohali          35,000    Updated on: 25 October 2022    \n",
       "651  45,000  kms     Mohali          40,000    Updated on: 04 October 2022    \n",
       "\n",
       "    Type_Owner        year                                             Name  \n",
       "0    1st Owner  2019 model                  Bajaj Pulsar NS200 ABS - BS IV   \n",
       "1    1st Owner  2018 model                           KTM 250 Duke Standard   \n",
       "2    1st Owner  2022 model                 TVS Ronin TD - Dual Channel ABS   \n",
       "3    1st Owner  2011 model                     Bajaj Pulsar 150 Kick Start   \n",
       "4    1st Owner  2013 model                               Honda Dio Old Dio   \n",
       "..         ...         ...                                              ...  \n",
       "647  1st Owner  2019 model                 TVS Apache RR310 Slipper Clutch   \n",
       "648  1st Owner  2020 model               Yamaha FZ S FI Single Channel ABS   \n",
       "649  1st Owner  2012 model  Honda Shine Electric Start/Drum/Alloy (BS III)   \n",
       "650  1st Owner  2013 model           Honda Dream Yuga Electric Start/Alloy   \n",
       "651  1st Owner  2015 model                Bajaj Platina 100 Alloy Wheel ES   \n",
       "\n",
       "[652 rows x 7 columns]"
      ]
     },
     "execution_count": 60,
     "metadata": {},
     "output_type": "execute_result"
    }
   ],
   "source": [
    "bikes"
   ]
  },
  {
   "cell_type": "code",
   "execution_count": 61,
   "id": "15493682",
   "metadata": {},
   "outputs": [],
   "source": [
    "kms=[]\n",
    "kms_up=[]\n",
    "for i in bikes['KMs_driven']:\n",
    "    a=i.split(' ')\n",
    "    kms.append(a[0])\n",
    "for i in kms:\n",
    "    kms_up.append(i.replace(',', \"\"))"
   ]
  },
  {
   "cell_type": "code",
   "execution_count": 62,
   "id": "07c5ff27",
   "metadata": {},
   "outputs": [],
   "source": [
    "bikes=bikes.drop('KMs_driven', axis=1)"
   ]
  },
  {
   "cell_type": "code",
   "execution_count": 63,
   "id": "7bd7024c",
   "metadata": {},
   "outputs": [],
   "source": [
    "bikes['KMs_driven']=kms_up"
   ]
  },
  {
   "cell_type": "code",
   "execution_count": 64,
   "id": "64e05a76",
   "metadata": {},
   "outputs": [
    {
     "data": {
      "text/html": [
       "<div>\n",
       "<style scoped>\n",
       "    .dataframe tbody tr th:only-of-type {\n",
       "        vertical-align: middle;\n",
       "    }\n",
       "\n",
       "    .dataframe tbody tr th {\n",
       "        vertical-align: top;\n",
       "    }\n",
       "\n",
       "    .dataframe thead th {\n",
       "        text-align: right;\n",
       "    }\n",
       "</style>\n",
       "<table border=\"1\" class=\"dataframe\">\n",
       "  <thead>\n",
       "    <tr style=\"text-align: right;\">\n",
       "      <th></th>\n",
       "      <th>Location</th>\n",
       "      <th>Price_in_rupees</th>\n",
       "      <th>Posted_on</th>\n",
       "      <th>Type_Owner</th>\n",
       "      <th>year</th>\n",
       "      <th>Name</th>\n",
       "      <th>KMs_driven</th>\n",
       "    </tr>\n",
       "  </thead>\n",
       "  <tbody>\n",
       "    <tr>\n",
       "      <th>0</th>\n",
       "      <td>Bangalore</td>\n",
       "      <td>1,20,000</td>\n",
       "      <td>Updated on: 28 December 2022</td>\n",
       "      <td>1st Owner</td>\n",
       "      <td>2019 model</td>\n",
       "      <td>Bajaj Pulsar NS200 ABS - BS IV</td>\n",
       "      <td>8000</td>\n",
       "    </tr>\n",
       "    <tr>\n",
       "      <th>1</th>\n",
       "      <td>Bangalore</td>\n",
       "      <td>1,60,000</td>\n",
       "      <td>Updated on: 28 December 2022</td>\n",
       "      <td>1st Owner</td>\n",
       "      <td>2018 model</td>\n",
       "      <td>KTM 250 Duke Standard</td>\n",
       "      <td>2500</td>\n",
       "    </tr>\n",
       "    <tr>\n",
       "      <th>2</th>\n",
       "      <td>Bangalore</td>\n",
       "      <td>2,00,000</td>\n",
       "      <td>Updated on: 28 December 2022</td>\n",
       "      <td>1st Owner</td>\n",
       "      <td>2022 model</td>\n",
       "      <td>TVS Ronin TD - Dual Channel ABS</td>\n",
       "      <td>1400</td>\n",
       "    </tr>\n",
       "    <tr>\n",
       "      <th>3</th>\n",
       "      <td>Bangalore</td>\n",
       "      <td>25,000</td>\n",
       "      <td>Updated on: 28 December 2022</td>\n",
       "      <td>1st Owner</td>\n",
       "      <td>2011 model</td>\n",
       "      <td>Bajaj Pulsar 150 Kick Start</td>\n",
       "      <td>55000</td>\n",
       "    </tr>\n",
       "    <tr>\n",
       "      <th>4</th>\n",
       "      <td>Bangalore</td>\n",
       "      <td>30,000</td>\n",
       "      <td>Updated on: 28 December 2022</td>\n",
       "      <td>1st Owner</td>\n",
       "      <td>2013 model</td>\n",
       "      <td>Honda Dio Old Dio</td>\n",
       "      <td>45000</td>\n",
       "    </tr>\n",
       "    <tr>\n",
       "      <th>...</th>\n",
       "      <td>...</td>\n",
       "      <td>...</td>\n",
       "      <td>...</td>\n",
       "      <td>...</td>\n",
       "      <td>...</td>\n",
       "      <td>...</td>\n",
       "      <td>...</td>\n",
       "    </tr>\n",
       "    <tr>\n",
       "      <th>647</th>\n",
       "      <td>Mohali</td>\n",
       "      <td>1,80,000</td>\n",
       "      <td>Updated on: 10 November 2022</td>\n",
       "      <td>1st Owner</td>\n",
       "      <td>2019 model</td>\n",
       "      <td>TVS Apache RR310 Slipper Clutch</td>\n",
       "      <td>16000</td>\n",
       "    </tr>\n",
       "    <tr>\n",
       "      <th>648</th>\n",
       "      <td>Mohali</td>\n",
       "      <td>1,05,000</td>\n",
       "      <td>Updated on: 03 November 2022</td>\n",
       "      <td>1st Owner</td>\n",
       "      <td>2020 model</td>\n",
       "      <td>Yamaha FZ S FI Single Channel ABS</td>\n",
       "      <td>11000</td>\n",
       "    </tr>\n",
       "    <tr>\n",
       "      <th>649</th>\n",
       "      <td>Mohali</td>\n",
       "      <td>20,000</td>\n",
       "      <td>Updated on: 28 October 2022</td>\n",
       "      <td>1st Owner</td>\n",
       "      <td>2012 model</td>\n",
       "      <td>Honda Shine Electric Start/Drum/Alloy (BS III)</td>\n",
       "      <td>99000</td>\n",
       "    </tr>\n",
       "    <tr>\n",
       "      <th>650</th>\n",
       "      <td>Mohali</td>\n",
       "      <td>35,000</td>\n",
       "      <td>Updated on: 25 October 2022</td>\n",
       "      <td>1st Owner</td>\n",
       "      <td>2013 model</td>\n",
       "      <td>Honda Dream Yuga Electric Start/Alloy</td>\n",
       "      <td>61392</td>\n",
       "    </tr>\n",
       "    <tr>\n",
       "      <th>651</th>\n",
       "      <td>Mohali</td>\n",
       "      <td>40,000</td>\n",
       "      <td>Updated on: 04 October 2022</td>\n",
       "      <td>1st Owner</td>\n",
       "      <td>2015 model</td>\n",
       "      <td>Bajaj Platina 100 Alloy Wheel ES</td>\n",
       "      <td>45000</td>\n",
       "    </tr>\n",
       "  </tbody>\n",
       "</table>\n",
       "<p>652 rows × 7 columns</p>\n",
       "</div>"
      ],
      "text/plain": [
       "       Location Price_in_rupees                      Posted_on Type_Owner  \\\n",
       "0    Bangalore        1,20,000   Updated on: 28 December 2022   1st Owner   \n",
       "1    Bangalore        1,60,000   Updated on: 28 December 2022   1st Owner   \n",
       "2    Bangalore        2,00,000   Updated on: 28 December 2022   1st Owner   \n",
       "3    Bangalore          25,000   Updated on: 28 December 2022   1st Owner   \n",
       "4    Bangalore          30,000   Updated on: 28 December 2022   1st Owner   \n",
       "..          ...             ...                            ...        ...   \n",
       "647     Mohali        1,80,000   Updated on: 10 November 2022   1st Owner   \n",
       "648     Mohali        1,05,000   Updated on: 03 November 2022   1st Owner   \n",
       "649     Mohali          20,000    Updated on: 28 October 2022   1st Owner   \n",
       "650     Mohali          35,000    Updated on: 25 October 2022   1st Owner   \n",
       "651     Mohali          40,000    Updated on: 04 October 2022   1st Owner   \n",
       "\n",
       "           year                                             Name KMs_driven  \n",
       "0    2019 model                  Bajaj Pulsar NS200 ABS - BS IV        8000  \n",
       "1    2018 model                           KTM 250 Duke Standard        2500  \n",
       "2    2022 model                 TVS Ronin TD - Dual Channel ABS        1400  \n",
       "3    2011 model                     Bajaj Pulsar 150 Kick Start       55000  \n",
       "4    2013 model                               Honda Dio Old Dio       45000  \n",
       "..          ...                                              ...        ...  \n",
       "647  2019 model                 TVS Apache RR310 Slipper Clutch       16000  \n",
       "648  2020 model               Yamaha FZ S FI Single Channel ABS       11000  \n",
       "649  2012 model  Honda Shine Electric Start/Drum/Alloy (BS III)       99000  \n",
       "650  2013 model           Honda Dream Yuga Electric Start/Alloy       61392  \n",
       "651  2015 model                Bajaj Platina 100 Alloy Wheel ES       45000  \n",
       "\n",
       "[652 rows x 7 columns]"
      ]
     },
     "execution_count": 64,
     "metadata": {},
     "output_type": "execute_result"
    }
   ],
   "source": [
    "bikes"
   ]
  },
  {
   "cell_type": "code",
   "execution_count": 65,
   "id": "371057ed",
   "metadata": {},
   "outputs": [],
   "source": [
    "p=[]\n",
    "for i in bikes['Price_in_rupees']:\n",
    "    p.append(i.replace(',',\"\"))\n",
    "    "
   ]
  },
  {
   "cell_type": "code",
   "execution_count": 66,
   "id": "6e4c2753",
   "metadata": {},
   "outputs": [],
   "source": [
    "bikes=bikes.drop('Price_in_rupees', axis=1)"
   ]
  },
  {
   "cell_type": "code",
   "execution_count": 67,
   "id": "e0a6bd5f",
   "metadata": {},
   "outputs": [],
   "source": [
    "bikes['Price_in_rupees']=p"
   ]
  },
  {
   "cell_type": "code",
   "execution_count": 68,
   "id": "6711073d",
   "metadata": {},
   "outputs": [
    {
     "data": {
      "text/html": [
       "<div>\n",
       "<style scoped>\n",
       "    .dataframe tbody tr th:only-of-type {\n",
       "        vertical-align: middle;\n",
       "    }\n",
       "\n",
       "    .dataframe tbody tr th {\n",
       "        vertical-align: top;\n",
       "    }\n",
       "\n",
       "    .dataframe thead th {\n",
       "        text-align: right;\n",
       "    }\n",
       "</style>\n",
       "<table border=\"1\" class=\"dataframe\">\n",
       "  <thead>\n",
       "    <tr style=\"text-align: right;\">\n",
       "      <th></th>\n",
       "      <th>Location</th>\n",
       "      <th>Posted_on</th>\n",
       "      <th>Type_Owner</th>\n",
       "      <th>year</th>\n",
       "      <th>Name</th>\n",
       "      <th>KMs_driven</th>\n",
       "      <th>Price_in_rupees</th>\n",
       "    </tr>\n",
       "  </thead>\n",
       "  <tbody>\n",
       "    <tr>\n",
       "      <th>0</th>\n",
       "      <td>Bangalore</td>\n",
       "      <td>Updated on: 28 December 2022</td>\n",
       "      <td>1st Owner</td>\n",
       "      <td>2019 model</td>\n",
       "      <td>Bajaj Pulsar NS200 ABS - BS IV</td>\n",
       "      <td>8000</td>\n",
       "      <td>120000</td>\n",
       "    </tr>\n",
       "    <tr>\n",
       "      <th>1</th>\n",
       "      <td>Bangalore</td>\n",
       "      <td>Updated on: 28 December 2022</td>\n",
       "      <td>1st Owner</td>\n",
       "      <td>2018 model</td>\n",
       "      <td>KTM 250 Duke Standard</td>\n",
       "      <td>2500</td>\n",
       "      <td>160000</td>\n",
       "    </tr>\n",
       "    <tr>\n",
       "      <th>2</th>\n",
       "      <td>Bangalore</td>\n",
       "      <td>Updated on: 28 December 2022</td>\n",
       "      <td>1st Owner</td>\n",
       "      <td>2022 model</td>\n",
       "      <td>TVS Ronin TD - Dual Channel ABS</td>\n",
       "      <td>1400</td>\n",
       "      <td>200000</td>\n",
       "    </tr>\n",
       "    <tr>\n",
       "      <th>3</th>\n",
       "      <td>Bangalore</td>\n",
       "      <td>Updated on: 28 December 2022</td>\n",
       "      <td>1st Owner</td>\n",
       "      <td>2011 model</td>\n",
       "      <td>Bajaj Pulsar 150 Kick Start</td>\n",
       "      <td>55000</td>\n",
       "      <td>25000</td>\n",
       "    </tr>\n",
       "    <tr>\n",
       "      <th>4</th>\n",
       "      <td>Bangalore</td>\n",
       "      <td>Updated on: 28 December 2022</td>\n",
       "      <td>1st Owner</td>\n",
       "      <td>2013 model</td>\n",
       "      <td>Honda Dio Old Dio</td>\n",
       "      <td>45000</td>\n",
       "      <td>30000</td>\n",
       "    </tr>\n",
       "    <tr>\n",
       "      <th>...</th>\n",
       "      <td>...</td>\n",
       "      <td>...</td>\n",
       "      <td>...</td>\n",
       "      <td>...</td>\n",
       "      <td>...</td>\n",
       "      <td>...</td>\n",
       "      <td>...</td>\n",
       "    </tr>\n",
       "    <tr>\n",
       "      <th>647</th>\n",
       "      <td>Mohali</td>\n",
       "      <td>Updated on: 10 November 2022</td>\n",
       "      <td>1st Owner</td>\n",
       "      <td>2019 model</td>\n",
       "      <td>TVS Apache RR310 Slipper Clutch</td>\n",
       "      <td>16000</td>\n",
       "      <td>180000</td>\n",
       "    </tr>\n",
       "    <tr>\n",
       "      <th>648</th>\n",
       "      <td>Mohali</td>\n",
       "      <td>Updated on: 03 November 2022</td>\n",
       "      <td>1st Owner</td>\n",
       "      <td>2020 model</td>\n",
       "      <td>Yamaha FZ S FI Single Channel ABS</td>\n",
       "      <td>11000</td>\n",
       "      <td>105000</td>\n",
       "    </tr>\n",
       "    <tr>\n",
       "      <th>649</th>\n",
       "      <td>Mohali</td>\n",
       "      <td>Updated on: 28 October 2022</td>\n",
       "      <td>1st Owner</td>\n",
       "      <td>2012 model</td>\n",
       "      <td>Honda Shine Electric Start/Drum/Alloy (BS III)</td>\n",
       "      <td>99000</td>\n",
       "      <td>20000</td>\n",
       "    </tr>\n",
       "    <tr>\n",
       "      <th>650</th>\n",
       "      <td>Mohali</td>\n",
       "      <td>Updated on: 25 October 2022</td>\n",
       "      <td>1st Owner</td>\n",
       "      <td>2013 model</td>\n",
       "      <td>Honda Dream Yuga Electric Start/Alloy</td>\n",
       "      <td>61392</td>\n",
       "      <td>35000</td>\n",
       "    </tr>\n",
       "    <tr>\n",
       "      <th>651</th>\n",
       "      <td>Mohali</td>\n",
       "      <td>Updated on: 04 October 2022</td>\n",
       "      <td>1st Owner</td>\n",
       "      <td>2015 model</td>\n",
       "      <td>Bajaj Platina 100 Alloy Wheel ES</td>\n",
       "      <td>45000</td>\n",
       "      <td>40000</td>\n",
       "    </tr>\n",
       "  </tbody>\n",
       "</table>\n",
       "<p>652 rows × 7 columns</p>\n",
       "</div>"
      ],
      "text/plain": [
       "       Location                      Posted_on Type_Owner        year  \\\n",
       "0    Bangalore   Updated on: 28 December 2022   1st Owner  2019 model   \n",
       "1    Bangalore   Updated on: 28 December 2022   1st Owner  2018 model   \n",
       "2    Bangalore   Updated on: 28 December 2022   1st Owner  2022 model   \n",
       "3    Bangalore   Updated on: 28 December 2022   1st Owner  2011 model   \n",
       "4    Bangalore   Updated on: 28 December 2022   1st Owner  2013 model   \n",
       "..          ...                            ...        ...         ...   \n",
       "647     Mohali   Updated on: 10 November 2022   1st Owner  2019 model   \n",
       "648     Mohali   Updated on: 03 November 2022   1st Owner  2020 model   \n",
       "649     Mohali    Updated on: 28 October 2022   1st Owner  2012 model   \n",
       "650     Mohali    Updated on: 25 October 2022   1st Owner  2013 model   \n",
       "651     Mohali    Updated on: 04 October 2022   1st Owner  2015 model   \n",
       "\n",
       "                                                Name KMs_driven  \\\n",
       "0                    Bajaj Pulsar NS200 ABS - BS IV        8000   \n",
       "1                             KTM 250 Duke Standard        2500   \n",
       "2                   TVS Ronin TD - Dual Channel ABS        1400   \n",
       "3                       Bajaj Pulsar 150 Kick Start       55000   \n",
       "4                                 Honda Dio Old Dio       45000   \n",
       "..                                               ...        ...   \n",
       "647                 TVS Apache RR310 Slipper Clutch       16000   \n",
       "648               Yamaha FZ S FI Single Channel ABS       11000   \n",
       "649  Honda Shine Electric Start/Drum/Alloy (BS III)       99000   \n",
       "650           Honda Dream Yuga Electric Start/Alloy       61392   \n",
       "651                Bajaj Platina 100 Alloy Wheel ES       45000   \n",
       "\n",
       "    Price_in_rupees  \n",
       "0           120000   \n",
       "1           160000   \n",
       "2           200000   \n",
       "3            25000   \n",
       "4            30000   \n",
       "..              ...  \n",
       "647         180000   \n",
       "648         105000   \n",
       "649          20000   \n",
       "650          35000   \n",
       "651          40000   \n",
       "\n",
       "[652 rows x 7 columns]"
      ]
     },
     "execution_count": 68,
     "metadata": {},
     "output_type": "execute_result"
    }
   ],
   "source": [
    "bikes"
   ]
  },
  {
   "cell_type": "code",
   "execution_count": 69,
   "id": "fd6376c5",
   "metadata": {},
   "outputs": [],
   "source": [
    "posted=[]\n",
    "posted_on=[]\n",
    "for i in bikes['Posted_on']:\n",
    "    posted.append(i.replace('Updated on: ',\"\"))\n",
    "for i in posted:\n",
    "    posted_on.append(i.replace(',', \"\"))"
   ]
  },
  {
   "cell_type": "code",
   "execution_count": 70,
   "id": "f1a740f9",
   "metadata": {},
   "outputs": [],
   "source": [
    "bikes=bikes.drop('Posted_on',axis=1)"
   ]
  },
  {
   "cell_type": "code",
   "execution_count": 71,
   "id": "471e40e5",
   "metadata": {},
   "outputs": [],
   "source": [
    "bikes['posted_on']=posted_on"
   ]
  },
  {
   "cell_type": "code",
   "execution_count": 72,
   "id": "73877fde",
   "metadata": {},
   "outputs": [
    {
     "data": {
      "text/html": [
       "<div>\n",
       "<style scoped>\n",
       "    .dataframe tbody tr th:only-of-type {\n",
       "        vertical-align: middle;\n",
       "    }\n",
       "\n",
       "    .dataframe tbody tr th {\n",
       "        vertical-align: top;\n",
       "    }\n",
       "\n",
       "    .dataframe thead th {\n",
       "        text-align: right;\n",
       "    }\n",
       "</style>\n",
       "<table border=\"1\" class=\"dataframe\">\n",
       "  <thead>\n",
       "    <tr style=\"text-align: right;\">\n",
       "      <th></th>\n",
       "      <th>Location</th>\n",
       "      <th>Type_Owner</th>\n",
       "      <th>year</th>\n",
       "      <th>Name</th>\n",
       "      <th>KMs_driven</th>\n",
       "      <th>Price_in_rupees</th>\n",
       "      <th>posted_on</th>\n",
       "    </tr>\n",
       "  </thead>\n",
       "  <tbody>\n",
       "    <tr>\n",
       "      <th>0</th>\n",
       "      <td>Bangalore</td>\n",
       "      <td>1st Owner</td>\n",
       "      <td>2019 model</td>\n",
       "      <td>Bajaj Pulsar NS200 ABS - BS IV</td>\n",
       "      <td>8000</td>\n",
       "      <td>120000</td>\n",
       "      <td>28 December 2022</td>\n",
       "    </tr>\n",
       "    <tr>\n",
       "      <th>1</th>\n",
       "      <td>Bangalore</td>\n",
       "      <td>1st Owner</td>\n",
       "      <td>2018 model</td>\n",
       "      <td>KTM 250 Duke Standard</td>\n",
       "      <td>2500</td>\n",
       "      <td>160000</td>\n",
       "      <td>28 December 2022</td>\n",
       "    </tr>\n",
       "    <tr>\n",
       "      <th>2</th>\n",
       "      <td>Bangalore</td>\n",
       "      <td>1st Owner</td>\n",
       "      <td>2022 model</td>\n",
       "      <td>TVS Ronin TD - Dual Channel ABS</td>\n",
       "      <td>1400</td>\n",
       "      <td>200000</td>\n",
       "      <td>28 December 2022</td>\n",
       "    </tr>\n",
       "    <tr>\n",
       "      <th>3</th>\n",
       "      <td>Bangalore</td>\n",
       "      <td>1st Owner</td>\n",
       "      <td>2011 model</td>\n",
       "      <td>Bajaj Pulsar 150 Kick Start</td>\n",
       "      <td>55000</td>\n",
       "      <td>25000</td>\n",
       "      <td>28 December 2022</td>\n",
       "    </tr>\n",
       "    <tr>\n",
       "      <th>4</th>\n",
       "      <td>Bangalore</td>\n",
       "      <td>1st Owner</td>\n",
       "      <td>2013 model</td>\n",
       "      <td>Honda Dio Old Dio</td>\n",
       "      <td>45000</td>\n",
       "      <td>30000</td>\n",
       "      <td>28 December 2022</td>\n",
       "    </tr>\n",
       "    <tr>\n",
       "      <th>...</th>\n",
       "      <td>...</td>\n",
       "      <td>...</td>\n",
       "      <td>...</td>\n",
       "      <td>...</td>\n",
       "      <td>...</td>\n",
       "      <td>...</td>\n",
       "      <td>...</td>\n",
       "    </tr>\n",
       "    <tr>\n",
       "      <th>647</th>\n",
       "      <td>Mohali</td>\n",
       "      <td>1st Owner</td>\n",
       "      <td>2019 model</td>\n",
       "      <td>TVS Apache RR310 Slipper Clutch</td>\n",
       "      <td>16000</td>\n",
       "      <td>180000</td>\n",
       "      <td>10 November 2022</td>\n",
       "    </tr>\n",
       "    <tr>\n",
       "      <th>648</th>\n",
       "      <td>Mohali</td>\n",
       "      <td>1st Owner</td>\n",
       "      <td>2020 model</td>\n",
       "      <td>Yamaha FZ S FI Single Channel ABS</td>\n",
       "      <td>11000</td>\n",
       "      <td>105000</td>\n",
       "      <td>03 November 2022</td>\n",
       "    </tr>\n",
       "    <tr>\n",
       "      <th>649</th>\n",
       "      <td>Mohali</td>\n",
       "      <td>1st Owner</td>\n",
       "      <td>2012 model</td>\n",
       "      <td>Honda Shine Electric Start/Drum/Alloy (BS III)</td>\n",
       "      <td>99000</td>\n",
       "      <td>20000</td>\n",
       "      <td>28 October 2022</td>\n",
       "    </tr>\n",
       "    <tr>\n",
       "      <th>650</th>\n",
       "      <td>Mohali</td>\n",
       "      <td>1st Owner</td>\n",
       "      <td>2013 model</td>\n",
       "      <td>Honda Dream Yuga Electric Start/Alloy</td>\n",
       "      <td>61392</td>\n",
       "      <td>35000</td>\n",
       "      <td>25 October 2022</td>\n",
       "    </tr>\n",
       "    <tr>\n",
       "      <th>651</th>\n",
       "      <td>Mohali</td>\n",
       "      <td>1st Owner</td>\n",
       "      <td>2015 model</td>\n",
       "      <td>Bajaj Platina 100 Alloy Wheel ES</td>\n",
       "      <td>45000</td>\n",
       "      <td>40000</td>\n",
       "      <td>04 October 2022</td>\n",
       "    </tr>\n",
       "  </tbody>\n",
       "</table>\n",
       "<p>652 rows × 7 columns</p>\n",
       "</div>"
      ],
      "text/plain": [
       "       Location Type_Owner        year  \\\n",
       "0    Bangalore   1st Owner  2019 model   \n",
       "1    Bangalore   1st Owner  2018 model   \n",
       "2    Bangalore   1st Owner  2022 model   \n",
       "3    Bangalore   1st Owner  2011 model   \n",
       "4    Bangalore   1st Owner  2013 model   \n",
       "..          ...        ...         ...   \n",
       "647     Mohali   1st Owner  2019 model   \n",
       "648     Mohali   1st Owner  2020 model   \n",
       "649     Mohali   1st Owner  2012 model   \n",
       "650     Mohali   1st Owner  2013 model   \n",
       "651     Mohali   1st Owner  2015 model   \n",
       "\n",
       "                                                Name KMs_driven  \\\n",
       "0                    Bajaj Pulsar NS200 ABS - BS IV        8000   \n",
       "1                             KTM 250 Duke Standard        2500   \n",
       "2                   TVS Ronin TD - Dual Channel ABS        1400   \n",
       "3                       Bajaj Pulsar 150 Kick Start       55000   \n",
       "4                                 Honda Dio Old Dio       45000   \n",
       "..                                               ...        ...   \n",
       "647                 TVS Apache RR310 Slipper Clutch       16000   \n",
       "648               Yamaha FZ S FI Single Channel ABS       11000   \n",
       "649  Honda Shine Electric Start/Drum/Alloy (BS III)       99000   \n",
       "650           Honda Dream Yuga Electric Start/Alloy       61392   \n",
       "651                Bajaj Platina 100 Alloy Wheel ES       45000   \n",
       "\n",
       "    Price_in_rupees          posted_on  \n",
       "0           120000   28 December 2022   \n",
       "1           160000   28 December 2022   \n",
       "2           200000   28 December 2022   \n",
       "3            25000   28 December 2022   \n",
       "4            30000   28 December 2022   \n",
       "..              ...                ...  \n",
       "647         180000   10 November 2022   \n",
       "648         105000   03 November 2022   \n",
       "649          20000    28 October 2022   \n",
       "650          35000    25 October 2022   \n",
       "651          40000    04 October 2022   \n",
       "\n",
       "[652 rows x 7 columns]"
      ]
     },
     "execution_count": 72,
     "metadata": {},
     "output_type": "execute_result"
    }
   ],
   "source": [
    "bikes\n"
   ]
  },
  {
   "cell_type": "code",
   "execution_count": 73,
   "id": "522a2081",
   "metadata": {},
   "outputs": [],
   "source": [
    "Type_owner=[]\n",
    "for i in bikes['Type_Owner']:\n",
    "    Type_owner.append(i.replace(' Owner',\"\"))\n",
    "    "
   ]
  },
  {
   "cell_type": "code",
   "execution_count": 74,
   "id": "9da64ba4",
   "metadata": {},
   "outputs": [],
   "source": [
    "bikes=bikes.drop('Type_Owner',axis=1)"
   ]
  },
  {
   "cell_type": "code",
   "execution_count": 75,
   "id": "eca05d47",
   "metadata": {},
   "outputs": [],
   "source": [
    "bikes['Type_owner']=Type_owner\n"
   ]
  },
  {
   "cell_type": "code",
   "execution_count": 76,
   "id": "88a101b6",
   "metadata": {},
   "outputs": [
    {
     "data": {
      "text/html": [
       "<div>\n",
       "<style scoped>\n",
       "    .dataframe tbody tr th:only-of-type {\n",
       "        vertical-align: middle;\n",
       "    }\n",
       "\n",
       "    .dataframe tbody tr th {\n",
       "        vertical-align: top;\n",
       "    }\n",
       "\n",
       "    .dataframe thead th {\n",
       "        text-align: right;\n",
       "    }\n",
       "</style>\n",
       "<table border=\"1\" class=\"dataframe\">\n",
       "  <thead>\n",
       "    <tr style=\"text-align: right;\">\n",
       "      <th></th>\n",
       "      <th>Location</th>\n",
       "      <th>year</th>\n",
       "      <th>Name</th>\n",
       "      <th>KMs_driven</th>\n",
       "      <th>Price_in_rupees</th>\n",
       "      <th>posted_on</th>\n",
       "      <th>Type_owner</th>\n",
       "    </tr>\n",
       "  </thead>\n",
       "  <tbody>\n",
       "    <tr>\n",
       "      <th>0</th>\n",
       "      <td>Bangalore</td>\n",
       "      <td>2019 model</td>\n",
       "      <td>Bajaj Pulsar NS200 ABS - BS IV</td>\n",
       "      <td>8000</td>\n",
       "      <td>120000</td>\n",
       "      <td>28 December 2022</td>\n",
       "      <td>1st</td>\n",
       "    </tr>\n",
       "    <tr>\n",
       "      <th>1</th>\n",
       "      <td>Bangalore</td>\n",
       "      <td>2018 model</td>\n",
       "      <td>KTM 250 Duke Standard</td>\n",
       "      <td>2500</td>\n",
       "      <td>160000</td>\n",
       "      <td>28 December 2022</td>\n",
       "      <td>1st</td>\n",
       "    </tr>\n",
       "    <tr>\n",
       "      <th>2</th>\n",
       "      <td>Bangalore</td>\n",
       "      <td>2022 model</td>\n",
       "      <td>TVS Ronin TD - Dual Channel ABS</td>\n",
       "      <td>1400</td>\n",
       "      <td>200000</td>\n",
       "      <td>28 December 2022</td>\n",
       "      <td>1st</td>\n",
       "    </tr>\n",
       "    <tr>\n",
       "      <th>3</th>\n",
       "      <td>Bangalore</td>\n",
       "      <td>2011 model</td>\n",
       "      <td>Bajaj Pulsar 150 Kick Start</td>\n",
       "      <td>55000</td>\n",
       "      <td>25000</td>\n",
       "      <td>28 December 2022</td>\n",
       "      <td>1st</td>\n",
       "    </tr>\n",
       "    <tr>\n",
       "      <th>4</th>\n",
       "      <td>Bangalore</td>\n",
       "      <td>2013 model</td>\n",
       "      <td>Honda Dio Old Dio</td>\n",
       "      <td>45000</td>\n",
       "      <td>30000</td>\n",
       "      <td>28 December 2022</td>\n",
       "      <td>1st</td>\n",
       "    </tr>\n",
       "    <tr>\n",
       "      <th>...</th>\n",
       "      <td>...</td>\n",
       "      <td>...</td>\n",
       "      <td>...</td>\n",
       "      <td>...</td>\n",
       "      <td>...</td>\n",
       "      <td>...</td>\n",
       "      <td>...</td>\n",
       "    </tr>\n",
       "    <tr>\n",
       "      <th>647</th>\n",
       "      <td>Mohali</td>\n",
       "      <td>2019 model</td>\n",
       "      <td>TVS Apache RR310 Slipper Clutch</td>\n",
       "      <td>16000</td>\n",
       "      <td>180000</td>\n",
       "      <td>10 November 2022</td>\n",
       "      <td>1st</td>\n",
       "    </tr>\n",
       "    <tr>\n",
       "      <th>648</th>\n",
       "      <td>Mohali</td>\n",
       "      <td>2020 model</td>\n",
       "      <td>Yamaha FZ S FI Single Channel ABS</td>\n",
       "      <td>11000</td>\n",
       "      <td>105000</td>\n",
       "      <td>03 November 2022</td>\n",
       "      <td>1st</td>\n",
       "    </tr>\n",
       "    <tr>\n",
       "      <th>649</th>\n",
       "      <td>Mohali</td>\n",
       "      <td>2012 model</td>\n",
       "      <td>Honda Shine Electric Start/Drum/Alloy (BS III)</td>\n",
       "      <td>99000</td>\n",
       "      <td>20000</td>\n",
       "      <td>28 October 2022</td>\n",
       "      <td>1st</td>\n",
       "    </tr>\n",
       "    <tr>\n",
       "      <th>650</th>\n",
       "      <td>Mohali</td>\n",
       "      <td>2013 model</td>\n",
       "      <td>Honda Dream Yuga Electric Start/Alloy</td>\n",
       "      <td>61392</td>\n",
       "      <td>35000</td>\n",
       "      <td>25 October 2022</td>\n",
       "      <td>1st</td>\n",
       "    </tr>\n",
       "    <tr>\n",
       "      <th>651</th>\n",
       "      <td>Mohali</td>\n",
       "      <td>2015 model</td>\n",
       "      <td>Bajaj Platina 100 Alloy Wheel ES</td>\n",
       "      <td>45000</td>\n",
       "      <td>40000</td>\n",
       "      <td>04 October 2022</td>\n",
       "      <td>1st</td>\n",
       "    </tr>\n",
       "  </tbody>\n",
       "</table>\n",
       "<p>652 rows × 7 columns</p>\n",
       "</div>"
      ],
      "text/plain": [
       "       Location        year                                             Name  \\\n",
       "0    Bangalore   2019 model                  Bajaj Pulsar NS200 ABS - BS IV    \n",
       "1    Bangalore   2018 model                           KTM 250 Duke Standard    \n",
       "2    Bangalore   2022 model                 TVS Ronin TD - Dual Channel ABS    \n",
       "3    Bangalore   2011 model                     Bajaj Pulsar 150 Kick Start    \n",
       "4    Bangalore   2013 model                               Honda Dio Old Dio    \n",
       "..          ...         ...                                              ...   \n",
       "647     Mohali   2019 model                 TVS Apache RR310 Slipper Clutch    \n",
       "648     Mohali   2020 model               Yamaha FZ S FI Single Channel ABS    \n",
       "649     Mohali   2012 model  Honda Shine Electric Start/Drum/Alloy (BS III)    \n",
       "650     Mohali   2013 model           Honda Dream Yuga Electric Start/Alloy    \n",
       "651     Mohali   2015 model                Bajaj Platina 100 Alloy Wheel ES    \n",
       "\n",
       "    KMs_driven Price_in_rupees          posted_on Type_owner  \n",
       "0         8000         120000   28 December 2022         1st  \n",
       "1         2500         160000   28 December 2022         1st  \n",
       "2         1400         200000   28 December 2022         1st  \n",
       "3        55000          25000   28 December 2022         1st  \n",
       "4        45000          30000   28 December 2022         1st  \n",
       "..         ...             ...                ...        ...  \n",
       "647      16000         180000   10 November 2022         1st  \n",
       "648      11000         105000   03 November 2022         1st  \n",
       "649      99000          20000    28 October 2022         1st  \n",
       "650      61392          35000    25 October 2022         1st  \n",
       "651      45000          40000    04 October 2022         1st  \n",
       "\n",
       "[652 rows x 7 columns]"
      ]
     },
     "execution_count": 76,
     "metadata": {},
     "output_type": "execute_result"
    }
   ],
   "source": [
    "bikes"
   ]
  },
  {
   "cell_type": "code",
   "execution_count": 77,
   "id": "b4ab447b",
   "metadata": {},
   "outputs": [],
   "source": [
    "Name=[]\n",
    "for i in bikes['Name']:\n",
    "    Name.append(i.replace(' Name',\"\"))\n",
    "    \n",
    "    "
   ]
  },
  {
   "cell_type": "code",
   "execution_count": 78,
   "id": "7f82041c",
   "metadata": {},
   "outputs": [],
   "source": [
    "bikes=bikes.drop('Name',axis=1)"
   ]
  },
  {
   "cell_type": "code",
   "execution_count": 79,
   "id": "04225364",
   "metadata": {},
   "outputs": [],
   "source": [
    "bikes['Name']=Name"
   ]
  },
  {
   "cell_type": "code",
   "execution_count": 80,
   "id": "a8d3b56f",
   "metadata": {},
   "outputs": [
    {
     "data": {
      "text/plain": [
       "['Bajaj Pulsar NS200 ABS - BS IV ',\n",
       " 'KTM 250 Duke Standard ',\n",
       " 'TVS Ronin TD - Dual Channel ABS ',\n",
       " 'Bajaj Pulsar 150 Kick Start ',\n",
       " 'Honda Dio Old Dio ',\n",
       " 'Yamaha YZF R15 V3 [2018 - 2021] Dual Channel ABS ',\n",
       " 'Honda CB350RS Monotone ',\n",
       " 'Royal Enfield Thunderbird Twinspark Standard ',\n",
       " 'Honda CB Hornet 160R STD - 2017 ',\n",
       " 'Vespa LX 125 Standard ',\n",
       " 'Bajaj Pulsar RS 200 ABS - BS IV ',\n",
       " 'Bajaj Avenger Street 220 Standard ',\n",
       " 'Bajaj Discover 150S Disc ',\n",
       " 'Hero Passion XPro Disc ',\n",
       " 'TVS Scooty Pep Plus Standard ',\n",
       " 'Honda Activa [2000-2015] Standard ',\n",
       " 'Bajaj Pulsar 150 Standard ',\n",
       " 'Bajaj Pulsar 180 Bikini Fairing ',\n",
       " 'Bajaj Avenger Street 220 Standard ',\n",
       " 'Bajaj Avenger Street 160 Standard - BS IV ',\n",
       " 'Mahindra Gusto VX Spl Edition ',\n",
       " 'Honda CB Unicorn 150 ABS ',\n",
       " 'Honda CB Hornet 160R CBS - 2017 ',\n",
       " 'Hero Xtreme Sports Front Disc Self ',\n",
       " 'Bajaj Discover 150S Disc ',\n",
       " 'Bajaj Avenger Street 220 Standard ',\n",
       " 'Bajaj Dominar 400 Standard - BS IV ',\n",
       " 'Yamaha FZ X Bluetooth ',\n",
       " 'Jawa 42 Dual Channel ABS - BS VI ',\n",
       " 'Yamaha YZF R15 [2011-2018] V1 ',\n",
       " 'Royal Enfield Machismo 350 ',\n",
       " 'Royal Enfield Meteor 350 Fireball ',\n",
       " 'KTM 200 Duke Standard ',\n",
       " 'Royal Enfield Classic 350 [2020] Chrome and Stealth - BS VI ',\n",
       " 'Hero Maestro Edge 110 VX ',\n",
       " 'Vespa LX 125 Standard ',\n",
       " 'Suzuki Access 125 Steel Wheel - Drum - CBS -Fi ',\n",
       " 'Royal Enfield Bullet 350 ES ',\n",
       " 'Honda CB Unicorn 150 Standard ',\n",
       " 'Yamaha SZ X Standard ',\n",
       " 'Suzuki Gixxer Single Channel ABS ',\n",
       " 'Hero Passion Pro Drum - BS VI ',\n",
       " 'Hero Pleasure Drum Brake Alloy Wheel ',\n",
       " 'Bajaj Pulsar NS200 ABS - BS IV ',\n",
       " 'Bajaj Xcd 125 cc ',\n",
       " 'Honda Activa 3G Standard (BS III) ',\n",
       " 'Bajaj Ct 100 ',\n",
       " 'TVS Apache RR310 BS VI [2021] ',\n",
       " 'Bajaj Pulsar 150 Standard ',\n",
       " 'Bajaj Pulsar 220 F Standard ',\n",
       " 'Honda CB Unicorn Dazzler Deluxe ',\n",
       " 'Yamaha Fazer [2009-2016] Standard ',\n",
       " 'Yamaha Fazer [2009-2016] Standard ',\n",
       " 'Honda Shine Drum Self ',\n",
       " 'Royal Enfield Electra 4 S Self ',\n",
       " 'Bajaj Platina 110 H-Gear - ABS ',\n",
       " 'Honda CB Shine SP Drum (BS III) ',\n",
       " 'Bajaj Pulsar 180F Standard ',\n",
       " 'Bajaj Pulsar 125 Disc - CBS ',\n",
       " 'LML Adreno Fx Drum Brake ',\n",
       " 'Hero Maestro Edge 110 Drum Brake Alloy Wheel - VX ',\n",
       " 'Royal Enfield Electra Twinspark Standard ',\n",
       " 'TVS Star City Alloy wheels ',\n",
       " 'Hero Maestro Special Edition ',\n",
       " 'Jawa 42 Version 2.1 ',\n",
       " 'Bajaj Pulsar 220 Fi Standard ',\n",
       " 'Hero Honda Splendor PRO Self ',\n",
       " 'Kawasaki Ninja 650 [2018-2019] KRT Edition ',\n",
       " 'Royal Enfield Meteor 350 Supernova ',\n",
       " 'Mahindra Centuro NXT ',\n",
       " 'Bajaj Pulsar 150 Classic ',\n",
       " 'Honda Shine Drum Self ',\n",
       " 'Honda Shine Disc ',\n",
       " 'Royal Enfield Meteor 350 Stellar ',\n",
       " 'Jawa Standard Dual Channel ABS - BS IV ',\n",
       " 'Bajaj Discover 100 4 Speed ',\n",
       " 'Honda CB Unicorn Kick Start ',\n",
       " 'Hero Passion PRO i3s Self Drum Alloy - IBS ',\n",
       " 'Bajaj Pulsar 220 F Standard ',\n",
       " 'Royal Enfield Thunderbird 350 Disc ',\n",
       " 'KTM 250 Duke Standard ',\n",
       " 'Bajaj Pulsar NS125 Standard ',\n",
       " 'Bajaj Avenger Street 160 BS VI ',\n",
       " 'Hero Honda Splendor Plus Drum ',\n",
       " 'Honda CB Unicorn Kick Start ',\n",
       " 'Royal Enfield Continental GT 650 Chrome - BS VI ',\n",
       " 'KTM RC 200 [2020] ABS ',\n",
       " 'Royal Enfield Bullet 350 Standard ',\n",
       " 'Royal Enfield Himalayan Standard - BS VI [2021] ',\n",
       " 'Bajaj Avenger Cruise 220 Standard ',\n",
       " 'Honda Activa i [2016-2017] Standard ',\n",
       " 'Bajaj Pulsar NS160 Twin Disc - ABS - BS VI ',\n",
       " 'Suzuki Burgman Street 125 BS VI ',\n",
       " 'Suzuki Access 125 Drum ',\n",
       " 'Yamaha FZ16 Standard ',\n",
       " 'Honda Activa [2000-2015] Deluxe ',\n",
       " 'Royal Enfield Thunderbird 350 Disc ',\n",
       " 'Honda Shine Disc - BS6 ',\n",
       " 'Suzuki Access 125 Drum ',\n",
       " 'Bajaj Pulsar 220 F Standard ',\n",
       " 'Bajaj Avenger Cruise 220 Standard ',\n",
       " 'KTM 250 Duke [2021] BS VI ',\n",
       " 'Honda Shine Drum ',\n",
       " 'Suzuki Gixxer [2014-2018] Rear Drum ',\n",
       " 'TVS Apache RTR 200 4V ABS ',\n",
       " 'Hero Passion X Pro [2016-2017] Drum Self Alloy ',\n",
       " 'TVS Scooty Streak Standard ',\n",
       " 'Bajaj Avenger Street 220 Standard ',\n",
       " 'Honda Shine Drum Self ',\n",
       " 'TVS Apache RTR 160 Front Disc ',\n",
       " 'Bajaj Pulsar NS160 Twin Disc - ABS - BS VI ',\n",
       " 'Bajaj Dominar 400 Standard - BS IV ',\n",
       " 'BMW G 310 R Standard ',\n",
       " 'Honda CB Twister Disc/Electric start ',\n",
       " 'Honda Activa 3G Standard (BS III) ',\n",
       " 'TVS Jupiter ZX Disc ',\n",
       " 'Hero Glamour 125 Drum Brake ',\n",
       " 'Yamaha FZ S V 2.0 Rear Disc ',\n",
       " 'Royal Enfield Electra Twinspark Standard ',\n",
       " 'Suzuki Gixxer SF Standard ',\n",
       " 'Yamaha FZ16 Standard ',\n",
       " 'Bajaj Pulsar 220 F Standard ',\n",
       " 'PURE EV EPluto 7G Standard ',\n",
       " 'Honda Activa [2000-2015] Deluxe ',\n",
       " 'Hero Xpulse 200 Fuel Injection ',\n",
       " 'Hero Xtreme Sports Front Disc Self ',\n",
       " 'Royal Enfield Continental GT 650 Chrome - BS VI ',\n",
       " 'Hero Honda CBZ extreme Self ',\n",
       " 'Bajaj Pulsar N160 Dual Channel ABS ',\n",
       " 'TVS Ntorq 125 XT ',\n",
       " 'Honda Eterno Standard ',\n",
       " 'Honda Activa 125 Disc ',\n",
       " 'Hero Honda Passion X Pro Standard ',\n",
       " 'Honda Shine Electric Start/Disc/Alloy (BS III) ',\n",
       " 'TVS Apache RTR 180 [2018-2019] Standard ',\n",
       " 'TVS Apache RTR 160 Front Disc ',\n",
       " 'Vespa LX 125 Standard ',\n",
       " 'Suzuki GS150R Standard ',\n",
       " 'Hero Xpulse 200 Standard ',\n",
       " 'TVS Radeon Drum - SBT - BS IV ',\n",
       " 'Suzuki Burgman Street 125 Standard - BS IV ',\n",
       " 'Honda Activa 125 Disc ',\n",
       " 'Bajaj Dominar 400 Standard - BS IV ',\n",
       " 'TVS Apache RTR 200 4V ABS R 2.0 ',\n",
       " 'Bajaj Discover 100 T Disc Brake ',\n",
       " 'Honda Activa 125 [2016-2017] Std ',\n",
       " 'Hero Passion PRO i3s Self Disc Alloy ',\n",
       " 'Yamaha FZ16 Standard ',\n",
       " 'Bajaj Avenger Street 220 Standard ',\n",
       " 'BMW G 310 GS [2021] Standard ',\n",
       " 'Hero Honda CBZ extreme Self ',\n",
       " 'Honda X-Blade Single Disc ',\n",
       " 'Bajaj Pulsar 220 DTS-i Standard ',\n",
       " 'TVS Apache RR310 BS VI [2021] ',\n",
       " 'Mahindra Duro Standard ',\n",
       " 'Hero Ignitor Disc Brake ',\n",
       " 'Bajaj Pulsar 220 Fi Standard ',\n",
       " 'Kawasaki Z900 Standard ',\n",
       " 'TVS Scooty Pep Plus Matte Edition - SBT - BS IV ',\n",
       " 'Hero Karizma [2003-2014] R ',\n",
       " 'Royal Enfield Electra 5 S Disc Self ',\n",
       " 'Royal Enfield Thunderbird Twinspark Standard ',\n",
       " 'Bajaj Pulsar AS200 Standard ',\n",
       " 'Royal Enfield Thunderbird 500 Standard ',\n",
       " 'Bajaj Pulsar 180F Neon - ABS - BS IV ',\n",
       " 'Bajaj Pulsar 150 Standard ',\n",
       " 'Aprilia SR 125 BS IV - Carb ',\n",
       " 'Honda CB Unicorn 150 Standard ',\n",
       " 'Royal Enfield Classic Signals ABS ',\n",
       " 'Harley-Davidson Street 750 Standard ',\n",
       " 'Hero Glamour 125 Drum Brake ',\n",
       " 'TVS Phoenix 125 Disc ',\n",
       " 'Aprilia Storm 125 Disc ',\n",
       " 'Bajaj Dominar 400 Standard - BS IV ',\n",
       " 'Hero Honda Splendor PRO Self ',\n",
       " 'Bajaj Xcd 125 cc ',\n",
       " 'Jawa 42 Version 2.1 ',\n",
       " 'Royal Enfield Interceptor 650 Chrome - BS VI ',\n",
       " 'Honda Activa 6G Standard ',\n",
       " 'Royal Enfield Himalayan Fi ABS - BS IV ',\n",
       " 'Benelli Imperiale 400 Dual Channel ABS ',\n",
       " 'Bajaj Discover125 Drum Brake ',\n",
       " 'Hero Xtreme [2013-2014] Rear Drum Brake ',\n",
       " 'Bajaj CT 100 ES Alloy - CBS BS IV ',\n",
       " 'Royal Enfield Continental GT 650 Standard - BS VI ',\n",
       " 'Bajaj Dominar 250 Standard ',\n",
       " 'Bajaj Platina 100 Platina 100 Spoke Wheel ',\n",
       " 'Honda Dream Neo Self ',\n",
       " 'Hero Xpulse 200 4V Standard ',\n",
       " 'Yamaha FZ V 2.0 Standard ',\n",
       " 'Bajaj Pulsar NS200 ABS - BS IV ',\n",
       " 'Bajaj Pulsar NS160 Twin Disc - ABS - BS IV ',\n",
       " 'Honda Activa 3G Standard (BS III) ',\n",
       " 'Hero Honda CBZ extreme Self ',\n",
       " 'TVS Apache RTR 160 4V Disc ',\n",
       " 'Yamaha Aerox 155 Standard ',\n",
       " 'Hero Passion PRO i3s Self Drum Alloy - IBS ',\n",
       " 'Royal Enfield Thunderbird 350 Disc Self ',\n",
       " 'Yamaha FZ V 2.0 Standard ',\n",
       " 'TVS Ntorq 125 Disc ',\n",
       " 'Honda X-Blade Single Disc ',\n",
       " 'Honda Shine Drum ',\n",
       " 'Bajaj Pulsar NS125 Standard ',\n",
       " 'Royal Enfield Meteor 350 Stellar ',\n",
       " 'Bajaj Pulsar 220S Standard ',\n",
       " 'Honda Shine Electric Start/Drum/Alloy (BS III) ',\n",
       " 'Bajaj Avenger Street 160 Standard - BS IV ',\n",
       " 'Hero Honda Splendor Plus Drum ',\n",
       " 'Kawasaki Ninja 650 [2016] Standard ',\n",
       " 'PURE EV EPluto 7G Standard ',\n",
       " 'TVS Star City Spoke Wheels ',\n",
       " 'Bajaj Pulsar 150 Twin Disc ',\n",
       " 'Yamaha YZF R15 [2011-2018] V1 ',\n",
       " 'Honda CB Hornet 160R CBS ',\n",
       " 'Hero Honda Splendor NXG Standard ',\n",
       " 'Royal Enfield Classic Signals ABS ',\n",
       " 'Hero Honda CBZ extreme Self ',\n",
       " 'Honda CB Unicorn Standard ',\n",
       " 'Bajaj Discover 100 M Disc ',\n",
       " 'Yamaha Ray Z Standard ',\n",
       " 'Suzuki Access 125 [2007-2016] Standard ',\n",
       " 'Bajaj CT 110 KS Alloy BS6 ',\n",
       " 'Mahindra Flyte Standard ',\n",
       " 'Hero Passion Pro Drum ',\n",
       " 'Yamaha SZ-S Standard ',\n",
       " 'TVS Ntorq 125 Disc - BS VI ',\n",
       " 'Suzuki Access 125 [2007-2016] Standard ',\n",
       " 'Honda Activa i Standard ',\n",
       " 'Suzuki Burgman Street 125 Standard - BS IV ',\n",
       " 'Bajaj Platina 100 Alloy Wheel ES ',\n",
       " 'Yamaha FZ V 2.0 Standard ',\n",
       " 'Honda Livo Drum ',\n",
       " 'Bajaj Avenger Street 220 Standard ',\n",
       " 'Honda Dio Deluxe ',\n",
       " 'Suzuki Gixxer SF [2015-2018] Special MOTOGP Edition ',\n",
       " 'KTM 390 Duke Standard ',\n",
       " 'TVS Apache RTR 160 4V Disc - ABS ',\n",
       " 'Bajaj Pulsar 220 F Standard ',\n",
       " 'Bajaj Discover 150S Drum ',\n",
       " 'Hero Honda Splendor Plus Drum ',\n",
       " 'Harley-Davidson Street Rod Standard ',\n",
       " 'Honda CB Twister Drum/Electric start ',\n",
       " 'Bajaj Discover 150 Standard ',\n",
       " 'Yamaha Alpha Disc ',\n",
       " 'Bajaj Platina 110 ABS ',\n",
       " 'Royal Enfield Bullet 350 ES ',\n",
       " 'KTM 390 Duke [2021] BS VI ',\n",
       " 'Honda CB Hornet 160R STD - 2017 ',\n",
       " 'TVS Ntorq 125 Disc ',\n",
       " 'TVS Scooty Zest 110 Standard ',\n",
       " 'Honda Dream Yuga Electric Start/Alloy ',\n",
       " 'Honda CB Trigger Standard ',\n",
       " 'Suzuki Gixxer SF Fi ABS ',\n",
       " 'Bajaj Pulsar 220 F Standard ',\n",
       " 'Hero Honda Splendor Plus Drum ',\n",
       " 'Suzuki Gixxer SF Fi ABS ',\n",
       " 'Bajaj Pulsar RS 200 Standard ',\n",
       " 'TVS Jupiter Standard - SBT ',\n",
       " 'Yamaha YZF R15 V3 [2018 - 2021] Standard ',\n",
       " 'Royal Enfield Classic Signals ABS ',\n",
       " 'Bajaj Pulsar 135 LS Standard ',\n",
       " 'Husqvarna Svartpilen 250 Standard ',\n",
       " 'TVS Jupiter Standard ',\n",
       " 'Bajaj Avenger [2015] 220 DTS- i ',\n",
       " 'Honda Activa 6G Premium Edition Deluxe ',\n",
       " 'Honda Activa [2000-2015] Standard ',\n",
       " 'Hero Honda Passion Plus Drum ',\n",
       " 'Bajaj Avenger Cruise 220 BS VI ',\n",
       " 'Royal Enfield Classic Gunmetal Grey ABS ',\n",
       " 'Revolt RV 400 Premium ',\n",
       " 'Bajaj Pulsar NS200 Standard ',\n",
       " 'Royal Enfield Continental GT 650 Standard - BS IV ',\n",
       " 'Honda Shine Disk Kick ',\n",
       " 'Honda Activa 125 Drum Alloy ',\n",
       " 'Hero Passion XPro Drum - IBS ',\n",
       " 'Bajaj Avenger Street 150 [2018] Standard ',\n",
       " 'Bajaj Platina 100 Alloy Wheel ES ',\n",
       " 'Yamaha FZ S V 2.0 Rear Disc ',\n",
       " 'Honda Shine Drum (BS IV) [2017] ',\n",
       " 'Hero Honda Glamour Alloy Drum Self ',\n",
       " 'Hero Super Splendor Self-Drum Alloy - BS VI ',\n",
       " 'Honda Activa [2000-2015] Standard ',\n",
       " 'Hero Honda CD100 Standard ',\n",
       " 'Hero Xtreme 200S BS4 ',\n",
       " 'Honda CBR150 R Standard ',\n",
       " 'Bajaj Discover 150 Standard ',\n",
       " 'Jawa Perak Standard ',\n",
       " 'Bajaj Pulsar NS160 Single Disc ',\n",
       " 'Hero Passion Pro Drum ',\n",
       " 'Yamaha FZ S V 2.0 Ltd Edition-Rear Drum ',\n",
       " 'Bajaj Avenger Street 160 BS VI ',\n",
       " 'Suzuki Swish [2012-2015] 125 ',\n",
       " 'Honda CBR150 R Standard ',\n",
       " 'Hero Splendor PRO Self Drum Alloy ',\n",
       " 'Hero Honda Passion PRO [2012] Standard ',\n",
       " 'Honda Activa 3G Standard (BS III) ',\n",
       " 'Suzuki Access 125 Drum ',\n",
       " 'Honda SP 125 Drum ',\n",
       " 'Honda Shine Drum Self ',\n",
       " 'Bajaj Discover125 Kick ',\n",
       " 'Honda Activa 4G Standard (BS IV) ',\n",
       " 'Suzuki MAX100 Standard ',\n",
       " 'Honda Activa [2000-2015] Standard ',\n",
       " 'Hero Passion XPro Drum ',\n",
       " 'Hero Splendor Plus Kick Drum Spoke ',\n",
       " 'Honda Shine Kick/Drum/Spokes ',\n",
       " 'Yamaha FZ S FI Deluxe - BS VI [2022] ',\n",
       " 'Honda Activa [2000-2015] Standard ',\n",
       " 'Bajaj Avenger Street 180 Standard ',\n",
       " 'Honda CB Shine SP Disc - CBS ',\n",
       " 'TVS Apache RTR 160 4V Dual Disc - ABS - Without Connectivity [2022] ',\n",
       " 'Royal Enfield Classic Signals ABS ',\n",
       " 'Hero Honda Super Splendor [2005] Disc Kick ',\n",
       " 'Hero Splendor Plus Kick Drum Spoke ',\n",
       " 'Royal Enfield Bullet 500 Rear Disc ',\n",
       " 'Hero Splendor Plus Kick Drum Alloy ',\n",
       " 'TVS Apache RTR 160 4V Single Disc - ABS - [2021] ',\n",
       " 'KTM 390 Duke Standard ',\n",
       " 'Harley-Davidson Iron 883 Standard ',\n",
       " 'Hero Honda Passion Plus Drum ',\n",
       " 'Bajaj Avenger [2015] 220 DTS- i ',\n",
       " 'Hero Honda Passion X Pro Standard ',\n",
       " 'Royal Enfield Meteor 350 Stellar ',\n",
       " 'Royal Enfield Classic Gunmetal Grey Standard ',\n",
       " 'Honda CB Shine SP Disc - CBS ',\n",
       " 'Bajaj V15 Standard ',\n",
       " 'Royal Enfield Meteor 350 Stellar ',\n",
       " 'Bajaj Dominar 400 [2018] ABS ',\n",
       " 'Bajaj Discover125 Disc Brake ',\n",
       " 'Bajaj Pulsar NS125 Standard ',\n",
       " 'Bajaj Discover 100 M Drum ',\n",
       " 'Bajaj Pulsar 150 Standard ',\n",
       " 'Bajaj Discover 150F Disc ',\n",
       " 'Honda CB Hornet 160R Special Edition - CBS [2017] ',\n",
       " 'Royal Enfield Classic Chrome Single Disc ',\n",
       " 'TVS Apache RTR 160 Rear Disc ',\n",
       " 'Royal Enfield Thunderbird 350 Disc ',\n",
       " 'Bajaj Avenger [2015] 220 DTS- i ',\n",
       " 'Hero Glamour Drum - BS VI ',\n",
       " 'TVS Phoenix 125 Disc ',\n",
       " 'Bajaj Platina 100 Alloy Wheel ES ',\n",
       " 'Honda Dream Neo Kick Start-Drum Brake-Alloy ',\n",
       " 'Bajaj Pulsar 150 Standard ',\n",
       " 'Yamaha FZ V 2.0 Standard ',\n",
       " 'Hero Honda Passion PRO [2012] Standard ',\n",
       " 'Bajaj Pulsar 135 LS Standard ',\n",
       " 'Bajaj Pulsar 135 LS Standard ',\n",
       " 'Bajaj Discover 135 Standard ',\n",
       " 'Royal Enfield Classic 500 Chrome ',\n",
       " 'Royal Enfield Thunderbird 350 Disc ',\n",
       " 'BMW G 310 R [2021] Standard ',\n",
       " 'Bajaj Dominar 250 Standard ',\n",
       " 'Royal Enfield Meteor 350 Fireball ',\n",
       " 'Royal Enfield Himalayan Carburetor ',\n",
       " 'Bajaj Pulsar RS 200 BS VI ',\n",
       " 'Royal Enfield Classic 350 [2020] Standard - Dual Channel ABS ',\n",
       " 'Hero Honda Passion Plus Drum ',\n",
       " 'KTM 390 Duke Standard ',\n",
       " 'Hero Splendor Plus Electric Start ',\n",
       " 'Honda Activa [2000-2015] Standard ',\n",
       " 'Bajaj Pulsar 220S Standard ',\n",
       " 'Honda SP 125 Disc ',\n",
       " 'Hero Destini 125 VX - BS VI ',\n",
       " 'TVS Apache RTR 200 4V ABS ',\n",
       " 'TVS Apache RTR 160 Front Disc ',\n",
       " 'KTM 250 Duke Standard ',\n",
       " 'Yamaha YZF R15 V3 [2018 - 2021] Motogp Edition ',\n",
       " 'Bajaj Discover 100 T Drum Brake ',\n",
       " 'Honda Activa 3G Standard (BS III) ',\n",
       " 'Bajaj Pulsar 150 [2001-2011] Kick Start ',\n",
       " 'Honda Activa 6G Standard ',\n",
       " 'Honda Activa [2000-2015] Deluxe ',\n",
       " 'Hero Passion PRO i3s Self Drum Alloy ',\n",
       " 'Honda Activa 6G Deluxe ',\n",
       " 'Royal Enfield Classic 350 [2020] Standard ',\n",
       " 'Hero Splendor Plus Kick Drum Alloy ',\n",
       " 'Yamaha FZ S [2012-2016] Standard ',\n",
       " 'Hero Pleasure Drum Brake Alloy Wheel ',\n",
       " 'Royal Enfield Thunderbird 350 ABS ',\n",
       " 'Honda Dio BS IV ',\n",
       " 'Mahindra Centuro NXT ',\n",
       " 'Yamaha FZ S FI Single Channel ABS ',\n",
       " 'Yamaha SZ R Standard ',\n",
       " 'Hero Honda Karizma Standard ',\n",
       " 'Honda CB Unicorn Standard ',\n",
       " 'Honda Activa 5G Standard ',\n",
       " 'BMW G 310 R Standard ',\n",
       " 'Hero Honda Karizma Standard ',\n",
       " 'Honda CB Shine SP Drum ',\n",
       " 'Hero Passion XPro Drum ',\n",
       " 'Hero Passion Pro Disc - BS VI ',\n",
       " 'Hero Honda Passion PRO [2012] Standard ',\n",
       " 'Honda CBF Stunner Disc Self ',\n",
       " 'Honda CB Unicorn 160 CBS (BS IV) ',\n",
       " 'Kawasaki Ninja 300 [2018-2019] ABS ',\n",
       " 'Honda CBR250R ABS ',\n",
       " 'Honda CB Hornet 160R STD - 2017 ',\n",
       " 'Honda Activa [2000-2015] Standard ',\n",
       " 'Honda CB Unicorn Standard ',\n",
       " 'Bajaj Pulsar NS160 Twin Disc ',\n",
       " 'Hero Passion XPro Drum ',\n",
       " 'Hero Honda CBZ Self ',\n",
       " 'Yamaha FZ S [2012-2016] Standard ',\n",
       " 'Hero Xpulse 200 Fuel Injection ',\n",
       " 'Bajaj Platina 110 [2018-2020] ES Alloy CBS ',\n",
       " 'Bajaj Pulsar 150 Standard ',\n",
       " 'Yezdi Roadster Dark Smoke Grey - Inferno Red - Glacial White ',\n",
       " 'Bajaj Platina 110 H-Gear - ABS ',\n",
       " 'Bajaj Avenger [2015] 220 DTS- i ',\n",
       " 'Honda Shine Disc - BS6 ',\n",
       " 'Honda Dio Standard BS6 ',\n",
       " 'Royal Enfield Classic Signals ABS ',\n",
       " 'Bajaj Pulsar 220 F Standard ',\n",
       " 'KTM 250 Duke Standard ',\n",
       " 'Hero Duet VX ',\n",
       " 'TVS Ntorq 125 Race Edition ',\n",
       " 'Honda Activa 5G Standard ',\n",
       " 'Honda Activa [2000-2015] Standard ',\n",
       " 'Honda CB Unicorn GP E ',\n",
       " 'Honda CB Unicorn GP E ',\n",
       " 'Bajaj Pulsar 150 Kick Start ',\n",
       " 'TVS Apache RTR 160 Front Disc ',\n",
       " 'Suzuki Burgman Street 125 Bluetooth ',\n",
       " 'Bajaj Discover 150S Disc ',\n",
       " 'Hero Passion PRO i3s Self Drum Alloy ',\n",
       " 'Honda CB Shine SP Disc (BS IV) [2017] ',\n",
       " 'TVS Apache RTR 160 Front Disc ',\n",
       " 'Hero Honda CBZ Disc ',\n",
       " 'Bajaj Pulsar 150 Single Disc - Dagger Edge Edition ',\n",
       " 'Hero Honda CD Deluxe Standard ',\n",
       " 'Royal Enfield Thunderbird 350 Disc Self ',\n",
       " 'Honda CD 110 Dream Deluxe Carrier (CBS) BS IV ',\n",
       " 'Yamaha SZ-S Standard ',\n",
       " 'Yamaha YZF R15 [2011-2018] V 2.0 ',\n",
       " 'Honda CB Shine SP Drum ',\n",
       " 'Hero Xtreme [2013-2014] Rear Drum Brake ',\n",
       " 'Honda Shine Disc ',\n",
       " 'Hero Maestro Edge 110 LX ',\n",
       " 'Honda CB Trigger Standard ',\n",
       " 'Bajaj Pulsar NS160 Twin Disc ',\n",
       " 'Hero Pleasure Drum Brake ',\n",
       " 'Bajaj Pulsar 180 [2001-2019] Standard ',\n",
       " 'KTM RC 125 Standard ',\n",
       " 'Bajaj Platina 100 KS Alloy ',\n",
       " 'Yamaha MT 15 [2020-2021] BS VI ',\n",
       " 'Bajaj Discover 150F Disc ',\n",
       " 'Hero Glamour FI IBS ',\n",
       " 'Yamaha FZ25 Standard BS4 ',\n",
       " 'Bajaj Discover125 Drum Brake ',\n",
       " 'Hero Honda Achiever Disc Self ',\n",
       " 'Bajaj Pulsar 150 Standard ',\n",
       " 'BMW G 310 R [2018-2019] Standard ',\n",
       " 'KTM 390 Duke Standard ',\n",
       " 'Yamaha SZ RR V 2.0 Ltd Edition ',\n",
       " 'Royal Enfield Thunderbird Twinspark Standard ',\n",
       " 'KTM 390 Duke ABS [2013-2016] Standard ',\n",
       " 'Jawa 42 Dual Channel ABS - BS VI ',\n",
       " 'Benelli Imperiale 400 Dual Channel ABS ',\n",
       " 'Hero Honda Glamour Alloy Disc Self ',\n",
       " 'Yamaha Fascino 110 BS III ',\n",
       " 'KTM 250 Duke Standard ',\n",
       " 'Hero Pleasure Drum Brake Alloy Wheel ',\n",
       " 'Bajaj Pulsar RS 200 Standard ',\n",
       " 'Yamaha YZF R15 [2011-2018] V1 ',\n",
       " 'TVS Apache RTR 160 4V Disc ',\n",
       " 'Hero Ignitor Disc Brake ',\n",
       " 'Bajaj Pulsar 150 Neon - BSIV ',\n",
       " 'TVS Scooty Zest 110 Standard ',\n",
       " 'KTM RC 125 [2020] BS VI ',\n",
       " 'Hero Honda Passion PRO [2012] Standard ',\n",
       " 'Royal Enfield Classic 500 Chrome ',\n",
       " 'Bajaj Pulsar 180 [2001-2019] Standard ',\n",
       " 'TVS Scooty Pep Plus Princess Pink ',\n",
       " 'Bajaj Pulsar 150 Standard ',\n",
       " 'BMW G 310 R [2021] Standard ',\n",
       " 'Hero Super Splendor Self-Drum Alloy - BS VI ',\n",
       " 'Bajaj Boxer 100 ',\n",
       " 'Hero Honda CBZ extreme Self ',\n",
       " 'Bajaj Pulsar NS160 Single Disc ',\n",
       " 'Hero Passion XPro Disc ',\n",
       " 'Bajaj Platina 100 125 Dtsi (2009-2012) ',\n",
       " 'Yamaha FZ X Bluetooth ',\n",
       " 'Bajaj Platina 100 Alloy Wheel KS ',\n",
       " 'Hero Honda CD Deluxe Standard ',\n",
       " 'Hero Honda Splendor Plus Drum ',\n",
       " 'Vespa SXL 125 Standard ',\n",
       " 'Bajaj Avenger Street 150 [2018] Standard ',\n",
       " 'Royal Enfield Classic Desert Storm Single Disc ',\n",
       " 'Hero Honda Splendor PRO Self ',\n",
       " 'Bajaj Avenger Street 150 [2018] Standard ',\n",
       " 'Suzuki SlingShot Plus SEU ',\n",
       " 'Bajaj Pulsar 150 Standard ',\n",
       " 'Bajaj Pulsar NS200 Standard ',\n",
       " 'Royal Enfield Thunderbird 500 Standard ',\n",
       " 'TVS Apache RTR 160 4V Disc - ABS ',\n",
       " 'Honda Shine Disk Kick ',\n",
       " 'Bajaj Ct 100 ',\n",
       " 'Bajaj Discover 100 M Drum ',\n",
       " 'Hero Maestro Standard ',\n",
       " 'Honda SP 125 Disc ',\n",
       " 'TVS Apache RTR 160 Rear Disc ',\n",
       " 'TVS Ntorq 125 Disc - BS VI ',\n",
       " 'Bajaj Pulsar 135 LS Standard ',\n",
       " 'KTM 390 Duke Standard ',\n",
       " 'TVS Sport Kick Start Alloy ',\n",
       " 'Hero Maestro Standard ',\n",
       " 'TVS Apache RTR 160 Front Disc ',\n",
       " 'Honda CB Hornet 160R CBS ',\n",
       " 'Yamaha YZF R15 V3 [2018 - 2021] Dual Channel ABS ',\n",
       " 'KTM 125 Duke Standard ',\n",
       " 'Royal Enfield Thunderbird 350 Disc ',\n",
       " 'Hero Passion XPro Disc - IBS ',\n",
       " 'Honda Activa [2000-2015] Deluxe ',\n",
       " 'Honda Activa [2000-2015] Standard ',\n",
       " 'Honda Activa [2000-2015] Deluxe ',\n",
       " 'Honda Activa [2000-2015] Standard ',\n",
       " 'Royal Enfield Classic 500 Desert Storm ',\n",
       " 'Honda Dream Yuga Electric Start/Alloy ',\n",
       " 'Bajaj Pulsar 150 Standard ',\n",
       " 'Honda CB Twister Drum/Electric start ',\n",
       " 'Yamaha FZ16 Standard ',\n",
       " 'TVS Apache RR310 BS VI [2020] ',\n",
       " 'Hero Honda Splendor Standard ',\n",
       " 'Honda CB Trigger CBS ',\n",
       " 'Royal Enfield Thunderbird 350 Disc Self ',\n",
       " 'Honda Activa 5G Deluxe ',\n",
       " 'Bajaj Dominar 400 Standard - BS IV ',\n",
       " 'Bajaj Dominar 400 Touring ',\n",
       " 'Bajaj Pulsar 135 LS Standard ',\n",
       " 'Hero Passion Pro Drum ',\n",
       " 'Hero Splendor Plus Kick Drum Alloy ',\n",
       " 'Bajaj Discover125 Disc Brake ',\n",
       " 'Honda Dio Standard BS6 ',\n",
       " 'Yamaha FZ S V 2.0 DarkNight-Rear Disc ',\n",
       " 'Royal Enfield Bullet 350 Electra Twinspark ',\n",
       " 'TVS Apache RTR 160 Front Disc ',\n",
       " 'TVS Apache RTR 160 4V Disc - ABS ',\n",
       " 'Yamaha YZF R15 [2011-2018] V 2.0 ',\n",
       " 'Hero Super Splendor Kick Start ',\n",
       " 'Yamaha R15 V4 Dark Knight ',\n",
       " 'Honda CD 110 Dream Deluxe Carrier (CBS) BS IV ',\n",
       " 'TVS Apache RTR 160 4V Disc ',\n",
       " 'Hero Duet VX ',\n",
       " 'Honda Activa [2000-2015] Standard ',\n",
       " 'Bajaj Pulsar 220 F Standard ',\n",
       " 'Honda Dream Yuga Kick/Alloy ',\n",
       " 'Bajaj Pulsar AS150 Standard ',\n",
       " 'Suzuki Access 125 [2007-2016] Standard ',\n",
       " 'Suzuki Gixxer SF Standard ',\n",
       " 'Hero Glamour 125 Disc Brake ',\n",
       " 'Hero Splendor Plus Electric Start ',\n",
       " 'KTM 250 Duke Standard ',\n",
       " 'Hero Glamour 125 Drum Brake ',\n",
       " 'Honda CB Twister Disc/Electric start ',\n",
       " 'Yamaha FZ S [2012-2016] Standard ',\n",
       " 'Hero Xtreme Sports Rear Disc Self ',\n",
       " 'Royal Enfield Bullet 350 Standard ',\n",
       " 'Jawa Perak Standard ',\n",
       " 'Bajaj Pulsar 180 [2001-2019] Standard ',\n",
       " 'Hero Xtreme 160R Dual Disc ',\n",
       " 'Bajaj Discover 150S Drum ',\n",
       " 'Hero Splendor iSmart Self Drum Alloy ',\n",
       " 'Bajaj Avenger Street 150 [2018] Standard ',\n",
       " 'Benelli TNT 25 Standard ',\n",
       " 'Bajaj V15 Standard ',\n",
       " 'Hero Honda CD100SS Standard ',\n",
       " 'Suzuki Gixxer SF Standard - BS VI ',\n",
       " 'Hero Xtreme 160R Dual Disc ',\n",
       " 'Bajaj Pulsar 150 Standard ',\n",
       " 'Hero Honda CD Deluxe Standard ',\n",
       " 'Hero Xtreme 160R Dual Disc ',\n",
       " 'Bajaj Pulsar NS160 Single Disc ',\n",
       " 'Aprilia SR150 [2017-2018] Standard ',\n",
       " 'Honda Dio DLX - BS IV (2019) ',\n",
       " 'Yamaha FZ16 Standard ',\n",
       " 'Honda CB Twister Disc/Electric start ',\n",
       " 'Hero Glamour 125 Disc Brake ',\n",
       " 'Honda CB Unicorn 160 Disc (BS III) ',\n",
       " 'Bajaj Pulsar 150 Standard ',\n",
       " 'Royal Enfield Bullet 350 Standard ',\n",
       " 'Yamaha YZF R15 [2011-2018] V 2.0 ',\n",
       " 'Hero Pleasure Drum Brake ',\n",
       " 'Hero Passion PRO i3s Self Disc Alloy ',\n",
       " 'Yamaha FZ S [2012-2016] Standard ',\n",
       " 'Hero Honda Hunk Standard ',\n",
       " 'Bajaj Avenger Street 150 [2018] Standard ',\n",
       " 'KTM RC 200 [2020] ABS ',\n",
       " 'Honda CD 110 Dream Deluxe - -BS VI ',\n",
       " 'Honda Activa 5G Standard ',\n",
       " 'Royal Enfield Thunderbird 350X ABS ',\n",
       " 'TVS Apache RTR 160 Front Disc ',\n",
       " 'Bajaj V15 Power Up ',\n",
       " 'Honda SP 125 Disc ',\n",
       " 'Bajaj Discover 100 M Drum ',\n",
       " 'Bajaj Pulsar NS125 Standard ',\n",
       " 'Honda Activa [2000-2015] Standard ',\n",
       " 'Bajaj Discover 100 M Drum ',\n",
       " 'Bajaj Discover 150F Disc ',\n",
       " 'Hero Passion Pro Disc ',\n",
       " 'Honda Shine Electric Start/Drum/Alloy (BS III) ',\n",
       " 'Bajaj Avenger [2015] 220 DTS- i ',\n",
       " 'Bajaj Avenger Street 150 [2018] Standard ',\n",
       " 'Bajaj V12 Drum ',\n",
       " 'Hero Passion Pro Drum - BS VI ',\n",
       " 'Royal Enfield Thunderbird 350 Standard ',\n",
       " 'Bajaj Discover125 Drum Brake ',\n",
       " 'Suzuki Access 125 Drum ',\n",
       " 'Hero Honda CD Deluxe Standard ',\n",
       " 'Okaya Freedum LI-2 ',\n",
       " 'Royal Enfield Thunderbird 350 Standard ',\n",
       " 'Hero Maestro Standard ',\n",
       " 'Honda Shine Electric Start/Drum/Alloy (BS III) ',\n",
       " 'Yezdi Adventure Slick Silver ',\n",
       " 'Honda Shine Disc - BS6 ',\n",
       " 'Honda Shine Disc - CBS (BS IV) ',\n",
       " 'Bajaj V12 Drum ',\n",
       " 'Hero Honda CD100SS Standard ',\n",
       " 'Bajaj Discover125 Disc Brake ',\n",
       " 'Royal Enfield Electra Twinspark Standard ',\n",
       " 'Mahindra Rodeo RZ ',\n",
       " 'Yamaha SZ-RR Standard ',\n",
       " 'Honda Activa 5G Standard ',\n",
       " 'Hero Honda CBZ Disc ',\n",
       " 'Honda Aviator Drum ',\n",
       " 'Yamaha YBR 125 Standard ',\n",
       " 'Hero Splendor Plus Kick Drum Spoke ',\n",
       " 'TVS Jupiter Grande Disc SBT ',\n",
       " 'Suzuki Burgman Street 125 Standard - BS IV ',\n",
       " 'Hero Xtreme 200R Standard ',\n",
       " 'Bajaj Pulsar 150 Single Disc - ABS - BS IV [2019-2020] ',\n",
       " 'Jawa Perak Standard ',\n",
       " 'Hero Pleasure [2005-2015] Standard ',\n",
       " 'Yamaha SZ X Standard ',\n",
       " 'Bajaj Pulsar 150 Standard ',\n",
       " 'Bajaj Discover125 Drum Brake ',\n",
       " 'Honda Shine Drum - BS6 ',\n",
       " 'OLA S1 Pro Standard ',\n",
       " 'Royal Enfield Thunderbird 500 Standard ',\n",
       " 'Jawa 42 Dual Channel ABS - BS VI ',\n",
       " 'Bajaj Pulsar 150 Neon - BSIV ',\n",
       " 'Bajaj Pulsar RS 200 ABS - BS IV ',\n",
       " 'Hero Maestro Edge 110 ZX ',\n",
       " 'Honda Activa 3G Standard (BS III) ',\n",
       " 'Bajaj Dominar 400 Standard - BS IV ',\n",
       " 'Bajaj Avenger [2015] 220 DTS- i ',\n",
       " 'Royal Enfield Bullet 350 Twinspark ',\n",
       " 'Honda CB Twister Disc/Electric start ',\n",
       " 'TVS Apache RR310 Slipper Clutch ',\n",
       " 'Yamaha FZ S FI Single Channel ABS ',\n",
       " 'Honda Shine Electric Start/Drum/Alloy (BS III) ',\n",
       " 'Honda Dream Yuga Electric Start/Alloy ',\n",
       " 'Bajaj Platina 100 Alloy Wheel ES ']"
      ]
     },
     "execution_count": 80,
     "metadata": {},
     "output_type": "execute_result"
    }
   ],
   "source": [
    "Name"
   ]
  },
  {
   "cell_type": "code",
   "execution_count": 81,
   "id": "39fc0d02",
   "metadata": {},
   "outputs": [
    {
     "data": {
      "text/plain": [
       "Bajaj Pulsar 150 Standard                    13\n",
       "Honda Activa [2000-2015] Standard            12\n",
       "Bajaj Pulsar 220 F Standard                   8\n",
       "TVS Apache RTR 160 Front Disc                 8\n",
       "Bajaj Dominar 400 Standard - BS IV            6\n",
       "                                             ..\n",
       "Bajaj Platina 110 ABS                         1\n",
       "KTM 390 Duke [2021] BS VI                     1\n",
       "TVS Jupiter Standard - SBT                    1\n",
       "Yamaha YZF R15 V3 [2018 - 2021] Standard      1\n",
       "TVS Apache RR310 Slipper Clutch               1\n",
       "Name: Name, Length: 358, dtype: int64"
      ]
     },
     "execution_count": 81,
     "metadata": {},
     "output_type": "execute_result"
    }
   ],
   "source": [
    "bikes[\"Name\"].value_counts()"
   ]
  },
  {
   "cell_type": "code",
   "execution_count": 82,
   "id": "c05583c2",
   "metadata": {},
   "outputs": [
    {
     "name": "stdout",
     "output_type": "stream",
     "text": [
      "<class 'pandas.core.frame.DataFrame'>\n",
      "RangeIndex: 652 entries, 0 to 651\n",
      "Data columns (total 7 columns):\n",
      " #   Column           Non-Null Count  Dtype \n",
      "---  ------           --------------  ----- \n",
      " 0   Location         652 non-null    object\n",
      " 1   year             652 non-null    object\n",
      " 2   KMs_driven       652 non-null    object\n",
      " 3   Price_in_rupees  652 non-null    object\n",
      " 4   posted_on        652 non-null    object\n",
      " 5   Type_owner       652 non-null    object\n",
      " 6   Name             652 non-null    object\n",
      "dtypes: object(7)\n",
      "memory usage: 35.8+ KB\n"
     ]
    }
   ],
   "source": [
    "bikes.info()"
   ]
  },
  {
   "cell_type": "code",
   "execution_count": 83,
   "id": "68bed95f",
   "metadata": {},
   "outputs": [],
   "source": [
    "# convert model column to int\n",
    "# convert kms into int\n",
    "# convert price into int\n"
   ]
  },
  {
   "cell_type": "code",
   "execution_count": 84,
   "id": "5b600bf6",
   "metadata": {},
   "outputs": [],
   "source": [
    "Year=[]\n",
    "for i in bikes['year']:\n",
    "    Year.append(i.replace(' model',\"\"))\n",
    "    "
   ]
  },
  {
   "cell_type": "code",
   "execution_count": 85,
   "id": "b0d5727b",
   "metadata": {},
   "outputs": [],
   "source": [
    "bikes['Year'] = Year"
   ]
  },
  {
   "cell_type": "code",
   "execution_count": 86,
   "id": "b974ab3b",
   "metadata": {},
   "outputs": [],
   "source": [
    "bikes['Year'] = bikes['Year'].astype('int')"
   ]
  },
  {
   "cell_type": "code",
   "execution_count": 87,
   "id": "4ee0cf84",
   "metadata": {},
   "outputs": [
    {
     "name": "stdout",
     "output_type": "stream",
     "text": [
      "<class 'pandas.core.frame.DataFrame'>\n",
      "RangeIndex: 652 entries, 0 to 651\n",
      "Data columns (total 8 columns):\n",
      " #   Column           Non-Null Count  Dtype \n",
      "---  ------           --------------  ----- \n",
      " 0   Location         652 non-null    object\n",
      " 1   year             652 non-null    object\n",
      " 2   KMs_driven       652 non-null    object\n",
      " 3   Price_in_rupees  652 non-null    object\n",
      " 4   posted_on        652 non-null    object\n",
      " 5   Type_owner       652 non-null    object\n",
      " 6   Name             652 non-null    object\n",
      " 7   Year             652 non-null    int32 \n",
      "dtypes: int32(1), object(7)\n",
      "memory usage: 38.3+ KB\n"
     ]
    }
   ],
   "source": [
    "bikes.info()"
   ]
  },
  {
   "cell_type": "code",
   "execution_count": 88,
   "id": "885bbef3",
   "metadata": {},
   "outputs": [],
   "source": [
    "bikes['KMs_driven']=bikes['KMs_driven'].astype('int')"
   ]
  },
  {
   "cell_type": "code",
   "execution_count": 89,
   "id": "cd7da712",
   "metadata": {},
   "outputs": [
    {
     "name": "stdout",
     "output_type": "stream",
     "text": [
      "<class 'pandas.core.frame.DataFrame'>\n",
      "RangeIndex: 652 entries, 0 to 651\n",
      "Data columns (total 8 columns):\n",
      " #   Column           Non-Null Count  Dtype \n",
      "---  ------           --------------  ----- \n",
      " 0   Location         652 non-null    object\n",
      " 1   year             652 non-null    object\n",
      " 2   KMs_driven       652 non-null    int32 \n",
      " 3   Price_in_rupees  652 non-null    object\n",
      " 4   posted_on        652 non-null    object\n",
      " 5   Type_owner       652 non-null    object\n",
      " 6   Name             652 non-null    object\n",
      " 7   Year             652 non-null    int32 \n",
      "dtypes: int32(2), object(6)\n",
      "memory usage: 35.8+ KB\n"
     ]
    }
   ],
   "source": [
    "bikes.info()"
   ]
  },
  {
   "cell_type": "code",
   "execution_count": 90,
   "id": "1ff54203",
   "metadata": {},
   "outputs": [
    {
     "data": {
      "text/plain": [
       "Location           0\n",
       "year               0\n",
       "KMs_driven         0\n",
       "Price_in_rupees    0\n",
       "posted_on          0\n",
       "Type_owner         0\n",
       "Name               0\n",
       "Year               0\n",
       "dtype: int64"
      ]
     },
     "execution_count": 90,
     "metadata": {},
     "output_type": "execute_result"
    }
   ],
   "source": [
    "bikes.isnull().sum()"
   ]
  },
  {
   "cell_type": "code",
   "execution_count": 91,
   "id": "81b74767",
   "metadata": {},
   "outputs": [],
   "source": [
    "bikes['Price_in_rupees']=bikes['Price_in_rupees'].astype('int')"
   ]
  },
  {
   "cell_type": "code",
   "execution_count": 92,
   "id": "01fe2d3b",
   "metadata": {},
   "outputs": [
    {
     "name": "stdout",
     "output_type": "stream",
     "text": [
      "<class 'pandas.core.frame.DataFrame'>\n",
      "RangeIndex: 652 entries, 0 to 651\n",
      "Data columns (total 8 columns):\n",
      " #   Column           Non-Null Count  Dtype \n",
      "---  ------           --------------  ----- \n",
      " 0   Location         652 non-null    object\n",
      " 1   year             652 non-null    object\n",
      " 2   KMs_driven       652 non-null    int32 \n",
      " 3   Price_in_rupees  652 non-null    int32 \n",
      " 4   posted_on        652 non-null    object\n",
      " 5   Type_owner       652 non-null    object\n",
      " 6   Name             652 non-null    object\n",
      " 7   Year             652 non-null    int32 \n",
      "dtypes: int32(3), object(5)\n",
      "memory usage: 33.2+ KB\n"
     ]
    }
   ],
   "source": [
    "bikes.info()"
   ]
  },
  {
   "cell_type": "code",
   "execution_count": 93,
   "id": "88e7b623",
   "metadata": {},
   "outputs": [],
   "source": [
    "bikes.to_csv('cleaned_bikes.csv')"
   ]
  },
  {
   "cell_type": "markdown",
   "id": "e7d8ed38",
   "metadata": {},
   "source": [
    "#### INTER QUARTILE RANGE(IQR) VERY IMPORTANT"
   ]
  },
  {
   "cell_type": "code",
   "execution_count": 94,
   "id": "3ab6a1a9",
   "metadata": {},
   "outputs": [
    {
     "name": "stdout",
     "output_type": "stream",
     "text": [
      "q1: 14000.0\n",
      "q2 45000.0\n",
      "IQR: 31000.0\n",
      "-32500.0\n",
      "91500.0\n"
     ]
    }
   ],
   "source": [
    "# handling outliers:\n",
    "a=bikes['KMs_driven'].quantile(0.25)\n",
    "print(\"q1:\",a)# this is q1\n",
    "b=bikes['KMs_driven'].quantile(0.75)\n",
    "print(\"q2\",b)# this is q2\n",
    "#now find IQR=q3-q1\n",
    "IQR=b-a\n",
    "print(\"IQR:\",IQR)#this is IQR\n",
    "c=a-1.5*IQR# this is for < (-veoutlier)\n",
    "print(c)\n",
    "d=b+1.5*IQR# this is for > (-veoutlier)\n",
    "print(d)\n",
    "k=bikes['KMs_driven'][(bikes['KMs_driven']<c) | (bikes['KMs_driven']>d)]\n",
    "# print(k)# this is are the outliers\n",
    "k.index.tolist()\n",
    "for i in k.index.tolist():\n",
    "    bikes.loc[i,'KMs_driven']=bikes['KMs_driven'].median()\n"
   ]
  },
  {
   "cell_type": "code",
   "execution_count": 95,
   "id": "ee262e7d",
   "metadata": {},
   "outputs": [
    {
     "name": "stdout",
     "output_type": "stream",
     "text": [
      "q1: 2013.0\n",
      "q2 2019.0\n",
      "IQR: 6.0\n",
      "2004.0\n",
      "2028.0\n"
     ]
    }
   ],
   "source": [
    "# handling outliers:\n",
    "a=bikes['Year'].quantile(0.25)\n",
    "print(\"q1:\",a)# this is q1\n",
    "b=bikes['Year'].quantile(0.75)\n",
    "print(\"q2\",b)# this is q2\n",
    "#now find IQR=q3-q1\n",
    "IQR=b-a\n",
    "print(\"IQR:\",IQR)#this is IQR\n",
    "c=a-1.5*IQR# this is for < (-veoutlier)\n",
    "print(c)\n",
    "d=b+1.5*IQR# this is for > (-veoutlier)\n",
    "print(d)\n",
    "k=bikes['Year'][(bikes['Year']<c) | (bikes['Year']>d)]\n",
    "# print(k)# this is are the outliers\n",
    "k.index.tolist()\n",
    "for i in k.index.tolist():\n",
    "    bikes.loc[i,'Year']=bikes['Year'].median()\n"
   ]
  },
  {
   "cell_type": "code",
   "execution_count": 96,
   "id": "e09b3e9c",
   "metadata": {},
   "outputs": [
    {
     "name": "stdout",
     "output_type": "stream",
     "text": [
      "q1: 35000.0\n",
      "q2 100000.0\n",
      "IQR: 65000.0\n",
      "-62500.0\n",
      "197500.0\n"
     ]
    }
   ],
   "source": [
    "# handling outliers:\n",
    "a=bikes['Price_in_rupees'].quantile(0.25)\n",
    "print(\"q1:\",a)# this is q1\n",
    "b=bikes['Price_in_rupees'].quantile(0.75)\n",
    "print(\"q2\",b)# this is q2\n",
    "#now find IQR=q3-q1\n",
    "IQR=b-a\n",
    "print(\"IQR:\",IQR)#this is IQR\n",
    "c=a-1.5*IQR# this is for < (-veoutlier)\n",
    "print(c)\n",
    "d=b+1.5*IQR# this is for > (-veoutlier)\n",
    "print(d)\n",
    "k=bikes['Price_in_rupees'][(bikes['Price_in_rupees']<c) | (bikes['Price_in_rupees']>d)]\n",
    "# print(k)# this is are the outliers\n",
    "k.index.tolist()\n",
    "for i in k.index.tolist():\n",
    "    bikes.loc[i,'Price_in_rupees']=bikes['Price_in_rupees'].median()\n"
   ]
  },
  {
   "cell_type": "code",
   "execution_count": 97,
   "id": "d7342cc6",
   "metadata": {},
   "outputs": [
    {
     "data": {
      "text/plain": [
       "'C:\\\\Users\\\\balaji\\\\Desktop'"
      ]
     },
     "execution_count": 97,
     "metadata": {},
     "output_type": "execute_result"
    }
   ],
   "source": [
    "import os \n",
    "os.getcwd()"
   ]
  },
  {
   "cell_type": "code",
   "execution_count": 98,
   "id": "dd4057ad",
   "metadata": {},
   "outputs": [],
   "source": [
    "bikes.to_csv('C:\\\\Users\\\\balaji\\\\Desktop\\\\bikes.csv')"
   ]
  },
  {
   "cell_type": "code",
   "execution_count": 99,
   "id": "278bdaf9",
   "metadata": {},
   "outputs": [],
   "source": [
    "bikes=pd.read_csv('bikes.csv')"
   ]
  },
  {
   "cell_type": "code",
   "execution_count": 100,
   "id": "4552b8b8",
   "metadata": {},
   "outputs": [
    {
     "data": {
      "text/html": [
       "<div>\n",
       "<style scoped>\n",
       "    .dataframe tbody tr th:only-of-type {\n",
       "        vertical-align: middle;\n",
       "    }\n",
       "\n",
       "    .dataframe tbody tr th {\n",
       "        vertical-align: top;\n",
       "    }\n",
       "\n",
       "    .dataframe thead th {\n",
       "        text-align: right;\n",
       "    }\n",
       "</style>\n",
       "<table border=\"1\" class=\"dataframe\">\n",
       "  <thead>\n",
       "    <tr style=\"text-align: right;\">\n",
       "      <th></th>\n",
       "      <th>Unnamed: 0</th>\n",
       "      <th>Location</th>\n",
       "      <th>year</th>\n",
       "      <th>KMs_driven</th>\n",
       "      <th>Price_in_rupees</th>\n",
       "      <th>posted_on</th>\n",
       "      <th>Type_owner</th>\n",
       "      <th>Name</th>\n",
       "      <th>Year</th>\n",
       "    </tr>\n",
       "  </thead>\n",
       "  <tbody>\n",
       "    <tr>\n",
       "      <th>0</th>\n",
       "      <td>0</td>\n",
       "      <td>Bangalore</td>\n",
       "      <td>2019 model</td>\n",
       "      <td>8000.000000</td>\n",
       "      <td>120000</td>\n",
       "      <td>28 December 2022</td>\n",
       "      <td>1st</td>\n",
       "      <td>Bajaj Pulsar NS200 ABS - BS IV</td>\n",
       "      <td>2019</td>\n",
       "    </tr>\n",
       "    <tr>\n",
       "      <th>1</th>\n",
       "      <td>1</td>\n",
       "      <td>Bangalore</td>\n",
       "      <td>2018 model</td>\n",
       "      <td>2500.000000</td>\n",
       "      <td>160000</td>\n",
       "      <td>28 December 2022</td>\n",
       "      <td>1st</td>\n",
       "      <td>KTM 250 Duke Standard</td>\n",
       "      <td>2018</td>\n",
       "    </tr>\n",
       "    <tr>\n",
       "      <th>2</th>\n",
       "      <td>2</td>\n",
       "      <td>Bangalore</td>\n",
       "      <td>2022 model</td>\n",
       "      <td>1400.000000</td>\n",
       "      <td>55000</td>\n",
       "      <td>28 December 2022</td>\n",
       "      <td>1st</td>\n",
       "      <td>TVS Ronin TD - Dual Channel ABS</td>\n",
       "      <td>2022</td>\n",
       "    </tr>\n",
       "    <tr>\n",
       "      <th>3</th>\n",
       "      <td>3</td>\n",
       "      <td>Bangalore</td>\n",
       "      <td>2011 model</td>\n",
       "      <td>55000.000000</td>\n",
       "      <td>25000</td>\n",
       "      <td>28 December 2022</td>\n",
       "      <td>1st</td>\n",
       "      <td>Bajaj Pulsar 150 Kick Start</td>\n",
       "      <td>2011</td>\n",
       "    </tr>\n",
       "    <tr>\n",
       "      <th>4</th>\n",
       "      <td>4</td>\n",
       "      <td>Bangalore</td>\n",
       "      <td>2013 model</td>\n",
       "      <td>45000.000000</td>\n",
       "      <td>30000</td>\n",
       "      <td>28 December 2022</td>\n",
       "      <td>1st</td>\n",
       "      <td>Honda Dio Old Dio</td>\n",
       "      <td>2013</td>\n",
       "    </tr>\n",
       "    <tr>\n",
       "      <th>...</th>\n",
       "      <td>...</td>\n",
       "      <td>...</td>\n",
       "      <td>...</td>\n",
       "      <td>...</td>\n",
       "      <td>...</td>\n",
       "      <td>...</td>\n",
       "      <td>...</td>\n",
       "      <td>...</td>\n",
       "      <td>...</td>\n",
       "    </tr>\n",
       "    <tr>\n",
       "      <th>647</th>\n",
       "      <td>647</td>\n",
       "      <td>Mohali</td>\n",
       "      <td>2019 model</td>\n",
       "      <td>16000.000000</td>\n",
       "      <td>180000</td>\n",
       "      <td>10 November 2022</td>\n",
       "      <td>1st</td>\n",
       "      <td>TVS Apache RR310 Slipper Clutch</td>\n",
       "      <td>2019</td>\n",
       "    </tr>\n",
       "    <tr>\n",
       "      <th>648</th>\n",
       "      <td>648</td>\n",
       "      <td>Mohali</td>\n",
       "      <td>2020 model</td>\n",
       "      <td>11000.000000</td>\n",
       "      <td>105000</td>\n",
       "      <td>03 November 2022</td>\n",
       "      <td>1st</td>\n",
       "      <td>Yamaha FZ S FI Single Channel ABS</td>\n",
       "      <td>2020</td>\n",
       "    </tr>\n",
       "    <tr>\n",
       "      <th>649</th>\n",
       "      <td>649</td>\n",
       "      <td>Mohali</td>\n",
       "      <td>2012 model</td>\n",
       "      <td>28500.000191</td>\n",
       "      <td>20000</td>\n",
       "      <td>28 October 2022</td>\n",
       "      <td>1st</td>\n",
       "      <td>Honda Shine Electric Start/Drum/Alloy (BS III)</td>\n",
       "      <td>2012</td>\n",
       "    </tr>\n",
       "    <tr>\n",
       "      <th>650</th>\n",
       "      <td>650</td>\n",
       "      <td>Mohali</td>\n",
       "      <td>2013 model</td>\n",
       "      <td>61392.000000</td>\n",
       "      <td>35000</td>\n",
       "      <td>25 October 2022</td>\n",
       "      <td>1st</td>\n",
       "      <td>Honda Dream Yuga Electric Start/Alloy</td>\n",
       "      <td>2013</td>\n",
       "    </tr>\n",
       "    <tr>\n",
       "      <th>651</th>\n",
       "      <td>651</td>\n",
       "      <td>Mohali</td>\n",
       "      <td>2015 model</td>\n",
       "      <td>45000.000000</td>\n",
       "      <td>40000</td>\n",
       "      <td>04 October 2022</td>\n",
       "      <td>1st</td>\n",
       "      <td>Bajaj Platina 100 Alloy Wheel ES</td>\n",
       "      <td>2015</td>\n",
       "    </tr>\n",
       "  </tbody>\n",
       "</table>\n",
       "<p>652 rows × 9 columns</p>\n",
       "</div>"
      ],
      "text/plain": [
       "     Unnamed: 0    Location        year    KMs_driven  Price_in_rupees  \\\n",
       "0             0  Bangalore   2019 model   8000.000000           120000   \n",
       "1             1  Bangalore   2018 model   2500.000000           160000   \n",
       "2             2  Bangalore   2022 model   1400.000000            55000   \n",
       "3             3  Bangalore   2011 model  55000.000000            25000   \n",
       "4             4  Bangalore   2013 model  45000.000000            30000   \n",
       "..          ...         ...         ...           ...              ...   \n",
       "647         647     Mohali   2019 model  16000.000000           180000   \n",
       "648         648     Mohali   2020 model  11000.000000           105000   \n",
       "649         649     Mohali   2012 model  28500.000191            20000   \n",
       "650         650     Mohali   2013 model  61392.000000            35000   \n",
       "651         651     Mohali   2015 model  45000.000000            40000   \n",
       "\n",
       "             posted_on Type_owner  \\\n",
       "0    28 December 2022         1st   \n",
       "1    28 December 2022         1st   \n",
       "2    28 December 2022         1st   \n",
       "3    28 December 2022         1st   \n",
       "4    28 December 2022         1st   \n",
       "..                 ...        ...   \n",
       "647  10 November 2022         1st   \n",
       "648  03 November 2022         1st   \n",
       "649   28 October 2022         1st   \n",
       "650   25 October 2022         1st   \n",
       "651   04 October 2022         1st   \n",
       "\n",
       "                                                Name  Year  \n",
       "0                    Bajaj Pulsar NS200 ABS - BS IV   2019  \n",
       "1                             KTM 250 Duke Standard   2018  \n",
       "2                   TVS Ronin TD - Dual Channel ABS   2022  \n",
       "3                       Bajaj Pulsar 150 Kick Start   2011  \n",
       "4                                 Honda Dio Old Dio   2013  \n",
       "..                                               ...   ...  \n",
       "647                 TVS Apache RR310 Slipper Clutch   2019  \n",
       "648               Yamaha FZ S FI Single Channel ABS   2020  \n",
       "649  Honda Shine Electric Start/Drum/Alloy (BS III)   2012  \n",
       "650           Honda Dream Yuga Electric Start/Alloy   2013  \n",
       "651                Bajaj Platina 100 Alloy Wheel ES   2015  \n",
       "\n",
       "[652 rows x 9 columns]"
      ]
     },
     "execution_count": 100,
     "metadata": {},
     "output_type": "execute_result"
    }
   ],
   "source": [
    "bikes"
   ]
  },
  {
   "cell_type": "code",
   "execution_count": 101,
   "id": "f15e624a",
   "metadata": {},
   "outputs": [],
   "source": [
    "bikes.drop(bikes.filter(regex='Unnamed'),axis=1,inplace=True)"
   ]
  },
  {
   "cell_type": "code",
   "execution_count": 102,
   "id": "322e9d22",
   "metadata": {},
   "outputs": [
    {
     "name": "stdout",
     "output_type": "stream",
     "text": [
      "<class 'pandas.core.frame.DataFrame'>\n",
      "RangeIndex: 652 entries, 0 to 651\n",
      "Data columns (total 8 columns):\n",
      " #   Column           Non-Null Count  Dtype  \n",
      "---  ------           --------------  -----  \n",
      " 0   Location         652 non-null    object \n",
      " 1   year             652 non-null    object \n",
      " 2   KMs_driven       652 non-null    float64\n",
      " 3   Price_in_rupees  652 non-null    int64  \n",
      " 4   posted_on        652 non-null    object \n",
      " 5   Type_owner       652 non-null    object \n",
      " 6   Name             652 non-null    object \n",
      " 7   Year             652 non-null    int64  \n",
      "dtypes: float64(1), int64(2), object(5)\n",
      "memory usage: 40.9+ KB\n"
     ]
    }
   ],
   "source": [
    "bikes.info()"
   ]
  },
  {
   "cell_type": "code",
   "execution_count": 103,
   "id": "c2cbd0a7",
   "metadata": {},
   "outputs": [
    {
     "data": {
      "text/html": [
       "<div>\n",
       "<style scoped>\n",
       "    .dataframe tbody tr th:only-of-type {\n",
       "        vertical-align: middle;\n",
       "    }\n",
       "\n",
       "    .dataframe tbody tr th {\n",
       "        vertical-align: top;\n",
       "    }\n",
       "\n",
       "    .dataframe thead th {\n",
       "        text-align: right;\n",
       "    }\n",
       "</style>\n",
       "<table border=\"1\" class=\"dataframe\">\n",
       "  <thead>\n",
       "    <tr style=\"text-align: right;\">\n",
       "      <th></th>\n",
       "      <th>KMs_driven</th>\n",
       "      <th>Price_in_rupees</th>\n",
       "      <th>Year</th>\n",
       "    </tr>\n",
       "  </thead>\n",
       "  <tbody>\n",
       "    <tr>\n",
       "      <th>count</th>\n",
       "      <td>652.000000</td>\n",
       "      <td>652.000000</td>\n",
       "      <td>652.000000</td>\n",
       "    </tr>\n",
       "    <tr>\n",
       "      <th>mean</th>\n",
       "      <td>30217.596625</td>\n",
       "      <td>62833.427914</td>\n",
       "      <td>2015.774540</td>\n",
       "    </tr>\n",
       "    <tr>\n",
       "      <th>std</th>\n",
       "      <td>20403.156390</td>\n",
       "      <td>39880.436465</td>\n",
       "      <td>3.986894</td>\n",
       "    </tr>\n",
       "    <tr>\n",
       "      <th>min</th>\n",
       "      <td>600.000000</td>\n",
       "      <td>5000.000000</td>\n",
       "      <td>2004.000000</td>\n",
       "    </tr>\n",
       "    <tr>\n",
       "      <th>25%</th>\n",
       "      <td>14000.000000</td>\n",
       "      <td>35000.000000</td>\n",
       "      <td>2013.000000</td>\n",
       "    </tr>\n",
       "    <tr>\n",
       "      <th>50%</th>\n",
       "      <td>28500.000095</td>\n",
       "      <td>55000.000000</td>\n",
       "      <td>2016.000000</td>\n",
       "    </tr>\n",
       "    <tr>\n",
       "      <th>75%</th>\n",
       "      <td>42000.000000</td>\n",
       "      <td>80000.000000</td>\n",
       "      <td>2019.000000</td>\n",
       "    </tr>\n",
       "    <tr>\n",
       "      <th>max</th>\n",
       "      <td>90000.000000</td>\n",
       "      <td>195000.000000</td>\n",
       "      <td>2022.000000</td>\n",
       "    </tr>\n",
       "  </tbody>\n",
       "</table>\n",
       "</div>"
      ],
      "text/plain": [
       "         KMs_driven  Price_in_rupees         Year\n",
       "count    652.000000       652.000000   652.000000\n",
       "mean   30217.596625     62833.427914  2015.774540\n",
       "std    20403.156390     39880.436465     3.986894\n",
       "min      600.000000      5000.000000  2004.000000\n",
       "25%    14000.000000     35000.000000  2013.000000\n",
       "50%    28500.000095     55000.000000  2016.000000\n",
       "75%    42000.000000     80000.000000  2019.000000\n",
       "max    90000.000000    195000.000000  2022.000000"
      ]
     },
     "execution_count": 103,
     "metadata": {},
     "output_type": "execute_result"
    }
   ],
   "source": [
    "bikes.describe()"
   ]
  },
  {
   "cell_type": "code",
   "execution_count": 104,
   "id": "5bfb5ef6",
   "metadata": {},
   "outputs": [
    {
     "data": {
      "text/plain": [
       "<AxesSubplot:xlabel='KMs_driven'>"
      ]
     },
     "execution_count": 104,
     "metadata": {},
     "output_type": "execute_result"
    },
    {
     "data": {
      "image/png": "[encoded data removed]",
      "text/plain": [
       "<Figure size 432x288 with 1 Axes>"
      ]
     },
     "metadata": {
      "needs_background": "light"
     },
     "output_type": "display_data"
    }
   ],
   "source": [
    "sns.boxplot(x=bikes[\"KMs_driven\"])\n",
    "           \n",
    "           "
   ]
  },
  {
   "cell_type": "markdown",
   "id": "2a3fdb70",
   "metadata": {},
   "source": [
    "# Data Visualization and Data Analysis"
   ]
  },
  {
   "cell_type": "markdown",
   "id": "5be900f3",
   "metadata": {},
   "source": [
    "# Univariate Analysis"
   ]
  },
  {
   "cell_type": "code",
   "execution_count": 2,
   "id": "36269675",
   "metadata": {},
   "outputs": [],
   "source": [
    "import matplotlib.pyplot as plt\n",
    "import seaborn as sns"
   ]
  },
  {
   "cell_type": "code",
   "execution_count": 106,
   "id": "6ffc5c99",
   "metadata": {},
   "outputs": [],
   "source": [
    "num=bike.select_dtypes(include='number').columns\n",
    "cat=bike.select_dtypes(exclude='number').columns"
   ]
  },
  {
   "cell_type": "code",
   "execution_count": 107,
   "id": "d7ddf705",
   "metadata": {},
   "outputs": [
    {
     "name": "stdout",
     "output_type": "stream",
     "text": [
      "Index([], dtype='object')\n",
      "Index(['Name', 'KMs_driven', 'Location', 'Price_in_rupees', 'Posted_on',\n",
      "       'Type_Owner', 'year'],\n",
      "      dtype='object')\n"
     ]
    }
   ],
   "source": [
    "print(num)\n",
    "print(cat)"
   ]
  },
  {
   "cell_type": "code",
   "execution_count": 108,
   "id": "cbdc50d5",
   "metadata": {},
   "outputs": [
    {
     "data": {
      "text/html": [
       "<div>\n",
       "<style scoped>\n",
       "    .dataframe tbody tr th:only-of-type {\n",
       "        vertical-align: middle;\n",
       "    }\n",
       "\n",
       "    .dataframe tbody tr th {\n",
       "        vertical-align: top;\n",
       "    }\n",
       "\n",
       "    .dataframe thead th {\n",
       "        text-align: right;\n",
       "    }\n",
       "</style>\n",
       "<table border=\"1\" class=\"dataframe\">\n",
       "  <thead>\n",
       "    <tr style=\"text-align: right;\">\n",
       "      <th></th>\n",
       "      <th>Location</th>\n",
       "      <th>year</th>\n",
       "      <th>KMs_driven</th>\n",
       "      <th>Price_in_rupees</th>\n",
       "      <th>posted_on</th>\n",
       "      <th>Type_owner</th>\n",
       "      <th>Name</th>\n",
       "      <th>Year</th>\n",
       "    </tr>\n",
       "  </thead>\n",
       "  <tbody>\n",
       "    <tr>\n",
       "      <th>0</th>\n",
       "      <td>Bangalore</td>\n",
       "      <td>2019 model</td>\n",
       "      <td>8000.0</td>\n",
       "      <td>120000</td>\n",
       "      <td>28 December 2022</td>\n",
       "      <td>1st</td>\n",
       "      <td>Bajaj Pulsar NS200 ABS - BS IV</td>\n",
       "      <td>2019</td>\n",
       "    </tr>\n",
       "    <tr>\n",
       "      <th>1</th>\n",
       "      <td>Bangalore</td>\n",
       "      <td>2018 model</td>\n",
       "      <td>2500.0</td>\n",
       "      <td>160000</td>\n",
       "      <td>28 December 2022</td>\n",
       "      <td>1st</td>\n",
       "      <td>KTM 250 Duke Standard</td>\n",
       "      <td>2018</td>\n",
       "    </tr>\n",
       "    <tr>\n",
       "      <th>2</th>\n",
       "      <td>Bangalore</td>\n",
       "      <td>2022 model</td>\n",
       "      <td>1400.0</td>\n",
       "      <td>55000</td>\n",
       "      <td>28 December 2022</td>\n",
       "      <td>1st</td>\n",
       "      <td>TVS Ronin TD - Dual Channel ABS</td>\n",
       "      <td>2022</td>\n",
       "    </tr>\n",
       "    <tr>\n",
       "      <th>3</th>\n",
       "      <td>Bangalore</td>\n",
       "      <td>2011 model</td>\n",
       "      <td>55000.0</td>\n",
       "      <td>25000</td>\n",
       "      <td>28 December 2022</td>\n",
       "      <td>1st</td>\n",
       "      <td>Bajaj Pulsar 150 Kick Start</td>\n",
       "      <td>2011</td>\n",
       "    </tr>\n",
       "    <tr>\n",
       "      <th>4</th>\n",
       "      <td>Bangalore</td>\n",
       "      <td>2013 model</td>\n",
       "      <td>45000.0</td>\n",
       "      <td>30000</td>\n",
       "      <td>28 December 2022</td>\n",
       "      <td>1st</td>\n",
       "      <td>Honda Dio Old Dio</td>\n",
       "      <td>2013</td>\n",
       "    </tr>\n",
       "  </tbody>\n",
       "</table>\n",
       "</div>"
      ],
      "text/plain": [
       "     Location        year  KMs_driven  Price_in_rupees          posted_on  \\\n",
       "0  Bangalore   2019 model      8000.0           120000  28 December 2022    \n",
       "1  Bangalore   2018 model      2500.0           160000  28 December 2022    \n",
       "2  Bangalore   2022 model      1400.0            55000  28 December 2022    \n",
       "3  Bangalore   2011 model     55000.0            25000  28 December 2022    \n",
       "4  Bangalore   2013 model     45000.0            30000  28 December 2022    \n",
       "\n",
       "  Type_owner                              Name  Year  \n",
       "0        1st   Bajaj Pulsar NS200 ABS - BS IV   2019  \n",
       "1        1st            KTM 250 Duke Standard   2018  \n",
       "2        1st  TVS Ronin TD - Dual Channel ABS   2022  \n",
       "3        1st      Bajaj Pulsar 150 Kick Start   2011  \n",
       "4        1st                Honda Dio Old Dio   2013  "
      ]
     },
     "execution_count": 108,
     "metadata": {},
     "output_type": "execute_result"
    }
   ],
   "source": [
    "bikes.head()"
   ]
  },
  {
   "cell_type": "code",
   "execution_count": 109,
   "id": "ec2e29c6",
   "metadata": {},
   "outputs": [
    {
     "data": {
      "text/plain": [
       "30000.0    37\n",
       "50000.0    20\n",
       "15000.0    19\n",
       "45000.0    18\n",
       "40000.0    18\n",
       "           ..\n",
       "9800.0      1\n",
       "50763.0     1\n",
       "9300.0      1\n",
       "9600.0      1\n",
       "61392.0     1\n",
       "Name: KMs_driven, Length: 250, dtype: int64"
      ]
     },
     "execution_count": 109,
     "metadata": {},
     "output_type": "execute_result"
    }
   ],
   "source": [
    "bikes[\"KMs_driven\"].value_counts()"
   ]
  },
  {
   "cell_type": "code",
   "execution_count": 110,
   "id": "69a6c961",
   "metadata": {},
   "outputs": [
    {
     "data": {
      "text/plain": [
       "1st    562\n",
       "2nd     80\n",
       "3rd      9\n",
       "4th      1\n",
       "Name: Type_owner, dtype: int64"
      ]
     },
     "execution_count": 110,
     "metadata": {},
     "output_type": "execute_result"
    }
   ],
   "source": [
    "bikes['Type_owner'].value_counts()"
   ]
  },
  {
   "cell_type": "code",
   "execution_count": 111,
   "id": "965efdf9",
   "metadata": {},
   "outputs": [
    {
     "data": {
      "text/plain": [
       "<AxesSubplot:xlabel='Year'>"
      ]
     },
     "execution_count": 111,
     "metadata": {},
     "output_type": "execute_result"
    },
    {
     "data": {
      "image/png": "[encoded data removed]",
      "text/plain": [
       "<Figure size 432x288 with 1 Axes>"
      ]
     },
     "metadata": {
      "needs_background": "light"
     },
     "output_type": "display_data"
    }
   ],
   "source": [
    "bikes.groupby('Year').size().plot(kind='bar')\n"
   ]
  },
  {
   "cell_type": "markdown",
   "id": "5035b730",
   "metadata": {},
   "source": [
    "## observation:\n",
    ">**Here we can observe that 2018 model bikes are maximum count compare to another bike models**"
   ]
  },
  {
   "cell_type": "code",
   "execution_count": 112,
   "id": "b85643f5",
   "metadata": {},
   "outputs": [
    {
     "name": "stdout",
     "output_type": "stream",
     "text": [
      "<class 'pandas.core.frame.DataFrame'>\n",
      "RangeIndex: 652 entries, 0 to 651\n",
      "Data columns (total 8 columns):\n",
      " #   Column           Non-Null Count  Dtype  \n",
      "---  ------           --------------  -----  \n",
      " 0   Location         652 non-null    object \n",
      " 1   year             652 non-null    object \n",
      " 2   KMs_driven       652 non-null    float64\n",
      " 3   Price_in_rupees  652 non-null    int64  \n",
      " 4   posted_on        652 non-null    object \n",
      " 5   Type_owner       652 non-null    object \n",
      " 6   Name             652 non-null    object \n",
      " 7   Year             652 non-null    int64  \n",
      "dtypes: float64(1), int64(2), object(5)\n",
      "memory usage: 40.9+ KB\n"
     ]
    }
   ],
   "source": [
    "bikes.info()"
   ]
  },
  {
   "cell_type": "code",
   "execution_count": 113,
   "id": "d19a0502",
   "metadata": {},
   "outputs": [
    {
     "data": {
      "text/plain": [
       "<AxesSubplot:xlabel='Price_in_rupees', ylabel='Count'>"
      ]
     },
     "execution_count": 113,
     "metadata": {},
     "output_type": "execute_result"
    },
    {
     "data": {
      "image/png": "[encoded data removed]",
      "text/plain": [
       "<Figure size 432x288 with 1 Axes>"
      ]
     },
     "metadata": {
      "needs_background": "light"
     },
     "output_type": "display_data"
    }
   ],
   "source": [
    "sns.histplot(bikes['Price_in_rupees'])"
   ]
  },
  {
   "cell_type": "markdown",
   "id": "5eca2fb1",
   "metadata": {},
   "source": [
    "## obseravation\n",
    ">**Here we can observe that the 200+ bikes price range lies between 55000 to lessthan 60000**"
   ]
  },
  {
   "cell_type": "code",
   "execution_count": 114,
   "id": "aa4d1a9b",
   "metadata": {},
   "outputs": [
    {
     "data": {
      "text/plain": [
       "['Location', 'year', 'posted_on', 'Type_owner', 'Name']"
      ]
     },
     "execution_count": 114,
     "metadata": {},
     "output_type": "execute_result"
    }
   ],
   "source": [
    "t=bikes.select_dtypes(exclude='number').columns.tolist()\n",
    "t"
   ]
  },
  {
   "cell_type": "code",
   "execution_count": 115,
   "id": "fd475d20",
   "metadata": {},
   "outputs": [
    {
     "name": "stderr",
     "output_type": "stream",
     "text": [
      "C:\\Users\\balaji\\anaconda3\\lib\\site-packages\\seaborn\\_decorators.py:36: FutureWarning: Pass the following variable as a keyword arg: x. From version 0.12, the only valid positional argument will be `data`, and passing other arguments without an explicit keyword will result in an error or misinterpretation.\n",
      "  warnings.warn(\n"
     ]
    },
    {
     "data": {
      "image/png": "[encoded data removed]",
      "text/plain": [
       "<Figure size 432x288 with 1 Axes>"
      ]
     },
     "metadata": {
      "needs_background": "light"
     },
     "output_type": "display_data"
    }
   ],
   "source": [
    "sns.countplot(bikes['Type_owner'])\n",
    "plt.show()"
   ]
  },
  {
   "cell_type": "markdown",
   "id": "d91326e9",
   "metadata": {},
   "source": [
    "## Observation\n",
    ">**Here we can obvsevre that the 1st owner count is high compare to the another owners**"
   ]
  },
  {
   "cell_type": "code",
   "execution_count": 102,
   "id": "ffacd759",
   "metadata": {},
   "outputs": [
    {
     "data": {
      "text/plain": [
       "<AxesSubplot:ylabel='Name'>"
      ]
     },
     "execution_count": 102,
     "metadata": {},
     "output_type": "execute_result"
    },
    {
     "data": {
      "image/png": "[encoded data removed]",
      "text/plain": [
       "<Figure size 432x288 with 1 Axes>"
      ]
     },
     "metadata": {},
     "output_type": "display_data"
    }
   ],
   "source": [
    "bikes['Name'].value_counts()[0:5].plot.pie(autopct=\"%.2f%%\")"
   ]
  },
  {
   "cell_type": "markdown",
   "id": "5250512a",
   "metadata": {},
   "source": [
    "# observation:\n",
    ">**Here we can observe that Honda Activa[2000-2015] Standard and Bajaj Pulsar 150 Standard model bikes have same percentage is 27.42%.**"
   ]
  },
  {
   "cell_type": "code",
   "execution_count": 104,
   "id": "37ca7e4a",
   "metadata": {},
   "outputs": [
    {
     "data": {
      "text/plain": [
       "Index(['Location', 'year', 'KMs_driven', 'Price_in_rupees', 'posted_on',\n",
       "       'Type_owner', 'Name', 'Year'],\n",
       "      dtype='object')"
      ]
     },
     "execution_count": 104,
     "metadata": {},
     "output_type": "execute_result"
    }
   ],
   "source": [
    "bikes.columns"
   ]
  },
  {
   "cell_type": "code",
   "execution_count": 105,
   "id": "d2e420f9",
   "metadata": {},
   "outputs": [
    {
     "name": "stderr",
     "output_type": "stream",
     "text": [
      "C:\\Users\\balaji\\anaconda3\\lib\\site-packages\\seaborn\\_decorators.py:36: FutureWarning: Pass the following variable as a keyword arg: x. From version 0.12, the only valid positional argument will be `data`, and passing other arguments without an explicit keyword will result in an error or misinterpretation.\n",
      "  warnings.warn(\n"
     ]
    },
    {
     "data": {
      "text/plain": [
       "<AxesSubplot:xlabel='KMs_driven'>"
      ]
     },
     "execution_count": 105,
     "metadata": {},
     "output_type": "execute_result"
    },
    {
     "data": {
      "image/png": "[encoded data removed]",
      "text/plain": [
       "<Figure size 432x288 with 1 Axes>"
      ]
     },
     "metadata": {
      "needs_background": "light"
     },
     "output_type": "display_data"
    }
   ],
   "source": [
    "sns.boxplot(bikes['KMs_driven'])"
   ]
  },
  {
   "cell_type": "code",
   "execution_count": 106,
   "id": "f0d24b28",
   "metadata": {},
   "outputs": [
    {
     "data": {
      "text/plain": [
       "<AxesSubplot:>"
      ]
     },
     "execution_count": 106,
     "metadata": {},
     "output_type": "execute_result"
    },
    {
     "data": {
      "image/png": "[encoded data removed]",
      "text/plain": [
       "<Figure size 432x288 with 1 Axes>"
      ]
     },
     "metadata": {
      "needs_background": "light"
     },
     "output_type": "display_data"
    }
   ],
   "source": [
    "bikes['Name'].value_counts()[:10].plot(kind='bar')"
   ]
  },
  {
   "cell_type": "markdown",
   "id": "70d288d9",
   "metadata": {},
   "source": [
    "# observation:\n",
    " Honda [2000-2015] standard and  Bajaj pulsar 150 standard model names are having same level .\n"
   ]
  },
  {
   "cell_type": "code",
   "execution_count": 107,
   "id": "5481d7f2",
   "metadata": {},
   "outputs": [],
   "source": [
    "# plt.bar(bikes[\"Type_owner\"],height=bikes[\"Year\"])"
   ]
  },
  {
   "cell_type": "code",
   "execution_count": 108,
   "id": "66ab9086",
   "metadata": {},
   "outputs": [],
   "source": [
    "import seaborn as sns"
   ]
  },
  {
   "cell_type": "code",
   "execution_count": 109,
   "id": "9cb43475",
   "metadata": {},
   "outputs": [
    {
     "name": "stderr",
     "output_type": "stream",
     "text": [
      "C:\\Users\\balaji\\anaconda3\\lib\\site-packages\\seaborn\\_decorators.py:36: FutureWarning: Pass the following variable as a keyword arg: x. From version 0.12, the only valid positional argument will be `data`, and passing other arguments without an explicit keyword will result in an error or misinterpretation.\n",
      "  warnings.warn(\n"
     ]
    },
    {
     "data": {
      "text/plain": [
       "<AxesSubplot:xlabel='Price_in_rupees'>"
      ]
     },
     "execution_count": 109,
     "metadata": {},
     "output_type": "execute_result"
    },
    {
     "data": {
      "image/png": "[encoded data removed]",
      "text/plain": [
       "<Figure size 1080x504 with 1 Axes>"
      ]
     },
     "metadata": {
      "needs_background": "light"
     },
     "output_type": "display_data"
    }
   ],
   "source": [
    "plt.figure(figsize=(15,7))\n",
    "sns.violinplot(bikes['Price_in_rupees'])"
   ]
  },
  {
   "cell_type": "markdown",
   "id": "80ff32d9",
   "metadata": {},
   "source": [
    "## observation:\n",
    ">**Here we can observe that the price frequency is high in the range 50000 to 60000**"
   ]
  },
  {
   "cell_type": "markdown",
   "id": "e8cbc802",
   "metadata": {},
   "source": [
    "# Statistical Analysis"
   ]
  },
  {
   "cell_type": "code",
   "execution_count": 110,
   "id": "81c9178d",
   "metadata": {},
   "outputs": [
    {
     "name": "stderr",
     "output_type": "stream",
     "text": [
      "C:\\Users\\balaji\\AppData\\Local\\Temp\\ipykernel_21304\\1754243642.py:1: FutureWarning: Dropping of nuisance columns in DataFrame reductions (with 'numeric_only=None') is deprecated; in a future version this will raise TypeError.  Select only valid columns before calling the reduction.\n",
      "  bikes.mean()\n"
     ]
    },
    {
     "data": {
      "text/plain": [
       "KMs_driven         30304.447605\n",
       "Price_in_rupees    60195.041916\n",
       "Year                2015.449102\n",
       "dtype: float64"
      ]
     },
     "execution_count": 110,
     "metadata": {},
     "output_type": "execute_result"
    }
   ],
   "source": [
    "bikes.mean()"
   ]
  },
  {
   "cell_type": "code",
   "execution_count": 111,
   "id": "8ec17dd7",
   "metadata": {},
   "outputs": [
    {
     "name": "stderr",
     "output_type": "stream",
     "text": [
      "C:\\Users\\balaji\\AppData\\Local\\Temp\\ipykernel_21304\\4100074620.py:1: FutureWarning: Dropping of nuisance columns in DataFrame reductions (with 'numeric_only=None') is deprecated; in a future version this will raise TypeError.  Select only valid columns before calling the reduction.\n",
      "  bikes.median()\n"
     ]
    },
    {
     "data": {
      "text/plain": [
       "KMs_driven         28500.000004\n",
       "Price_in_rupees    50000.000000\n",
       "Year                2016.000000\n",
       "dtype: float64"
      ]
     },
     "execution_count": 111,
     "metadata": {},
     "output_type": "execute_result"
    }
   ],
   "source": [
    "bikes.median()"
   ]
  },
  {
   "cell_type": "code",
   "execution_count": 112,
   "id": "b85cbd11",
   "metadata": {},
   "outputs": [
    {
     "name": "stderr",
     "output_type": "stream",
     "text": [
      "C:\\Users\\balaji\\AppData\\Local\\Temp\\ipykernel_21304\\3768162894.py:1: FutureWarning: Dropping of nuisance columns in DataFrame reductions (with 'numeric_only=None') is deprecated; in a future version this will raise TypeError.  Select only valid columns before calling the reduction.\n",
      "  bikes.skew()\n"
     ]
    },
    {
     "data": {
      "text/plain": [
       "KMs_driven         0.782136\n",
       "Price_in_rupees    1.360082\n",
       "Year              -0.567399\n",
       "dtype: float64"
      ]
     },
     "execution_count": 112,
     "metadata": {},
     "output_type": "execute_result"
    }
   ],
   "source": [
    "bikes.skew()"
   ]
  },
  {
   "cell_type": "code",
   "execution_count": 113,
   "id": "7f8aadb8",
   "metadata": {},
   "outputs": [
    {
     "name": "stderr",
     "output_type": "stream",
     "text": [
      "C:\\Users\\balaji\\AppData\\Local\\Temp\\ipykernel_21304\\2939639162.py:1: FutureWarning: Dropping of nuisance columns in DataFrame reductions (with 'numeric_only=None') is deprecated; in a future version this will raise TypeError.  Select only valid columns before calling the reduction.\n",
      "  bikes.kurt()\n"
     ]
    },
    {
     "data": {
      "text/plain": [
       "KMs_driven         0.053239\n",
       "Price_in_rupees    1.513802\n",
       "Year              -0.343649\n",
       "dtype: float64"
      ]
     },
     "execution_count": 113,
     "metadata": {},
     "output_type": "execute_result"
    }
   ],
   "source": [
    "bikes.kurt()"
   ]
  },
  {
   "cell_type": "markdown",
   "id": "021623db",
   "metadata": {},
   "source": [
    "# Bi- variate Analysis"
   ]
  },
  {
   "cell_type": "markdown",
   "id": "6531eed4",
   "metadata": {},
   "source": [
    "# Numerical-Numerical"
   ]
  },
  {
   "cell_type": "code",
   "execution_count": 114,
   "id": "b723236b",
   "metadata": {},
   "outputs": [
    {
     "data": {
      "text/plain": [
       "<AxesSubplot:xlabel='Year', ylabel='Price_in_rupees'>"
      ]
     },
     "execution_count": 114,
     "metadata": {},
     "output_type": "execute_result"
    },
    {
     "data": {
      "image/png": "[encoded data removed]",
      "text/plain": [
       "<Figure size 432x288 with 1 Axes>"
      ]
     },
     "metadata": {
      "needs_background": "light"
     },
     "output_type": "display_data"
    }
   ],
   "source": [
    "sns.scatterplot(x=bikes['Year'],y=bikes['Price_in_rupees'],data=bikes)"
   ]
  },
  {
   "cell_type": "markdown",
   "id": "257a6c65",
   "metadata": {},
   "source": [
    "## observation:\n",
    ">**Here we can observe that if model year is incresed then price also increased**"
   ]
  },
  {
   "cell_type": "markdown",
   "id": "4428ff3c",
   "metadata": {},
   "source": [
    "# Numerical-categorical"
   ]
  },
  {
   "cell_type": "code",
   "execution_count": 115,
   "id": "53df8f2c",
   "metadata": {},
   "outputs": [
    {
     "data": {
      "image/png": "[encoded data removed]",
      "text/plain": [
       "<Figure size 432x288 with 1 Axes>"
      ]
     },
     "metadata": {
      "needs_background": "light"
     },
     "output_type": "display_data"
    }
   ],
   "source": [
    "sns.barplot(x=bikes['Name'][0:10],y=bikes['Price_in_rupees'][0:10],data=bikes)\n",
    "plt.xticks(rotation=90)\n",
    "plt.show()"
   ]
  },
  {
   "cell_type": "markdown",
   "id": "5c66d8c5",
   "metadata": {},
   "source": [
    "## Observation:\n",
    ">**Here we can observe that Aprilia storm 125 Drum model name bike have more price is 80000**"
   ]
  },
  {
   "cell_type": "code",
   "execution_count": 116,
   "id": "0772a85d",
   "metadata": {},
   "outputs": [
    {
     "data": {
      "text/plain": [
       "<AxesSubplot:xlabel='Type_owner', ylabel='KMs_driven'>"
      ]
     },
     "execution_count": 116,
     "metadata": {},
     "output_type": "execute_result"
    },
    {
     "data": {
      "image/png": "[encoded data removed]",
      "text/plain": [
       "<Figure size 432x288 with 1 Axes>"
      ]
     },
     "metadata": {
      "needs_background": "light"
     },
     "output_type": "display_data"
    }
   ],
   "source": [
    "sns.violinplot(x=bikes['Type_owner'],y=bikes['KMs_driven'])"
   ]
  },
  {
   "cell_type": "markdown",
   "id": "b777f757",
   "metadata": {},
   "source": [
    "## Observation:\n",
    ">**Here we can observe that the 2nd owner has driven most kms in the range 20000 to 40000**"
   ]
  },
  {
   "cell_type": "markdown",
   "id": "ca58f62a",
   "metadata": {},
   "source": [
    "# Categorical-categorical"
   ]
  },
  {
   "cell_type": "code",
   "execution_count": 119,
   "id": "0e4f2488",
   "metadata": {},
   "outputs": [
    {
     "data": {
      "text/html": [
       "<div>\n",
       "<style scoped>\n",
       "    .dataframe tbody tr th:only-of-type {\n",
       "        vertical-align: middle;\n",
       "    }\n",
       "\n",
       "    .dataframe tbody tr th {\n",
       "        vertical-align: top;\n",
       "    }\n",
       "\n",
       "    .dataframe thead th {\n",
       "        text-align: right;\n",
       "    }\n",
       "</style>\n",
       "<table border=\"1\" class=\"dataframe\">\n",
       "  <thead>\n",
       "    <tr style=\"text-align: right;\">\n",
       "      <th>Type_owner</th>\n",
       "      <th>1st</th>\n",
       "      <th>2nd</th>\n",
       "      <th>3rd</th>\n",
       "      <th>4th</th>\n",
       "    </tr>\n",
       "    <tr>\n",
       "      <th>Name</th>\n",
       "      <th></th>\n",
       "      <th></th>\n",
       "      <th></th>\n",
       "      <th></th>\n",
       "    </tr>\n",
       "  </thead>\n",
       "  <tbody>\n",
       "    <tr>\n",
       "      <th>Bajaj Pulsar 150 Classic</th>\n",
       "      <td>0</td>\n",
       "      <td>0</td>\n",
       "      <td>1</td>\n",
       "      <td>0</td>\n",
       "    </tr>\n",
       "    <tr>\n",
       "      <th>Hero Duet VX</th>\n",
       "      <td>1</td>\n",
       "      <td>0</td>\n",
       "      <td>0</td>\n",
       "      <td>0</td>\n",
       "    </tr>\n",
       "    <tr>\n",
       "      <th>Hero Splendor Plus Electric Start</th>\n",
       "      <td>1</td>\n",
       "      <td>0</td>\n",
       "      <td>0</td>\n",
       "      <td>0</td>\n",
       "    </tr>\n",
       "    <tr>\n",
       "      <th>Hero Xpulse 200 Fuel Injection</th>\n",
       "      <td>1</td>\n",
       "      <td>0</td>\n",
       "      <td>0</td>\n",
       "      <td>0</td>\n",
       "    </tr>\n",
       "    <tr>\n",
       "      <th>Honda Activa 3G Standard (BS III)</th>\n",
       "      <td>1</td>\n",
       "      <td>0</td>\n",
       "      <td>0</td>\n",
       "      <td>0</td>\n",
       "    </tr>\n",
       "    <tr>\n",
       "      <th>Honda CB Hornet 160R ABS - Std</th>\n",
       "      <td>1</td>\n",
       "      <td>0</td>\n",
       "      <td>0</td>\n",
       "      <td>0</td>\n",
       "    </tr>\n",
       "    <tr>\n",
       "      <th>Honda CB Unicorn Dazzler Standard</th>\n",
       "      <td>0</td>\n",
       "      <td>1</td>\n",
       "      <td>0</td>\n",
       "      <td>0</td>\n",
       "    </tr>\n",
       "    <tr>\n",
       "      <th>Honda CB Unicorn Kick Start</th>\n",
       "      <td>1</td>\n",
       "      <td>0</td>\n",
       "      <td>0</td>\n",
       "      <td>0</td>\n",
       "    </tr>\n",
       "    <tr>\n",
       "      <th>Royal Enfield Classic 350 Classic Chrome - Dual Channel ABS</th>\n",
       "      <td>1</td>\n",
       "      <td>0</td>\n",
       "      <td>0</td>\n",
       "      <td>0</td>\n",
       "    </tr>\n",
       "    <tr>\n",
       "      <th>Royal Enfield Thunderbird 500 Standard</th>\n",
       "      <td>1</td>\n",
       "      <td>0</td>\n",
       "      <td>0</td>\n",
       "      <td>0</td>\n",
       "    </tr>\n",
       "    <tr>\n",
       "      <th>Suzuki GS150R Standard</th>\n",
       "      <td>1</td>\n",
       "      <td>0</td>\n",
       "      <td>0</td>\n",
       "      <td>0</td>\n",
       "    </tr>\n",
       "    <tr>\n",
       "      <th>TVS Ntorq 125 Disc</th>\n",
       "      <td>1</td>\n",
       "      <td>0</td>\n",
       "      <td>0</td>\n",
       "      <td>0</td>\n",
       "    </tr>\n",
       "    <tr>\n",
       "      <th>TVS Ntorq 125 Race Edition - BS VI</th>\n",
       "      <td>1</td>\n",
       "      <td>0</td>\n",
       "      <td>0</td>\n",
       "      <td>0</td>\n",
       "    </tr>\n",
       "    <tr>\n",
       "      <th>Yamaha FZ S V 2.0 Standard</th>\n",
       "      <td>1</td>\n",
       "      <td>0</td>\n",
       "      <td>0</td>\n",
       "      <td>0</td>\n",
       "    </tr>\n",
       "    <tr>\n",
       "      <th>Yamaha FZ S [2012-2016] Standard</th>\n",
       "      <td>0</td>\n",
       "      <td>0</td>\n",
       "      <td>0</td>\n",
       "      <td>1</td>\n",
       "    </tr>\n",
       "  </tbody>\n",
       "</table>\n",
       "</div>"
      ],
      "text/plain": [
       "Type_owner                                          1st  2nd  3rd  4th\n",
       "Name                                                                  \n",
       "Bajaj Pulsar 150 Classic                              0    0    1    0\n",
       "Hero Duet VX                                          1    0    0    0\n",
       "Hero Splendor Plus Electric Start                     1    0    0    0\n",
       "Hero Xpulse 200 Fuel Injection                        1    0    0    0\n",
       "Honda Activa 3G Standard (BS III)                     1    0    0    0\n",
       "Honda CB Hornet 160R ABS - Std                        1    0    0    0\n",
       "Honda CB Unicorn Dazzler Standard                     0    1    0    0\n",
       "Honda CB Unicorn Kick Start                           1    0    0    0\n",
       "Royal Enfield Classic 350 Classic Chrome - Dual...    1    0    0    0\n",
       "Royal Enfield Thunderbird 500 Standard                1    0    0    0\n",
       "Suzuki GS150R Standard                                1    0    0    0\n",
       "TVS Ntorq 125 Disc                                    1    0    0    0\n",
       "TVS Ntorq 125 Race Edition - BS VI                    1    0    0    0\n",
       "Yamaha FZ S V 2.0 Standard                            1    0    0    0\n",
       "Yamaha FZ S [2012-2016] Standard                      0    0    0    1"
      ]
     },
     "execution_count": 119,
     "metadata": {},
     "output_type": "execute_result"
    }
   ],
   "source": [
    "crosstab=pd.crosstab(bikes['Name'][0:15],bikes['Type_owner'])\n",
    "crosstab"
   ]
  },
  {
   "cell_type": "code",
   "execution_count": 118,
   "id": "49ff6611",
   "metadata": {},
   "outputs": [
    {
     "data": {
      "text/plain": [
       "<AxesSubplot:xlabel='Name'>"
      ]
     },
     "execution_count": 118,
     "metadata": {},
     "output_type": "execute_result"
    },
    {
     "data": {
      "image/png": "[encoded data removed]",
      "text/plain": [
       "<Figure size 432x288 with 1 Axes>"
      ]
     },
     "metadata": {
      "needs_background": "light"
     },
     "output_type": "display_data"
    }
   ],
   "source": [
    "crosstab.plot(kind='bar',stacked=True)"
   ]
  },
  {
   "cell_type": "markdown",
   "id": "60f80b19",
   "metadata": {},
   "source": [
    "## observation:\n",
    ">**Here we can observe that most of model bikes are have 1st owners only.** "
   ]
  },
  {
   "cell_type": "markdown",
   "id": "959ba28e",
   "metadata": {},
   "source": [
    "## Multivariate anlysis"
   ]
  },
  {
   "cell_type": "code",
   "execution_count": 353,
   "id": "b1fc060d",
   "metadata": {},
   "outputs": [
    {
     "data": {
      "text/html": [
       "<div>\n",
       "<style scoped>\n",
       "    .dataframe tbody tr th:only-of-type {\n",
       "        vertical-align: middle;\n",
       "    }\n",
       "\n",
       "    .dataframe tbody tr th {\n",
       "        vertical-align: top;\n",
       "    }\n",
       "\n",
       "    .dataframe thead th {\n",
       "        text-align: right;\n",
       "    }\n",
       "</style>\n",
       "<table border=\"1\" class=\"dataframe\">\n",
       "  <thead>\n",
       "    <tr style=\"text-align: right;\">\n",
       "      <th></th>\n",
       "      <th>KMs_driven</th>\n",
       "      <th>Price_in_rupees</th>\n",
       "      <th>Year</th>\n",
       "    </tr>\n",
       "  </thead>\n",
       "  <tbody>\n",
       "    <tr>\n",
       "      <th>0</th>\n",
       "      <td>27000</td>\n",
       "      <td>90000</td>\n",
       "      <td>2018</td>\n",
       "    </tr>\n",
       "    <tr>\n",
       "      <th>1</th>\n",
       "      <td>30200</td>\n",
       "      <td>65000</td>\n",
       "      <td>2016</td>\n",
       "    </tr>\n",
       "    <tr>\n",
       "      <th>2</th>\n",
       "      <td>35000</td>\n",
       "      <td>25000</td>\n",
       "      <td>2004</td>\n",
       "    </tr>\n",
       "    <tr>\n",
       "      <th>3</th>\n",
       "      <td>12350</td>\n",
       "      <td>100000</td>\n",
       "      <td>2020</td>\n",
       "    </tr>\n",
       "    <tr>\n",
       "      <th>4</th>\n",
       "      <td>14000</td>\n",
       "      <td>120000</td>\n",
       "      <td>2016</td>\n",
       "    </tr>\n",
       "    <tr>\n",
       "      <th>...</th>\n",
       "      <td>...</td>\n",
       "      <td>...</td>\n",
       "      <td>...</td>\n",
       "    </tr>\n",
       "    <tr>\n",
       "      <th>698</th>\n",
       "      <td>61392</td>\n",
       "      <td>35000</td>\n",
       "      <td>2013</td>\n",
       "    </tr>\n",
       "    <tr>\n",
       "      <th>699</th>\n",
       "      <td>45000</td>\n",
       "      <td>40000</td>\n",
       "      <td>2015</td>\n",
       "    </tr>\n",
       "    <tr>\n",
       "      <th>700</th>\n",
       "      <td>12150</td>\n",
       "      <td>110000</td>\n",
       "      <td>2018</td>\n",
       "    </tr>\n",
       "    <tr>\n",
       "      <th>701</th>\n",
       "      <td>20000</td>\n",
       "      <td>28000</td>\n",
       "      <td>2013</td>\n",
       "    </tr>\n",
       "    <tr>\n",
       "      <th>702</th>\n",
       "      <td>30000</td>\n",
       "      <td>55000</td>\n",
       "      <td>2017</td>\n",
       "    </tr>\n",
       "  </tbody>\n",
       "</table>\n",
       "<p>703 rows × 3 columns</p>\n",
       "</div>"
      ],
      "text/plain": [
       "     KMs_driven  Price_in_rupees  Year\n",
       "0         27000            90000  2018\n",
       "1         30200            65000  2016\n",
       "2         35000            25000  2004\n",
       "3         12350           100000  2020\n",
       "4         14000           120000  2016\n",
       "..          ...              ...   ...\n",
       "698       61392            35000  2013\n",
       "699       45000            40000  2015\n",
       "700       12150           110000  2018\n",
       "701       20000            28000  2013\n",
       "702       30000            55000  2017\n",
       "\n",
       "[703 rows x 3 columns]"
      ]
     },
     "execution_count": 353,
     "metadata": {},
     "output_type": "execute_result"
    }
   ],
   "source": [
    "t1=bikes.select_dtypes(include='number')\n",
    "t1"
   ]
  },
  {
   "cell_type": "code",
   "execution_count": 354,
   "id": "3e17e154",
   "metadata": {},
   "outputs": [
    {
     "data": {
      "text/plain": [
       "<AxesSubplot:>"
      ]
     },
     "execution_count": 354,
     "metadata": {},
     "output_type": "execute_result"
    },
    {
     "data": {
      "image/png": "[encoded data removed]",
      "text/plain": [
       "<Figure size 432x288 with 2 Axes>"
      ]
     },
     "metadata": {
      "needs_background": "light"
     },
     "output_type": "display_data"
    }
   ],
   "source": [
    "sns.heatmap(t1.corr(),annot=True)"
   ]
  },
  {
   "cell_type": "markdown",
   "id": "9d3de00b",
   "metadata": {},
   "source": [
    "## Observation:\n",
    ">**Here we can observe that model and price has positive correlation means if model year is increased then price is also increased**"
   ]
  },
  {
   "cell_type": "code",
   "execution_count": 355,
   "id": "a5592a20",
   "metadata": {},
   "outputs": [
    {
     "data": {
      "text/plain": [
       "<seaborn.axisgrid.PairGrid at 0x1ae592a1fa0>"
      ]
     },
     "execution_count": 355,
     "metadata": {},
     "output_type": "execute_result"
    },
    {
     "data": {
      "image/png": "[encoded data removed]",
      "text/plain": [
       "<Figure size 606.5x540 with 12 Axes>"
      ]
     },
     "metadata": {
      "needs_background": "light"
     },
     "output_type": "display_data"
    }
   ],
   "source": [
    "sns.pairplot(data=bikes,hue='Type_owner')"
   ]
  },
  {
   "cell_type": "code",
   "execution_count": 356,
   "id": "4c2c5ad1",
   "metadata": {},
   "outputs": [
    {
     "data": {
      "image/png": "[encoded data removed]",
      "text/plain": [
       "<Figure size 720x648 with 1 Axes>"
      ]
     },
     "metadata": {
      "needs_background": "light"
     },
     "output_type": "display_data"
    }
   ],
   "source": [
    "plt.figure(figsize=[10,9])\n",
    "sns.scatterplot(x=bikes['Name'][0:30],y=bikes['Price_in_rupees'],hue='Type_owner',data=bikes)\n",
    "plt.xticks(rotation=90)\n",
    "plt.show()"
   ]
  },
  {
   "cell_type": "markdown",
   "id": "7f35b891",
   "metadata": {},
   "source": [
    "## Observation:\n",
    ">**Here we can observe that most of models have 1st owner with the price above 50000**"
   ]
  },
  {
   "cell_type": "code",
   "execution_count": 3,
   "id": "0c8a678c",
   "metadata": {},
   "outputs": [
    {
     "ename": "NameError",
     "evalue": "name 'bikes' is not defined",
     "output_type": "error",
     "traceback": [
      "\u001b[1;31m---------------------------------------------------------------------------\u001b[0m",
      "\u001b[1;31mNameError\u001b[0m                                 Traceback (most recent call last)",
      "Input \u001b[1;32mIn [3]\u001b[0m, in \u001b[0;36m<cell line: 1>\u001b[1;34m()\u001b[0m\n\u001b[1;32m----> 1\u001b[0m sns\u001b[38;5;241m.\u001b[39mscatterplot(x\u001b[38;5;241m=\u001b[39m\u001b[43mbikes\u001b[49m[\u001b[38;5;124m'\u001b[39m\u001b[38;5;124mYear\u001b[39m\u001b[38;5;124m'\u001b[39m][\u001b[38;5;241m0\u001b[39m:\u001b[38;5;241m30\u001b[39m],y\u001b[38;5;241m=\u001b[39mbikes[\u001b[38;5;124m'\u001b[39m\u001b[38;5;124mPrice_in_rupees\u001b[39m\u001b[38;5;124m'\u001b[39m],hue\u001b[38;5;241m=\u001b[39mbikes[\u001b[38;5;124m'\u001b[39m\u001b[38;5;124mName\u001b[39m\u001b[38;5;124m'\u001b[39m][\u001b[38;5;241m0\u001b[39m:\u001b[38;5;241m6\u001b[39m],data\u001b[38;5;241m=\u001b[39mbikes)\n\u001b[0;32m      2\u001b[0m plt\u001b[38;5;241m.\u001b[39mxticks(rotation\u001b[38;5;241m=\u001b[39m\u001b[38;5;241m90\u001b[39m)\n\u001b[0;32m      3\u001b[0m plt\u001b[38;5;241m.\u001b[39mlegend(bbox_to_anchor\u001b[38;5;241m=\u001b[39m(\u001b[38;5;241m1.5\u001b[39m,\u001b[38;5;241m1\u001b[39m))\n",
      "\u001b[1;31mNameError\u001b[0m: name 'bikes' is not defined"
     ]
    }
   ],
   "source": [
    "sns.scatterplot(x=bikes['Year'][0:30],y=bikes['Price_in_rupees'],hue=bikes['Name'][0:6],data=bikes)\n",
    "plt.xticks(rotation=90)\n",
    "plt.legend(bbox_to_anchor=(1.5,1))\n",
    "plt.show()"
   ]
  },
  {
   "cell_type": "markdown",
   "id": "bd91ce7c",
   "metadata": {},
   "source": [
    "## Observation:\n",
    ">**2018 model have two bikes names Aprilia SR150[2017-2018] standard and Suzuki Gixxer SF[2015-2018] ABS with the price 70k and 75k** "
   ]
  },
  {
   "cell_type": "code",
   "execution_count": 358,
   "id": "687f5c79",
   "metadata": {
    "scrolled": false
   },
   "outputs": [
    {
     "data": {
      "image/png": "[encoded data removed]",
      "text/plain": [
       "<Figure size 432x288 with 1 Axes>"
      ]
     },
     "metadata": {
      "needs_background": "light"
     },
     "output_type": "display_data"
    }
   ],
   "source": [
    "sns.barplot(x=bikes['Name'][0:10],y=bikes['Price_in_rupees'],hue=bikes['Location'][0:10],data=bikes)\n",
    "plt.xticks(rotation=90)\n",
    "plt.show()"
   ]
  },
  {
   "cell_type": "markdown",
   "id": "2031adba",
   "metadata": {},
   "source": [
    "## Observation:\n",
    ">**In bangalore city Aprilia storm 125 Drum bikes are most price is 80k**"
   ]
  },
  {
   "cell_type": "code",
   "execution_count": 359,
   "id": "43fdd2c5",
   "metadata": {},
   "outputs": [
    {
     "data": {
      "text/plain": [
       "0                 Yamaha YZF R15 [2011-2018] V 2.0 \n",
       "1            Yamaha FZ S V 2.0 DarkNight-Rear Drum \n",
       "2                      Hero Honda CD Dawn Standard \n",
       "3      TVS Apache RTR 160 Front Disc - ABS - BS VI \n",
       "4           Royal Enfield Thunderbird 500 Standard \n",
       "                           ...                     \n",
       "698          Honda Dream Yuga Electric Start/Alloy \n",
       "699               Bajaj Platina 100 Alloy Wheel ES \n",
       "700       Yamaha YZF R15 V3 [2018 - 2021] Standard \n",
       "701                          Hero Maestro Standard \n",
       "702              Hero Splendor Plus Electric Start \n",
       "Name: Name, Length: 703, dtype: object"
      ]
     },
     "execution_count": 359,
     "metadata": {},
     "output_type": "execute_result"
    }
   ],
   "source": [
    "bikes['Name']"
   ]
  },
  {
   "cell_type": "code",
   "execution_count": 360,
   "id": "17828353",
   "metadata": {},
   "outputs": [
    {
     "data": {
      "text/html": [
       "<div>\n",
       "<style scoped>\n",
       "    .dataframe tbody tr th:only-of-type {\n",
       "        vertical-align: middle;\n",
       "    }\n",
       "\n",
       "    .dataframe tbody tr th {\n",
       "        vertical-align: top;\n",
       "    }\n",
       "\n",
       "    .dataframe thead th {\n",
       "        text-align: right;\n",
       "    }\n",
       "</style>\n",
       "<table border=\"1\" class=\"dataframe\">\n",
       "  <thead>\n",
       "    <tr style=\"text-align: right;\">\n",
       "      <th></th>\n",
       "      <th>Location</th>\n",
       "      <th>year</th>\n",
       "      <th>KMs_driven</th>\n",
       "      <th>Price_in_rupees</th>\n",
       "      <th>posted_on</th>\n",
       "      <th>Type_owner</th>\n",
       "      <th>Name</th>\n",
       "      <th>Year</th>\n",
       "    </tr>\n",
       "  </thead>\n",
       "  <tbody>\n",
       "    <tr>\n",
       "      <th>307</th>\n",
       "      <td>Surat</td>\n",
       "      <td>2011 model</td>\n",
       "      <td>28500</td>\n",
       "      <td>30000</td>\n",
       "      <td>21 November 2022</td>\n",
       "      <td>3rd</td>\n",
       "      <td>Bajaj Discover125 Kick</td>\n",
       "      <td>2011</td>\n",
       "    </tr>\n",
       "    <tr>\n",
       "      <th>387</th>\n",
       "      <td>Faridabad</td>\n",
       "      <td>2014 model</td>\n",
       "      <td>25000</td>\n",
       "      <td>35000</td>\n",
       "      <td>19 September 2022</td>\n",
       "      <td>3rd</td>\n",
       "      <td>Hero Splendor PRO Self Drum Black Alloy</td>\n",
       "      <td>2014</td>\n",
       "    </tr>\n",
       "    <tr>\n",
       "      <th>456</th>\n",
       "      <td>Aurangabad</td>\n",
       "      <td>2011 model</td>\n",
       "      <td>28500</td>\n",
       "      <td>30000</td>\n",
       "      <td>16 October 2022</td>\n",
       "      <td>3rd</td>\n",
       "      <td>Hero Xtreme [2013-2014] Rear Drum Brake</td>\n",
       "      <td>2011</td>\n",
       "    </tr>\n",
       "    <tr>\n",
       "      <th>488</th>\n",
       "      <td>Patna</td>\n",
       "      <td>2011 model</td>\n",
       "      <td>60000</td>\n",
       "      <td>25000</td>\n",
       "      <td>16 November 2022</td>\n",
       "      <td>3rd</td>\n",
       "      <td>Bajaj Pulsar 150 Standard</td>\n",
       "      <td>2011</td>\n",
       "    </tr>\n",
       "    <tr>\n",
       "      <th>599</th>\n",
       "      <td>Jamshedpur</td>\n",
       "      <td>2013 model</td>\n",
       "      <td>62000</td>\n",
       "      <td>45000</td>\n",
       "      <td>06 September 2022</td>\n",
       "      <td>3rd</td>\n",
       "      <td>Bajaj Pulsar 220 F Standard</td>\n",
       "      <td>2013</td>\n",
       "    </tr>\n",
       "    <tr>\n",
       "      <th>612</th>\n",
       "      <td>Kolhapur</td>\n",
       "      <td>2019 model</td>\n",
       "      <td>25000</td>\n",
       "      <td>60000</td>\n",
       "      <td>13 October 2022</td>\n",
       "      <td>3rd</td>\n",
       "      <td>Honda Dio DLX - BS IV (2019)</td>\n",
       "      <td>2019</td>\n",
       "    </tr>\n",
       "    <tr>\n",
       "      <th>694</th>\n",
       "      <td>Mohali</td>\n",
       "      <td>2012 model</td>\n",
       "      <td>27000</td>\n",
       "      <td>25000</td>\n",
       "      <td>17 November 2022</td>\n",
       "      <td>3rd</td>\n",
       "      <td>Honda CB Twister Disc/Electric start</td>\n",
       "      <td>2012</td>\n",
       "    </tr>\n",
       "  </tbody>\n",
       "</table>\n",
       "</div>"
      ],
      "text/plain": [
       "        Location        year  KMs_driven  Price_in_rupees           posted_on  \\\n",
       "307       Surat   2011 model       28500            30000   21 November 2022    \n",
       "387   Faridabad   2014 model       25000            35000  19 September 2022    \n",
       "456  Aurangabad   2011 model       28500            30000    16 October 2022    \n",
       "488       Patna   2011 model       60000            25000   16 November 2022    \n",
       "599  Jamshedpur   2013 model       62000            45000  06 September 2022    \n",
       "612    Kolhapur   2019 model       25000            60000    13 October 2022    \n",
       "694      Mohali   2012 model       27000            25000   17 November 2022    \n",
       "\n",
       "    Type_owner                                      Name  Year  \n",
       "307        3rd                   Bajaj Discover125 Kick   2011  \n",
       "387        3rd  Hero Splendor PRO Self Drum Black Alloy   2014  \n",
       "456        3rd  Hero Xtreme [2013-2014] Rear Drum Brake   2011  \n",
       "488        3rd                Bajaj Pulsar 150 Standard   2011  \n",
       "599        3rd              Bajaj Pulsar 220 F Standard   2013  \n",
       "612        3rd             Honda Dio DLX - BS IV (2019)   2019  \n",
       "694        3rd     Honda CB Twister Disc/Electric start   2012  "
      ]
     },
     "execution_count": 360,
     "metadata": {},
     "output_type": "execute_result"
    }
   ],
   "source": [
    "bikes[(bikes['Year']<=2021)  & (bikes['Price_in_rupees']<=100000) & (bikes['Type_owner']=='3rd')]"
   ]
  },
  {
   "cell_type": "code",
   "execution_count": 1,
   "id": "cccd23a7",
   "metadata": {},
   "outputs": [
    {
     "name": "stdout",
     "output_type": "stream",
     "text": [
      "please enter for which Year you are looking for:2021\n",
      "please enter for which price you are looking for:100000\n",
      "please enter for which Type_owner you are looking for:3rd\n"
     ]
    }
   ],
   "source": [
    "x=int(input(\"please enter for which Year you are looking for:\"))\n",
    "y=int(input(\"please enter for which price you are looking for:\"))\n",
    "b=input(\"please enter for which Type_owner you are looking for:\")\n",
    "\n"
   ]
  },
  {
   "cell_type": "code",
   "execution_count": 158,
   "id": "d23e60c2",
   "metadata": {},
   "outputs": [
    {
     "data": {
      "text/html": [
       "<div>\n",
       "<style scoped>\n",
       "    .dataframe tbody tr th:only-of-type {\n",
       "        vertical-align: middle;\n",
       "    }\n",
       "\n",
       "    .dataframe tbody tr th {\n",
       "        vertical-align: top;\n",
       "    }\n",
       "\n",
       "    .dataframe thead th {\n",
       "        text-align: right;\n",
       "    }\n",
       "</style>\n",
       "<table border=\"1\" class=\"dataframe\">\n",
       "  <thead>\n",
       "    <tr style=\"text-align: right;\">\n",
       "      <th></th>\n",
       "      <th>Location</th>\n",
       "      <th>Model</th>\n",
       "      <th>KMs_driven</th>\n",
       "      <th>Price_in_rupees</th>\n",
       "      <th>posted_on</th>\n",
       "      <th>Type_owner</th>\n",
       "      <th>Name</th>\n",
       "    </tr>\n",
       "  </thead>\n",
       "  <tbody>\n",
       "    <tr>\n",
       "      <th>10</th>\n",
       "      <td>Bangalore</td>\n",
       "      <td>2013</td>\n",
       "      <td>49000</td>\n",
       "      <td>28000</td>\n",
       "      <td>18 November 2022</td>\n",
       "      <td>1st</td>\n",
       "      <td>Bajaj Discover 125 ST Standard</td>\n",
       "    </tr>\n",
       "    <tr>\n",
       "      <th>16</th>\n",
       "      <td>Bangalore</td>\n",
       "      <td>2011</td>\n",
       "      <td>50000</td>\n",
       "      <td>20000</td>\n",
       "      <td>17 November 2022</td>\n",
       "      <td>1st</td>\n",
       "      <td>Hero Honda Hunk Standard</td>\n",
       "    </tr>\n",
       "    <tr>\n",
       "      <th>21</th>\n",
       "      <td>Mumbai</td>\n",
       "      <td>2009</td>\n",
       "      <td>35000</td>\n",
       "      <td>40000</td>\n",
       "      <td>20 November 2022</td>\n",
       "      <td>1st</td>\n",
       "      <td>Yamaha FZ16 Standard</td>\n",
       "    </tr>\n",
       "    <tr>\n",
       "      <th>29</th>\n",
       "      <td>Mumbai</td>\n",
       "      <td>2012</td>\n",
       "      <td>8000</td>\n",
       "      <td>40000</td>\n",
       "      <td>14 November 2022</td>\n",
       "      <td>1st</td>\n",
       "      <td>Vespa VX 125 Standard</td>\n",
       "    </tr>\n",
       "    <tr>\n",
       "      <th>37</th>\n",
       "      <td>Mumbai</td>\n",
       "      <td>2014</td>\n",
       "      <td>40000</td>\n",
       "      <td>35000</td>\n",
       "      <td>10 November 2022</td>\n",
       "      <td>1st</td>\n",
       "      <td>Bajaj Discover 150F Disc</td>\n",
       "    </tr>\n",
       "    <tr>\n",
       "      <th>...</th>\n",
       "      <td>...</td>\n",
       "      <td>...</td>\n",
       "      <td>...</td>\n",
       "      <td>...</td>\n",
       "      <td>...</td>\n",
       "      <td>...</td>\n",
       "      <td>...</td>\n",
       "    </tr>\n",
       "    <tr>\n",
       "      <th>690</th>\n",
       "      <td>Jodhpur</td>\n",
       "      <td>2012</td>\n",
       "      <td>62000</td>\n",
       "      <td>25000</td>\n",
       "      <td>07 September 2022</td>\n",
       "      <td>1st</td>\n",
       "      <td>Hero Honda Splendor Plus Drum</td>\n",
       "    </tr>\n",
       "    <tr>\n",
       "      <th>702</th>\n",
       "      <td>Mohali</td>\n",
       "      <td>2012</td>\n",
       "      <td>27560</td>\n",
       "      <td>20000</td>\n",
       "      <td>28 October 2022</td>\n",
       "      <td>1st</td>\n",
       "      <td>Honda Shine Electric Start/Drum/Alloy (BS III)</td>\n",
       "    </tr>\n",
       "    <tr>\n",
       "      <th>703</th>\n",
       "      <td>Mohali</td>\n",
       "      <td>2013</td>\n",
       "      <td>61392</td>\n",
       "      <td>35000</td>\n",
       "      <td>25 October 2022</td>\n",
       "      <td>1st</td>\n",
       "      <td>Honda Dream Yuga Electric Start/Alloy</td>\n",
       "    </tr>\n",
       "    <tr>\n",
       "      <th>704</th>\n",
       "      <td>Mohali</td>\n",
       "      <td>2015</td>\n",
       "      <td>45000</td>\n",
       "      <td>40000</td>\n",
       "      <td>04 October 2022</td>\n",
       "      <td>1st</td>\n",
       "      <td>Bajaj Platina 100 Alloy Wheel ES</td>\n",
       "    </tr>\n",
       "    <tr>\n",
       "      <th>706</th>\n",
       "      <td>Mohali</td>\n",
       "      <td>2013</td>\n",
       "      <td>20000</td>\n",
       "      <td>28000</td>\n",
       "      <td>01 September 2022</td>\n",
       "      <td>1st</td>\n",
       "      <td>Hero Maestro Standard</td>\n",
       "    </tr>\n",
       "  </tbody>\n",
       "</table>\n",
       "<p>193 rows × 7 columns</p>\n",
       "</div>"
      ],
      "text/plain": [
       "       Location  Model  KMs_driven  Price_in_rupees           posted_on  \\\n",
       "10   Bangalore    2013       49000            28000   18 November 2022    \n",
       "16   Bangalore    2011       50000            20000   17 November 2022    \n",
       "21      Mumbai    2009       35000            40000   20 November 2022    \n",
       "29      Mumbai    2012        8000            40000   14 November 2022    \n",
       "37      Mumbai    2014       40000            35000   10 November 2022    \n",
       "..          ...    ...         ...              ...                 ...   \n",
       "690    Jodhpur    2012       62000            25000  07 September 2022    \n",
       "702     Mohali    2012       27560            20000    28 October 2022    \n",
       "703     Mohali    2013       61392            35000    25 October 2022    \n",
       "704     Mohali    2015       45000            40000    04 October 2022    \n",
       "706     Mohali    2013       20000            28000  01 September 2022    \n",
       "\n",
       "    Type_owner                                             Name  \n",
       "10         1st                  Bajaj Discover 125 ST Standard   \n",
       "16         1st                        Hero Honda Hunk Standard   \n",
       "21         1st                            Yamaha FZ16 Standard   \n",
       "29         1st                           Vespa VX 125 Standard   \n",
       "37         1st                        Bajaj Discover 150F Disc   \n",
       "..         ...                                              ...  \n",
       "690        1st                   Hero Honda Splendor Plus Drum   \n",
       "702        1st  Honda Shine Electric Start/Drum/Alloy (BS III)   \n",
       "703        1st           Honda Dream Yuga Electric Start/Alloy   \n",
       "704        1st                Bajaj Platina 100 Alloy Wheel ES   \n",
       "706        1st                           Hero Maestro Standard   \n",
       "\n",
       "[193 rows x 7 columns]"
      ]
     },
     "execution_count": 158,
     "metadata": {},
     "output_type": "execute_result"
    }
   ],
   "source": [
    "bikes[(bikes['Year']<=x)  & (bikes['Price_in_rupees']<=y) & (bikes['Type_owner']==b)]"
   ]
  }
 ],
 "metadata": {
  "kernelspec": {
   "display_name": "Python 3 (ipykernel)",
   "language": "python",
   "name": "python3"
  },
  "language_info": {
   "codemirror_mode": {
    "name": "ipython",
    "version": 3
   },
   "file_extension": ".py",
   "mimetype": "text/x-python",
   "name": "python",
   "nbconvert_exporter": "python",
   "pygments_lexer": "ipython3",
   "version": "3.9.12"
  }
 },
 "nbformat": 4,
 "nbformat_minor": 5
}
